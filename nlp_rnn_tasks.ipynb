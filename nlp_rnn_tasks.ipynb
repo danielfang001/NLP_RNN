{
  "cells": [
    {
      "cell_type": "markdown",
      "source": [
        "#Practice Project on NLP and RNNs\n",
        "\n",
        "\n",
        "In this notebook, we will consider a text classification task and try solving it with several basic NLP models:\n",
        "* bag-of-words + linear model\n",
        "* word2vec + linear model\n",
        "* recurrent neural networks\n",
        "* long short-term memories\n",
        "\n",
        "Particularly, we will be building a classifier which predicts whether a movie review is positive or negative."
      ],
      "metadata": {
        "id": "MTDGAEZmr3BZ"
      }
    },
    {
      "cell_type": "markdown",
      "metadata": {
        "id": "kNkJ2HGViIrL"
      },
      "source": [
        "# Part 0: Download data\n",
        "\n",
        "A library called `dataget` is used to download data, as it provides a convenient interface for the dataset we want to use, [IMDB](https://ai.stanford.edu/~amaas/data/sentiment/). If you wish to work with your custom dataset, you can upload it to Google Colab directly, download it with `!wget <link_to_dataset>` or to search for libraries which can download it for you."
      ]
    },
    {
      "cell_type": "code",
      "execution_count": null,
      "metadata": {
        "id": "apWJLYBChEih",
        "outputId": "b85f0712-4afd-4b40-ae15-70cccf9250e8",
        "colab": {
          "base_uri": "https://localhost:8080/"
        }
      },
      "outputs": [
        {
          "output_type": "stream",
          "name": "stdout",
          "text": [
            "Collecting dataget\n",
            "  Downloading dataget-0.4.15-py3-none-any.whl (16 kB)\n",
            "Collecting aiofiles<0.5.0,>=0.4.0 (from dataget)\n",
            "  Downloading aiofiles-0.4.0-py3-none-any.whl (9.2 kB)\n",
            "Collecting httpx<0.12.0,>=0.11.1 (from dataget)\n",
            "  Downloading httpx-0.11.1-py2.py3-none-any.whl (77 kB)\n",
            "\u001b[2K     \u001b[90m━━━━━━━━━━━━━━━━━━━━━━━━━━━━━━━━━━━━━━━━\u001b[0m \u001b[32m77.5/77.5 kB\u001b[0m \u001b[31m3.4 MB/s\u001b[0m eta \u001b[36m0:00:00\u001b[0m\n",
            "\u001b[?25hCollecting idx2numpy<2.0.0,>=1.2.2 (from dataget)\n",
            "  Downloading idx2numpy-1.2.3.tar.gz (6.8 kB)\n",
            "  Preparing metadata (setup.py) ... \u001b[?25l\u001b[?25hdone\n",
            "Requirement already satisfied: kaggle<2.0.0,>=1.5.6 in /usr/local/lib/python3.10/dist-packages (from dataget) (1.5.16)\n",
            "Requirement already satisfied: numpy<2.0.0,>=1.18.1 in /usr/local/lib/python3.10/dist-packages (from dataget) (1.23.5)\n",
            "Requirement already satisfied: pandas<2.0.0,>=1.0.1 in /usr/local/lib/python3.10/dist-packages (from dataget) (1.5.3)\n",
            "Requirement already satisfied: tqdm<5.0.0,>=4.42.1 in /usr/local/lib/python3.10/dist-packages (from dataget) (4.66.1)\n",
            "Requirement already satisfied: certifi in /usr/local/lib/python3.10/dist-packages (from httpx<0.12.0,>=0.11.1->dataget) (2023.11.17)\n",
            "Collecting hstspreload (from httpx<0.12.0,>=0.11.1->dataget)\n",
            "  Downloading hstspreload-2023.1.1-py3-none-any.whl (1.5 MB)\n",
            "\u001b[2K     \u001b[90m━━━━━━━━━━━━━━━━━━━━━━━━━━━━━━━━━━━━━━━━\u001b[0m \u001b[32m1.5/1.5 MB\u001b[0m \u001b[31m48.9 MB/s\u001b[0m eta \u001b[36m0:00:00\u001b[0m\n",
            "\u001b[?25hCollecting chardet==3.* (from httpx<0.12.0,>=0.11.1->dataget)\n",
            "  Downloading chardet-3.0.4-py2.py3-none-any.whl (133 kB)\n",
            "\u001b[2K     \u001b[90m━━━━━━━━━━━━━━━━━━━━━━━━━━━━━━━━━━━━━━━━\u001b[0m \u001b[32m133.4/133.4 kB\u001b[0m \u001b[31m19.7 MB/s\u001b[0m eta \u001b[36m0:00:00\u001b[0m\n",
            "\u001b[?25hCollecting h11<0.10,>=0.8 (from httpx<0.12.0,>=0.11.1->dataget)\n",
            "  Downloading h11-0.9.0-py2.py3-none-any.whl (53 kB)\n",
            "\u001b[2K     \u001b[90m━━━━━━━━━━━━━━━━━━━━━━━━━━━━━━━━━━━━━━━━\u001b[0m \u001b[32m53.6/53.6 kB\u001b[0m \u001b[31m5.9 MB/s\u001b[0m eta \u001b[36m0:00:00\u001b[0m\n",
            "\u001b[?25hCollecting h2==3.* (from httpx<0.12.0,>=0.11.1->dataget)\n",
            "  Downloading h2-3.2.0-py2.py3-none-any.whl (65 kB)\n",
            "\u001b[2K     \u001b[90m━━━━━━━━━━━━━━━━━━━━━━━━━━━━━━━━━━━━━━━━\u001b[0m \u001b[32m65.0/65.0 kB\u001b[0m \u001b[31m8.6 MB/s\u001b[0m eta \u001b[36m0:00:00\u001b[0m\n",
            "\u001b[?25hCollecting idna==2.* (from httpx<0.12.0,>=0.11.1->dataget)\n",
            "  Downloading idna-2.10-py2.py3-none-any.whl (58 kB)\n",
            "\u001b[2K     \u001b[90m━━━━━━━━━━━━━━━━━━━━━━━━━━━━━━━━━━━━━━━━\u001b[0m \u001b[32m58.8/58.8 kB\u001b[0m \u001b[31m8.7 MB/s\u001b[0m eta \u001b[36m0:00:00\u001b[0m\n",
            "\u001b[?25hCollecting rfc3986<2,>=1.3 (from httpx<0.12.0,>=0.11.1->dataget)\n",
            "  Downloading rfc3986-1.5.0-py2.py3-none-any.whl (31 kB)\n",
            "Requirement already satisfied: sniffio==1.* in /usr/local/lib/python3.10/dist-packages (from httpx<0.12.0,>=0.11.1->dataget) (1.3.0)\n",
            "Collecting urllib3==1.* (from httpx<0.12.0,>=0.11.1->dataget)\n",
            "  Downloading urllib3-1.26.18-py2.py3-none-any.whl (143 kB)\n",
            "\u001b[2K     \u001b[90m━━━━━━━━━━━━━━━━━━━━━━━━━━━━━━━━━━━━━━━━\u001b[0m \u001b[32m143.8/143.8 kB\u001b[0m \u001b[31m17.1 MB/s\u001b[0m eta \u001b[36m0:00:00\u001b[0m\n",
            "\u001b[?25hCollecting hyperframe<6,>=5.2.0 (from h2==3.*->httpx<0.12.0,>=0.11.1->dataget)\n",
            "  Downloading hyperframe-5.2.0-py2.py3-none-any.whl (12 kB)\n",
            "Collecting hpack<4,>=3.0 (from h2==3.*->httpx<0.12.0,>=0.11.1->dataget)\n",
            "  Downloading hpack-3.0.0-py2.py3-none-any.whl (38 kB)\n",
            "Requirement already satisfied: six in /usr/local/lib/python3.10/dist-packages (from idx2numpy<2.0.0,>=1.2.2->dataget) (1.16.0)\n",
            "Requirement already satisfied: python-dateutil in /usr/local/lib/python3.10/dist-packages (from kaggle<2.0.0,>=1.5.6->dataget) (2.8.2)\n",
            "Requirement already satisfied: requests in /usr/local/lib/python3.10/dist-packages (from kaggle<2.0.0,>=1.5.6->dataget) (2.31.0)\n",
            "Requirement already satisfied: python-slugify in /usr/local/lib/python3.10/dist-packages (from kaggle<2.0.0,>=1.5.6->dataget) (8.0.1)\n",
            "Requirement already satisfied: bleach in /usr/local/lib/python3.10/dist-packages (from kaggle<2.0.0,>=1.5.6->dataget) (6.1.0)\n",
            "Requirement already satisfied: pytz>=2020.1 in /usr/local/lib/python3.10/dist-packages (from pandas<2.0.0,>=1.0.1->dataget) (2023.3.post1)\n",
            "Requirement already satisfied: webencodings in /usr/local/lib/python3.10/dist-packages (from bleach->kaggle<2.0.0,>=1.5.6->dataget) (0.5.1)\n",
            "Requirement already satisfied: text-unidecode>=1.3 in /usr/local/lib/python3.10/dist-packages (from python-slugify->kaggle<2.0.0,>=1.5.6->dataget) (1.3)\n",
            "Requirement already satisfied: charset-normalizer<4,>=2 in /usr/local/lib/python3.10/dist-packages (from requests->kaggle<2.0.0,>=1.5.6->dataget) (3.3.2)\n",
            "Building wheels for collected packages: idx2numpy\n",
            "  Building wheel for idx2numpy (setup.py) ... \u001b[?25l\u001b[?25hdone\n",
            "  Created wheel for idx2numpy: filename=idx2numpy-1.2.3-py3-none-any.whl size=7905 sha256=4d056d27eb88cc7ff0902a8ea7b8b737f48a7912cd8f51a879368aad126a174c\n",
            "  Stored in directory: /root/.cache/pip/wheels/e0/f4/e7/643fc5f932ec2ff92997f43f007660feb23f948aa8486f1107\n",
            "Successfully built idx2numpy\n",
            "Installing collected packages: rfc3986, hyperframe, hpack, h11, chardet, aiofiles, urllib3, idx2numpy, idna, hstspreload, h2, httpx, dataget\n",
            "  Attempting uninstall: chardet\n",
            "    Found existing installation: chardet 5.2.0\n",
            "    Uninstalling chardet-5.2.0:\n",
            "      Successfully uninstalled chardet-5.2.0\n",
            "  Attempting uninstall: urllib3\n",
            "    Found existing installation: urllib3 2.0.7\n",
            "    Uninstalling urllib3-2.0.7:\n",
            "      Successfully uninstalled urllib3-2.0.7\n",
            "  Attempting uninstall: idna\n",
            "    Found existing installation: idna 3.6\n",
            "    Uninstalling idna-3.6:\n",
            "      Successfully uninstalled idna-3.6\n",
            "Successfully installed aiofiles-0.4.0 chardet-3.0.4 dataget-0.4.15 h11-0.9.0 h2-3.2.0 hpack-3.0.0 hstspreload-2023.1.1 httpx-0.11.1 hyperframe-5.2.0 idna-2.10 idx2numpy-1.2.3 rfc3986-1.5.0 urllib3-1.26.18\n"
          ]
        }
      ],
      "source": [
        "!pip install dataget\n",
        "# Google Colab has only some of python libraries preinstalled\n",
        "# others can be downloaded with pip, ! means using a command line tool"
      ]
    },
    {
      "cell_type": "code",
      "execution_count": null,
      "metadata": {
        "id": "ziE2cDe9ebZP",
        "colab": {
          "base_uri": "https://localhost:8080/"
        },
        "outputId": "4734d3bc-4ad8-4247-fbcc-111dd369de06"
      },
      "outputs": [
        {
          "output_type": "stream",
          "name": "stderr",
          "text": [
            "Downloading aclImdb_v1.tar.gz:100%|██████████|80.23MB/80.23MB [00:25<00:00, 3.09MB/s]\n",
            "Extracting aclImdb_v1.tar.gz: 100%|██████████| 100019/100019 [00:13<00:00, 7335.84it/s]\n"
          ]
        }
      ],
      "source": [
        "import dataget\n",
        "\n",
        "df_train, df_test = dataget.text.imdb_reviews().get()\n",
        "\n",
        "df_train.reset_index(drop=True, inplace=True)"
      ]
    },
    {
      "cell_type": "code",
      "execution_count": null,
      "metadata": {
        "colab": {
          "base_uri": "https://localhost:8080/"
        },
        "id": "68CS4ftXhrPe",
        "outputId": "b3e290cd-74e4-4a39-85df-dc0dbbf531c5"
      },
      "outputs": [
        {
          "output_type": "execute_result",
          "data": {
            "text/plain": [
              "                                           text_path  \\\n",
              "0  data/text_imdb_reviews/aclImdb/train/pos/10841...   \n",
              "1  data/text_imdb_reviews/aclImdb/train/pos/835_8...   \n",
              "2  data/text_imdb_reviews/aclImdb/train/pos/5994_...   \n",
              "3  data/text_imdb_reviews/aclImdb/train/pos/9963_...   \n",
              "4  data/text_imdb_reviews/aclImdb/train/pos/7329_...   \n",
              "\n",
              "                                                text  label  \n",
              "0  If you need cheering up on a cold weekday even...      1  \n",
              "1  Pierce Brosnan the newest but no longer James ...      1  \n",
              "2  I had pleasure to watch the short film \"The Cu...      1  \n",
              "3  I saw this movie when I was a little girl. And...      1  \n",
              "4  I really enjoyed this movie. The humor was a b...      1  "
            ],
            "text/html": [
              "\n",
              "  <div id=\"df-77948cac-281e-4c08-8006-fbfdc88c0a02\" class=\"colab-df-container\">\n",
              "    <div>\n",
              "<style scoped>\n",
              "    .dataframe tbody tr th:only-of-type {\n",
              "        vertical-align: middle;\n",
              "    }\n",
              "\n",
              "    .dataframe tbody tr th {\n",
              "        vertical-align: top;\n",
              "    }\n",
              "\n",
              "    .dataframe thead th {\n",
              "        text-align: right;\n",
              "    }\n",
              "</style>\n",
              "<table border=\"1\" class=\"dataframe\">\n",
              "  <thead>\n",
              "    <tr style=\"text-align: right;\">\n",
              "      <th></th>\n",
              "      <th>text_path</th>\n",
              "      <th>text</th>\n",
              "      <th>label</th>\n",
              "    </tr>\n",
              "  </thead>\n",
              "  <tbody>\n",
              "    <tr>\n",
              "      <th>0</th>\n",
              "      <td>data/text_imdb_reviews/aclImdb/train/pos/10841...</td>\n",
              "      <td>If you need cheering up on a cold weekday even...</td>\n",
              "      <td>1</td>\n",
              "    </tr>\n",
              "    <tr>\n",
              "      <th>1</th>\n",
              "      <td>data/text_imdb_reviews/aclImdb/train/pos/835_8...</td>\n",
              "      <td>Pierce Brosnan the newest but no longer James ...</td>\n",
              "      <td>1</td>\n",
              "    </tr>\n",
              "    <tr>\n",
              "      <th>2</th>\n",
              "      <td>data/text_imdb_reviews/aclImdb/train/pos/5994_...</td>\n",
              "      <td>I had pleasure to watch the short film \"The Cu...</td>\n",
              "      <td>1</td>\n",
              "    </tr>\n",
              "    <tr>\n",
              "      <th>3</th>\n",
              "      <td>data/text_imdb_reviews/aclImdb/train/pos/9963_...</td>\n",
              "      <td>I saw this movie when I was a little girl. And...</td>\n",
              "      <td>1</td>\n",
              "    </tr>\n",
              "    <tr>\n",
              "      <th>4</th>\n",
              "      <td>data/text_imdb_reviews/aclImdb/train/pos/7329_...</td>\n",
              "      <td>I really enjoyed this movie. The humor was a b...</td>\n",
              "      <td>1</td>\n",
              "    </tr>\n",
              "  </tbody>\n",
              "</table>\n",
              "</div>\n",
              "    <div class=\"colab-df-buttons\">\n",
              "\n",
              "  <div class=\"colab-df-container\">\n",
              "    <button class=\"colab-df-convert\" onclick=\"convertToInteractive('df-77948cac-281e-4c08-8006-fbfdc88c0a02')\"\n",
              "            title=\"Convert this dataframe to an interactive table.\"\n",
              "            style=\"display:none;\">\n",
              "\n",
              "  <svg xmlns=\"http://www.w3.org/2000/svg\" height=\"24px\" viewBox=\"0 -960 960 960\">\n",
              "    <path d=\"M120-120v-720h720v720H120Zm60-500h600v-160H180v160Zm220 220h160v-160H400v160Zm0 220h160v-160H400v160ZM180-400h160v-160H180v160Zm440 0h160v-160H620v160ZM180-180h160v-160H180v160Zm440 0h160v-160H620v160Z\"/>\n",
              "  </svg>\n",
              "    </button>\n",
              "\n",
              "  <style>\n",
              "    .colab-df-container {\n",
              "      display:flex;\n",
              "      gap: 12px;\n",
              "    }\n",
              "\n",
              "    .colab-df-convert {\n",
              "      background-color: #E8F0FE;\n",
              "      border: none;\n",
              "      border-radius: 50%;\n",
              "      cursor: pointer;\n",
              "      display: none;\n",
              "      fill: #1967D2;\n",
              "      height: 32px;\n",
              "      padding: 0 0 0 0;\n",
              "      width: 32px;\n",
              "    }\n",
              "\n",
              "    .colab-df-convert:hover {\n",
              "      background-color: #E2EBFA;\n",
              "      box-shadow: 0px 1px 2px rgba(60, 64, 67, 0.3), 0px 1px 3px 1px rgba(60, 64, 67, 0.15);\n",
              "      fill: #174EA6;\n",
              "    }\n",
              "\n",
              "    .colab-df-buttons div {\n",
              "      margin-bottom: 4px;\n",
              "    }\n",
              "\n",
              "    [theme=dark] .colab-df-convert {\n",
              "      background-color: #3B4455;\n",
              "      fill: #D2E3FC;\n",
              "    }\n",
              "\n",
              "    [theme=dark] .colab-df-convert:hover {\n",
              "      background-color: #434B5C;\n",
              "      box-shadow: 0px 1px 3px 1px rgba(0, 0, 0, 0.15);\n",
              "      filter: drop-shadow(0px 1px 2px rgba(0, 0, 0, 0.3));\n",
              "      fill: #FFFFFF;\n",
              "    }\n",
              "  </style>\n",
              "\n",
              "    <script>\n",
              "      const buttonEl =\n",
              "        document.querySelector('#df-77948cac-281e-4c08-8006-fbfdc88c0a02 button.colab-df-convert');\n",
              "      buttonEl.style.display =\n",
              "        google.colab.kernel.accessAllowed ? 'block' : 'none';\n",
              "\n",
              "      async function convertToInteractive(key) {\n",
              "        const element = document.querySelector('#df-77948cac-281e-4c08-8006-fbfdc88c0a02');\n",
              "        const dataTable =\n",
              "          await google.colab.kernel.invokeFunction('convertToInteractive',\n",
              "                                                    [key], {});\n",
              "        if (!dataTable) return;\n",
              "\n",
              "        const docLinkHtml = 'Like what you see? Visit the ' +\n",
              "          '<a target=\"_blank\" href=https://colab.research.google.com/notebooks/data_table.ipynb>data table notebook</a>'\n",
              "          + ' to learn more about interactive tables.';\n",
              "        element.innerHTML = '';\n",
              "        dataTable['output_type'] = 'display_data';\n",
              "        await google.colab.output.renderOutput(dataTable, element);\n",
              "        const docLink = document.createElement('div');\n",
              "        docLink.innerHTML = docLinkHtml;\n",
              "        element.appendChild(docLink);\n",
              "      }\n",
              "    </script>\n",
              "  </div>\n",
              "\n",
              "\n",
              "<div id=\"df-c8551da4-84cb-4e7e-89be-b2a95c2101c5\">\n",
              "  <button class=\"colab-df-quickchart\" onclick=\"quickchart('df-c8551da4-84cb-4e7e-89be-b2a95c2101c5')\"\n",
              "            title=\"Suggest charts\"\n",
              "            style=\"display:none;\">\n",
              "\n",
              "<svg xmlns=\"http://www.w3.org/2000/svg\" height=\"24px\"viewBox=\"0 0 24 24\"\n",
              "     width=\"24px\">\n",
              "    <g>\n",
              "        <path d=\"M19 3H5c-1.1 0-2 .9-2 2v14c0 1.1.9 2 2 2h14c1.1 0 2-.9 2-2V5c0-1.1-.9-2-2-2zM9 17H7v-7h2v7zm4 0h-2V7h2v10zm4 0h-2v-4h2v4z\"/>\n",
              "    </g>\n",
              "</svg>\n",
              "  </button>\n",
              "\n",
              "<style>\n",
              "  .colab-df-quickchart {\n",
              "      --bg-color: #E8F0FE;\n",
              "      --fill-color: #1967D2;\n",
              "      --hover-bg-color: #E2EBFA;\n",
              "      --hover-fill-color: #174EA6;\n",
              "      --disabled-fill-color: #AAA;\n",
              "      --disabled-bg-color: #DDD;\n",
              "  }\n",
              "\n",
              "  [theme=dark] .colab-df-quickchart {\n",
              "      --bg-color: #3B4455;\n",
              "      --fill-color: #D2E3FC;\n",
              "      --hover-bg-color: #434B5C;\n",
              "      --hover-fill-color: #FFFFFF;\n",
              "      --disabled-bg-color: #3B4455;\n",
              "      --disabled-fill-color: #666;\n",
              "  }\n",
              "\n",
              "  .colab-df-quickchart {\n",
              "    background-color: var(--bg-color);\n",
              "    border: none;\n",
              "    border-radius: 50%;\n",
              "    cursor: pointer;\n",
              "    display: none;\n",
              "    fill: var(--fill-color);\n",
              "    height: 32px;\n",
              "    padding: 0;\n",
              "    width: 32px;\n",
              "  }\n",
              "\n",
              "  .colab-df-quickchart:hover {\n",
              "    background-color: var(--hover-bg-color);\n",
              "    box-shadow: 0 1px 2px rgba(60, 64, 67, 0.3), 0 1px 3px 1px rgba(60, 64, 67, 0.15);\n",
              "    fill: var(--button-hover-fill-color);\n",
              "  }\n",
              "\n",
              "  .colab-df-quickchart-complete:disabled,\n",
              "  .colab-df-quickchart-complete:disabled:hover {\n",
              "    background-color: var(--disabled-bg-color);\n",
              "    fill: var(--disabled-fill-color);\n",
              "    box-shadow: none;\n",
              "  }\n",
              "\n",
              "  .colab-df-spinner {\n",
              "    border: 2px solid var(--fill-color);\n",
              "    border-color: transparent;\n",
              "    border-bottom-color: var(--fill-color);\n",
              "    animation:\n",
              "      spin 1s steps(1) infinite;\n",
              "  }\n",
              "\n",
              "  @keyframes spin {\n",
              "    0% {\n",
              "      border-color: transparent;\n",
              "      border-bottom-color: var(--fill-color);\n",
              "      border-left-color: var(--fill-color);\n",
              "    }\n",
              "    20% {\n",
              "      border-color: transparent;\n",
              "      border-left-color: var(--fill-color);\n",
              "      border-top-color: var(--fill-color);\n",
              "    }\n",
              "    30% {\n",
              "      border-color: transparent;\n",
              "      border-left-color: var(--fill-color);\n",
              "      border-top-color: var(--fill-color);\n",
              "      border-right-color: var(--fill-color);\n",
              "    }\n",
              "    40% {\n",
              "      border-color: transparent;\n",
              "      border-right-color: var(--fill-color);\n",
              "      border-top-color: var(--fill-color);\n",
              "    }\n",
              "    60% {\n",
              "      border-color: transparent;\n",
              "      border-right-color: var(--fill-color);\n",
              "    }\n",
              "    80% {\n",
              "      border-color: transparent;\n",
              "      border-right-color: var(--fill-color);\n",
              "      border-bottom-color: var(--fill-color);\n",
              "    }\n",
              "    90% {\n",
              "      border-color: transparent;\n",
              "      border-bottom-color: var(--fill-color);\n",
              "    }\n",
              "  }\n",
              "</style>\n",
              "\n",
              "  <script>\n",
              "    async function quickchart(key) {\n",
              "      const quickchartButtonEl =\n",
              "        document.querySelector('#' + key + ' button');\n",
              "      quickchartButtonEl.disabled = true;  // To prevent multiple clicks.\n",
              "      quickchartButtonEl.classList.add('colab-df-spinner');\n",
              "      try {\n",
              "        const charts = await google.colab.kernel.invokeFunction(\n",
              "            'suggestCharts', [key], {});\n",
              "      } catch (error) {\n",
              "        console.error('Error during call to suggestCharts:', error);\n",
              "      }\n",
              "      quickchartButtonEl.classList.remove('colab-df-spinner');\n",
              "      quickchartButtonEl.classList.add('colab-df-quickchart-complete');\n",
              "    }\n",
              "    (() => {\n",
              "      let quickchartButtonEl =\n",
              "        document.querySelector('#df-c8551da4-84cb-4e7e-89be-b2a95c2101c5 button');\n",
              "      quickchartButtonEl.style.display =\n",
              "        google.colab.kernel.accessAllowed ? 'block' : 'none';\n",
              "    })();\n",
              "  </script>\n",
              "</div>\n",
              "    </div>\n",
              "  </div>\n"
            ]
          },
          "metadata": {},
          "execution_count": 4
        }
      ],
      "source": [
        "df_train.head()\n",
        "# we will need a \"text\" field and a \"label\" field"
      ]
    },
    {
      "cell_type": "code",
      "execution_count": null,
      "metadata": {
        "colab": {
          "base_uri": "https://localhost:8080/"
        },
        "id": "FX-rLeekg9Qs",
        "outputId": "322a5cec-4c9c-408a-aeab-42ae4e7f8d35"
      },
      "outputs": [
        {
          "output_type": "execute_result",
          "data": {
            "text/plain": [
              "1    12500\n",
              "0    12500\n",
              "Name: label, dtype: int64"
            ]
          },
          "metadata": {},
          "execution_count": 5
        }
      ],
      "source": [
        "# are positive and negative classes balanced? -> yes\n",
        "df_test[\"label\"].value_counts()"
      ]
    },
    {
      "cell_type": "markdown",
      "metadata": {
        "id": "Fx_XYyOBiMMJ"
      },
      "source": [
        "# Part 1: Preprocessing and Bag-of-words + Linear classificaion"
      ]
    },
    {
      "cell_type": "code",
      "execution_count": null,
      "metadata": {
        "id": "Pget7Z3kvQc0"
      },
      "outputs": [],
      "source": [
        "\n",
        "# load libraries commonly used in machine learning\n",
        "import pandas as pd\n",
        "import numpy as np\n",
        "from matplotlib import pyplot as plt\n",
        "%matplotlib inline"
      ]
    },
    {
      "cell_type": "markdown",
      "metadata": {
        "id": "GR_b42VzoKE6"
      },
      "source": [
        "Examples of texts:"
      ]
    },
    {
      "cell_type": "code",
      "execution_count": null,
      "metadata": {
        "colab": {
          "base_uri": "https://localhost:8080/"
        },
        "id": "77WwxE_7iR1m",
        "outputId": "6fa55ee2-9c39-4c30-e9b6-5cb6bed5de22"
      },
      "outputs": [
        {
          "output_type": "execute_result",
          "data": {
            "text/plain": [
              "array([\"I dug out from my garage some old musicals and this is another one of my favorites. It was written by Jay Alan Lerner and directed by Vincent Minelli. It won two Academy Awards for Best Picture of 1951 and Best Screenplay. The story of an American painter in Paris who tries to make it big. Nina Foch is a sophisticated lady of means and is very interested in helping him, but soon finds she loves the guy. Meanwhile Gene Kelly falls for lovely damsel, Leslie Caron. His main dancing partner, and I must say they are fantastic together on the floor and otherwise. Famous French singer Georges Guietary sings, too. So if you like good smooth dancing and fun filled scenes filled with Oscar Levant's nimble piano fingers, the songs of George Gershwyn will live on forever in this colorful gem. 8/10\",\n",
              "       'In New Orleans, an illegal immigrant feels sick and leaves a poker game while winning the smalltime criminal Blackie (Walter Jack Palance). He is chased by Blackie and his men Raymond Fitch (Zero Mostel) and Poldi (Guy Thomajan), killed by Blackie and his body is dumped in the sea. During the autopsy, the family man Lieutenant Commander Dr. Clinton Reed (Richard Widmark) of the U.S. Public Health Service finds that the dead man had pneumonic plague caused by rats and he needs to find who had any type of contact with the man within forty-eight hours to avoid an epidemic. The City Mayor assigns the skeptical Captain Tom Warren (Paul Douglas) to help Dr. Clint to find the killers that are infected with the plague and inoculate them.<br /><br />\"Panic in the Streets\" discloses a simple story, but it is still effective and with a great villain. The engaging plot has not become dated after fifty-seven years. Jack Palance performs a despicable scum in his debut, and the camera work while he tries to escape with Zero Mostel is still very impressive. My vote is seven.<br /><br />Title (Brazil): \"Pânico nas Ruas\" (\"Panic in the Streets\")',\n",
              "       \"I am surprised at IMDb's low rating of this movie. With all due respect, its low rating is representative of the IQ level of those who rated it so poor. They would rather see a movie with cheap thrills, a bigger budget, and more gore.<br /><br />The first misconception by people is that this is a horror film. It is not, nor does the film mislead you into believing it is one. It is a psychological thriller. It is for people who actually want an intellectual experience when watching a movie. Reel.com's review is the perfect example of how I feel about this movie. All the other negative reviews doesn't make much sense. It's almost as if trying to make an original movie for a change- very rare these days- is something bad and not worth it.<br /><br />I will reveal some spoilers for the morons who said it was boring and didn't make sense. Martha was brainwashing herself and performing experiments on herself to be a caring mother while she really was an evil Nazi who would kill without warning. The evidence is all in the pudding and the fact that at first viewing, we sympathize with this cold-blooded monster for the duration of the movie is a testament to the film's direction and writing.<br /><br />I definitely feel that this movie should at least be rated in the 6's range on originality alone. I recommend this movie for the people on the other end of the IQ scale- aka smart people- since this movie is obviously being butchered by those who would rather watch Scream or Freddy's Nightmare.<br /><br />Kudos to the acting as well. For such a low budget film, you are amazed that this movie didn't hit your local cinema with the great direction, writing, and acting. Please don't be fooled by the rating by IMDb. This movie is worth it. I actually recommend buying the film since a first viewing on a rent will not do this justice.\",\n",
              "       \"***Possible spoilers***<br /><br />I recently watched this movie with my 11 year old son and was pleased to see that he laughed in the right places and was thrilled by the action sequences. Ron Ely is just right as Doc. Cool, calm, almost always in control(and with an occasional twinkle in his eye). What more can one ask for? I have never read a Doc Savage book, so I don't know if it is faithful to the source but I enjoyed the light tone and derring-do. Many people have compared this movie to Raiders of the Lost Ark, which I don't think is fair. The difference in budget is astounding(Raiders must have at least 10 times the budget). Doc Savage does not have the extensive location work that Raiders has. Special effects are also at a minimum but come on people, the story is a lot of fun and the humor is just right. The Sousa music is catchy(love that theme song- Every time I watch the film, I end up humming the theme for days).The best way to approach this film is to just RELAX and enjoy. Highlights include the exciting opening sequence where the fabulous five and Doc chase the Indian sniper throughout the rooftops of New York and the VERY funny fight sequence between Doc and Captain Seas. Not as good is the villain who sleeps in a giant crib (really!). Overall a great movie to watch on a rainy day. I give it 7 out of 10.<br /><br />Doc Savage, Doc Savage...thank the lord he's here!\"],\n",
              "      dtype=object)"
            ]
          },
          "metadata": {},
          "execution_count": 7
        }
      ],
      "source": [
        "df_train[\"text\"][[345, 134, 112, 10000]].values"
      ]
    },
    {
      "cell_type": "markdown",
      "metadata": {
        "id": "EhhuUY0ooOvy"
      },
      "source": [
        "Preprocessing: let's remove tags, punctuation and apply lowercasing. [3 points]\n",
        "\n",
        "__Tools:__ for preprocessing, module `re` is commonly used. Actually, whatever you need to do with textual data, the easiest way is to google each step and copy commands from the first (usually StackOverflow) link :)"
      ]
    },
    {
      "cell_type": "code",
      "execution_count": null,
      "metadata": {
        "colab": {
          "base_uri": "https://localhost:8080/"
        },
        "id": "Ss4mk9l0lB75",
        "outputId": "bd4b1c66-1f3a-4414-fd78-d9c047900cdf"
      },
      "outputs": [
        {
          "output_type": "stream",
          "name": "stdout",
          "text": [
            "Example of a preprocessed text:\n",
            "i am surprised at imdbs low rating of this movie with all due respect its low rating is representative of the iq level of those who rated it so poor they would rather see a movie with cheap thrills a bigger budget and more gorethe first misconception by people is that this is a horror film it is not nor does the film mislead you into believing it is one it is a psychological thriller it is for people who actually want an intellectual experience when watching a movie reelcoms review is the perfect example of how i feel about this movie all the other negative reviews doesnt make much sense its almost as if trying to make an original movie for a change very rare these days is something bad and not worth iti will reveal some spoilers for the morons who said it was boring and didnt make sense martha was brainwashing herself and performing experiments on herself to be a caring mother while she really was an evil nazi who would kill without warning the evidence is all in the pudding and the fact that at first viewing we sympathize with this coldblooded monster for the duration of the movie is a testament to the films direction and writingi definitely feel that this movie should at least be rated in the 6s range on originality alone i recommend this movie for the people on the other end of the iq scale aka smart people since this movie is obviously being butchered by those who would rather watch scream or freddys nightmarekudos to the acting as well for such a low budget film you are amazed that this movie didnt hit your local cinema with the great direction writing and acting please dont be fooled by the rating by imdb this movie is worth it i actually recommend buying the film since a first viewing on a rent will not do this justice\n"
          ]
        }
      ],
      "source": [
        "import re, string\n",
        "\n",
        "# purpose of this function (1 point for each):\n",
        "#  1. remove tags (things like <...>)\n",
        "#  2. remove punctuation and make all letters lowercase\n",
        "#  3. remove duplicate spaces, e.g. '     ' -> ' '\n",
        "def process_string(text):\n",
        "  # TODO\n",
        "  text = re.sub('<.*?>', '', text)\n",
        "  text = text.translate(str.maketrans('', '', string.punctuation)).lower()\n",
        "  text = re.sub('\\s+', ' ', text).strip()\n",
        "  return text\n",
        "\n",
        "# demo\n",
        "print(\"Example of a preprocessed text:\")\n",
        "print(process_string(df_train[\"text\"][112]))"
      ]
    },
    {
      "cell_type": "code",
      "source": [
        "# after having a working process_string, apply your function to train and test datasets\n",
        "df_train[\"text\"] = df_train[\"text\"].apply(process_string)\n",
        "df_test[\"text\"] = df_test[\"text\"].apply(process_string)"
      ],
      "metadata": {
        "id": "cFM_v6UrrBHN"
      },
      "execution_count": null,
      "outputs": []
    },
    {
      "cell_type": "markdown",
      "metadata": {
        "id": "XrT7hI11oSM7"
      },
      "source": [
        "Let's build a simplest model: bag-of-words [10 points] + linear classification [10 points]\n",
        "\n",
        "__Tools__: for this task, `sklearn` is the most common choice. We have discussed both these concepts in class, but a more detailed tutorial on text classification with bag of words and linear models in `sklearn` can be found [here](https://scikit-learn.org/stable/tutorial/text_analytics/working_with_text_data.html)."
      ]
    },
    {
      "cell_type": "code",
      "execution_count": null,
      "metadata": {
        "colab": {
          "base_uri": "https://localhost:8080/"
        },
        "id": "qlWTbndfn7Gb",
        "outputId": "48fb446b-88cb-42df-bb0e-a4594591517a"
      },
      "outputs": [
        {
          "output_type": "stream",
          "name": "stdout",
          "text": [
            "Train shape: (25000, 29212) Test shape: (25000, 29212)\n"
          ]
        }
      ],
      "source": [
        "# 1. bag-of-words extractor (5 points)\n",
        "from sklearn.feature_extraction.text import CountVectorizer\n",
        "\n",
        "count_vect = CountVectorizer(min_df=5)\n",
        "X_train, X_test = df_train[\"text\"], df_test[\"text\"]\n",
        "\n",
        "# when in doubt, you should first Google how to use CountVectorizer\n",
        "# as a hint, you need to use functions fit_transform() and transform() - think about which function is appropriate for train and test\n",
        "X_train_counts = count_vect.fit_transform(X_train) # TODO: counts frequency and builds binary vectors\n",
        "X_test_counts = count_vect.transform(X_test) # TODO: only builds binary vectors\n",
        "\n",
        "print(\"Train shape:\", X_train_counts.shape, \"Test shape:\", X_test_counts.shape)"
      ]
    },
    {
      "cell_type": "code",
      "source": [
        "# 2. logistic regression (5 points)\n",
        "y_train = df_train[\"label\"]\n",
        "y_test = df_test[\"label\"]\n",
        "\n",
        "from sklearn.linear_model import LogisticRegression\n",
        "from sklearn.metrics import accuracy_score\n",
        "\n",
        "# create a model to performance logistic regression on\n",
        "# train the model using (X_train_counts, y_train) and test accuracy on (X_test_counts, y_test)\n",
        "model = LogisticRegression()# TODO: define the simple Logistic Regression model\n",
        "# TODO: train the model using fit()\n",
        "model.fit(X_train_counts, y_train)\n",
        "y_pred = model.predict(X_test_counts) # TODO: test accuracy on testing data using predict()\n",
        "print(\"Accuracy:\", accuracy_score(y_test, y_pred))"
      ],
      "metadata": {
        "id": "D-kt_xoe8QNi",
        "outputId": "c160fc66-1597-43c8-ac60-6ebb1240be8c",
        "colab": {
          "base_uri": "https://localhost:8080/"
        }
      },
      "execution_count": null,
      "outputs": [
        {
          "output_type": "stream",
          "name": "stdout",
          "text": [
            "Accuracy: 0.8642\n"
          ]
        },
        {
          "output_type": "stream",
          "name": "stderr",
          "text": [
            "/usr/local/lib/python3.10/dist-packages/sklearn/linear_model/_logistic.py:458: ConvergenceWarning: lbfgs failed to converge (status=1):\n",
            "STOP: TOTAL NO. of ITERATIONS REACHED LIMIT.\n",
            "\n",
            "Increase the number of iterations (max_iter) or scale the data as shown in:\n",
            "    https://scikit-learn.org/stable/modules/preprocessing.html\n",
            "Please also refer to the documentation for alternative solver options:\n",
            "    https://scikit-learn.org/stable/modules/linear_model.html#logistic-regression\n",
            "  n_iter_i = _check_optimize_result(\n"
          ]
        }
      ]
    },
    {
      "cell_type": "markdown",
      "metadata": {
        "id": "OGRvTYaRr27x"
      },
      "source": [
        "Some explanations:\n",
        "* You will learn about bag of words as a simple model for assigning vectors to text and enable vector algebra to manipulate text. Each sentence is a vector of size = # of words in the text corpus. And values are integer values denoting count of each word in that sentence.\n",
        "* We talked about logistic regression early in the course (linear regression+sigmoid). This is NOT a deep neural network model. So your model does not have layer after layer. When in doubt, google how to initialize a model.\n",
        "* In bag of words, we decided to specify `min_df=5` (only keep words which occured in at least 5 documents): the linear model's weight for rare words will be updated very rarely and will not go far from the initial random initialization. You can play around with this, and see what it does to very rare words.\n",
        "* `X_train_counts` and `X_test_counts` are matrices which contain a lot of 0's and only a small amount of other integers\n",
        "* There quite a lot of hyperparameters in `CountVectorizer` and `LogisticRegression`, tuning which can potentially increase performance (see an optional Exercise 1 below).\n",
        "* We use a simplest metric, accuracy, as it is very easy to interpret (this is a portion of examples for which we made correct predictions). As we have balanced classes and binary classiication, we say that everything below 50% accuracy is a bad model, because 50% is an accuracy of a constant or random prediction.\n",
        "\n",
        "You can probably increase the accuracy by tuning hyperparameters, and we will compare it to other models in the next section. You're welcome to tune in Exercise 1 for your own understanding, otherwise around >80% accuracy should be sufficient to proceed. Below we will also take a look at the resulting model weights."
      ]
    },
    {
      "cell_type": "markdown",
      "metadata": {
        "id": "omKYrrrBu7FP"
      },
      "source": [
        "Words in the vocabulary:"
      ]
    },
    {
      "cell_type": "code",
      "execution_count": null,
      "metadata": {
        "colab": {
          "base_uri": "https://localhost:8080/"
        },
        "id": "J2U6SUrXurzv",
        "outputId": "4658baa5-9e7d-4c5d-c666-ee7509502386"
      },
      "outputs": [
        {
          "output_type": "execute_result",
          "data": {
            "text/plain": [
              "array(['accompanies', 'accompaniment', 'accompany', 'accompanying',\n",
              "       'accomplice', 'accomplices', 'accomplish', 'accomplished',\n",
              "       'accomplishes', 'accomplishing', 'accomplishment',\n",
              "       'accomplishments', 'accordance', 'according', 'accordingly',\n",
              "       'account', 'accountable', 'accountant', 'accounted', 'accounting',\n",
              "       'accounts', 'accumulated', 'accuracy', 'accurate', 'accurately',\n",
              "       'accusation', 'accusations', 'accuse', 'accused', 'accuses'],\n",
              "      dtype=object)"
            ]
          },
          "metadata": {},
          "execution_count": 12
        }
      ],
      "source": [
        "words = count_vect.get_feature_names_out()\n",
        "words[500:530]"
      ]
    },
    {
      "cell_type": "markdown",
      "metadata": {
        "id": "pRUUcQpFu9Im"
      },
      "source": [
        "Let's look at words with highest and lowest weights:"
      ]
    },
    {
      "cell_type": "code",
      "execution_count": null,
      "metadata": {
        "colab": {
          "base_uri": "https://localhost:8080/"
        },
        "id": "znRJzrqxsWCb",
        "outputId": "b8ff73ac-1d82-4aaf-9e1b-8d109575c862"
      },
      "outputs": [
        {
          "output_type": "stream",
          "name": "stdout",
          "text": [
            "Words with lowest weights (they \"vote\" for the negative label)\n",
            "           coef            word\n",
            "7361  -2.629283  disappointment\n",
            "28233 -2.447720           waste\n",
            "263   -2.352079             410\n",
            "19709 -2.256523          poorly\n",
            "28880 -2.124767           worst\n",
            "14673 -2.109125           lacks\n",
            "16441 -1.911705            mess\n",
            "10244 -1.751466     forgettable\n",
            "14825 -1.697138       laughable\n",
            "27310 -1.599210         unfunny\n",
            "17159 -1.589035           mst3k\n",
            "9378  -1.537050           fails\n",
            "2032  -1.534935           avoid\n",
            "28311 -1.523558            weak\n",
            "2068  -1.496101           awful\n",
            "16559 -1.449121          mildly\n",
            "240   -1.448061             310\n",
            "15476 -1.442981           lousy\n",
            "1099  -1.435566         alright\n",
            "19631 -1.425825       pointless\n",
            "Words with higest weights (they \"vote\" for the positive label)\n",
            "           coef          word\n",
            "27200  1.156366    underrated\n",
            "19127  1.174166     perfectly\n",
            "22966  1.191338     sensitive\n",
            "10033  1.195734        flight\n",
            "25771  1.217004         tears\n",
            "13146  1.243568    incredible\n",
            "6836   1.249793    delightful\n",
            "1533   1.264805   appreciated\n",
            "8844   1.265299        erotic\n",
            "27758  1.292226     vengeance\n",
            "9062   1.311698     excellent\n",
            "9995   1.322029      flawless\n",
            "25360  1.335253  surprisingly\n",
            "25136  1.488940        subtle\n",
            "10570  1.522434      funniest\n",
            "20814  1.577172          rare\n",
            "340    1.743180           810\n",
            "28797  1.789889   wonderfully\n",
            "21151  2.027387    refreshing\n",
            "321    2.845265           710\n"
          ]
        }
      ],
      "source": [
        "# save weights from the model and words into a dataframe\n",
        "weights = pd.DataFrame({\"coef\": model.coef_[0],\n",
        "                        \"word\": words})\n",
        "weights = weights.sort_values(by=\"coef\")\n",
        "print('Words with lowest weights (they \"vote\" for the negative label)')\n",
        "print(weights[:20])\n",
        "print('Words with higest weights (they \"vote\" for the positive label)')\n",
        "print(weights[-20:])"
      ]
    },
    {
      "cell_type": "markdown",
      "metadata": {
        "id": "0LhwjxEcUxCs"
      },
      "source": [
        "The presence of words with highest weights (positive) \"votes\" for the positive class in the linear model, and the presence of words with lowest weights (negative) \"votes\" for the negative class."
      ]
    },
    {
      "cell_type": "markdown",
      "metadata": {
        "id": "nDq7IkTxwJSc"
      },
      "source": [
        "__\\*\\*\\*Exercise 1\\*\\*\\*__\n",
        "\n",
        "(it's completely optional and suggested for students who want to try models themselves, it's not rated and does not affect final marks.)\n",
        "\n",
        "Machine learning models, inlcuding linear models, are very sensitive to hyperparameters and data preprocessing. One should try different options, measuring performance on the development data or using [cross-validation](https://scikit-learn.org/stable/modules/cross_validation.html), to get the best performing model. It is important to avoid using test data in hyperparameters tuning (hyperparameters are tuned during training using training data) and only use it to test the transferability of chosen configurations to _unseen_ data. Here is what we suggest you to do:\n",
        "\n",
        "* Split `X_train[\"text\"]` and `X_train[\"label\"]` into \"training\" and development set (you can use [sklearn's train_test_split](https://scikit-learn.org/stable/modules/generated/sklearn.model_selection.train_test_split.html) with `test_size=0.2`)\n",
        "* For each of the following hyperparameters, train on the new \"training\" set and evaluate accuracy on the newly created development set. Choose hyperparameter configuration with highest accuracy. Then retrain the model on the full initial training set with the chosen hyperparameter configuration and compare accuracy on the _test_ set to the initial model we trained above. __The goal__ is to have higher resulting test accuracy, but without using test data in the tuning process!\n",
        "* Try tuning hyperparameter `C` (regularization strength) in [`LogisticRegression`](https://scikit-learn.org/stable/modules/generated/sklearn.linear_model.LogisticRegression.html). You can consider grid `[0.001, 0.01, ..., 10, 100]`. For this specific hyperparameter, you can also use [`LogisticRegressionCV` implementation](https://scikit-learn.org/stable/modules/generated/sklearn.linear_model.LogisticRegressionCV.html), which conducts cross-validation.\n",
        "* Try using [`TfIdfVectorizer`](https://scikit-learn.org/stable/modules/generated/sklearn.feature_extraction.text.TfidfVectorizer.html) instead of `CountVectorizer`\n",
        "* Try tuning hyperparameters in `CountVectorizer` or `TfIdfVectorizer`, e.g. `min_freq`, `ngram_range`, or `binary`. See [CountVectorizer's documentation](https://scikit-learn.org/stable/modules/generated/sklearn.feature_extraction.text.CountVectorizer.html) for the description of these hyperparameters."
      ]
    },
    {
      "cell_type": "markdown",
      "metadata": {
        "id": "Vyz5XgkSwuve"
      },
      "source": [
        "# Part 2: word embeddings and linear models with them"
      ]
    },
    {
      "cell_type": "markdown",
      "metadata": {
        "id": "HASAVx6jVGtK"
      },
      "source": [
        "\n",
        "In class we talked about assigning vectors to words such that addition of two word-vectors yields a vector that preserves the semantic information contained in the addition of two words. e.g. vector for king + vector for female yields a vector that corresponds to queen.\n",
        "How do we assign vectors to words to preserve this semantic information?\n",
        "\n",
        "The most popular model for this is called word2vec. In this assignment you'll learn the details and execute it.\n",
        "Word2vec\n",
        "https://d2l.ai/chapter_natural-language-processing-pretraining/word2vec.html\n",
        "Visual interpretation:\n",
        "https://jalammar.github.io/illustrated-word2vec/\n",
        "__Tools:__ for working with word embeddings, `gensim` is a widely used library. You can either download some pretrained embeddings (as we will do) or train embeddings on your data (with an easy-to-run command). You can find an introductory tutorial [here](https://www.nltk.org/howto/gensim.html) or [here](https://radimrehurek.com/gensim/auto_examples/tutorials/run_word2vec.html), and pretrained models are listed [here](https://github.com/RaRe-Technologies/gensim-data) (mostly English, unfortunately). Fyi, another popular choise is the `fasttext` library ([python module intro](https://fasttext.cc/docs/en/python-module.html), [command line intro](https://fasttext.cc/docs/en/unsupervised-tutorial.html), [pretrained models for 157 languages](https://fasttext.cc/docs/en/crawl-vectors.html))."
      ]
    },
    {
      "cell_type": "markdown",
      "metadata": {
        "id": "0GiTvpeD6K4m"
      },
      "source": [
        "The next cell loads some pretrained model. Here a small one is chosen, to avoid long downloading, but you can try a larger one, e. g. `word2vec-google-news-300`"
      ]
    },
    {
      "cell_type": "code",
      "execution_count": null,
      "metadata": {
        "id": "HYb8Hxp7uop6",
        "colab": {
          "base_uri": "https://localhost:8080/"
        },
        "outputId": "4002ee2a-59c7-42d6-aec9-52205a850c8b"
      },
      "outputs": [
        {
          "output_type": "stream",
          "name": "stdout",
          "text": [
            "[==================================================] 100.0% 66.0/66.0MB downloaded\n"
          ]
        }
      ],
      "source": [
        "# a smaller model, faster download and no problems with out of memory\n",
        "import gensim.downloader as api\n",
        "wv = api.load('glove-wiki-gigaword-50')"
      ]
    },
    {
      "cell_type": "code",
      "execution_count": null,
      "metadata": {
        "id": "GwS8jhlBCYB9",
        "outputId": "7af38338-8b24-49ea-b582-646ea10f1b33",
        "colab": {
          "base_uri": "https://localhost:8080/"
        }
      },
      "outputs": [
        {
          "output_type": "stream",
          "name": "stdout",
          "text": [
            "[==================================================] 100.0% 1662.8/1662.8MB downloaded\n"
          ]
        }
      ],
      "source": [
        "# a larger model, longer download and sometimes problems with out of memory,\n",
        "# but better performance\n",
        "import gensim.downloader as api\n",
        "wv = api.load('word2vec-google-news-300')"
      ]
    },
    {
      "cell_type": "code",
      "execution_count": null,
      "metadata": {
        "colab": {
          "base_uri": "https://localhost:8080/"
        },
        "id": "1-3KCxHo6DMj",
        "outputId": "08274357-0862-4faf-b31c-83b636d5382c"
      },
      "outputs": [
        {
          "output_type": "execute_result",
          "data": {
            "text/plain": [
              "3000000"
            ]
          },
          "metadata": {},
          "execution_count": 16
        }
      ],
      "source": [
        "# number of words in the model\n",
        "len(wv.index_to_key)"
      ]
    },
    {
      "cell_type": "code",
      "execution_count": null,
      "metadata": {
        "colab": {
          "base_uri": "https://localhost:8080/"
        },
        "id": "O1dR6Lu53N_Q",
        "outputId": "9f98e7a7-536b-4841-ed2a-dae4541665fc"
      },
      "outputs": [
        {
          "output_type": "execute_result",
          "data": {
            "text/plain": [
              "array([-3.55468750e-01,  4.61425781e-02,  8.05664062e-02,  4.37500000e-01,\n",
              "        1.04980469e-02,  2.18750000e-01, -1.51367188e-01, -1.09375000e-01,\n",
              "       -2.28515625e-01,  5.76171875e-02, -2.24609375e-01, -2.65625000e-01,\n",
              "       -3.95507812e-02, -1.37695312e-01, -8.30078125e-02,  1.52343750e-01,\n",
              "        5.76171875e-02,  4.12597656e-02, -3.34472656e-02,  1.81640625e-01,\n",
              "       -2.67578125e-01, -2.12890625e-01,  1.66992188e-01,  5.37109375e-02,\n",
              "       -1.92382812e-01,  7.42187500e-02, -1.80664062e-01,  3.90625000e-02,\n",
              "       -4.83398438e-02, -3.35937500e-01, -1.35742188e-01, -1.97265625e-01,\n",
              "       -1.99218750e-01, -9.66796875e-02, -1.11328125e-01, -5.27343750e-02,\n",
              "       -4.90722656e-02,  2.69531250e-01, -4.71191406e-02, -1.55273438e-01,\n",
              "       -1.30859375e-01, -1.82617188e-01,  3.88671875e-01,  3.43750000e-01,\n",
              "        3.47656250e-01, -1.12304688e-01,  1.42578125e-01, -6.68945312e-02,\n",
              "       -1.66992188e-01,  2.14843750e-01, -2.27050781e-02,  2.96875000e-01,\n",
              "        1.68945312e-01, -9.57031250e-02, -2.02148438e-01,  9.81445312e-02,\n",
              "       -1.51367188e-01, -1.42578125e-01,  4.27246094e-02, -2.48046875e-01,\n",
              "        8.78906250e-02,  1.99218750e-01, -8.59375000e-02, -1.53320312e-01,\n",
              "       -2.55859375e-01, -2.73437500e-01, -1.70898438e-02,  6.25000000e-02,\n",
              "       -3.68652344e-02,  4.83398438e-02,  9.32617188e-02,  3.98437500e-01,\n",
              "       -8.30078125e-02,  3.47656250e-01, -2.17773438e-01,  5.35156250e-01,\n",
              "        1.22070312e-01, -8.05664062e-02,  1.11328125e-01,  7.42187500e-02,\n",
              "       -2.38281250e-01, -5.44433594e-02, -2.17773438e-01, -2.75390625e-01,\n",
              "        3.06640625e-01,  2.05078125e-02, -6.25000000e-02, -4.02832031e-02,\n",
              "        8.10546875e-02,  2.96875000e-01, -8.69140625e-02, -1.87988281e-02,\n",
              "       -1.83105469e-04, -1.10839844e-01, -2.23632812e-01, -2.49023438e-02,\n",
              "       -1.38671875e-01, -5.50781250e-01,  3.32031250e-01,  9.17968750e-02,\n",
              "       -6.64062500e-02,  2.79296875e-01,  1.64062500e-01, -2.77343750e-01,\n",
              "       -8.74023438e-02, -9.32617188e-02,  7.86132812e-02,  2.91015625e-01,\n",
              "        5.27343750e-02, -3.39843750e-01, -1.41601562e-01, -2.51953125e-01,\n",
              "        3.16406250e-01, -2.83203125e-01,  5.56640625e-02,  6.29882812e-02,\n",
              "       -3.93066406e-02, -4.23828125e-01, -7.42187500e-02,  3.34472656e-02,\n",
              "        3.22265625e-01, -8.59375000e-02, -1.32812500e-01, -4.49218750e-02,\n",
              "        5.39062500e-01,  5.68389893e-04,  8.00781250e-02, -1.93359375e-01,\n",
              "        2.42187500e-01,  4.17480469e-02, -1.27929688e-01,  2.96875000e-01,\n",
              "       -1.10351562e-01,  1.65039062e-01, -1.26953125e-01, -1.18164062e-01,\n",
              "       -2.61718750e-01, -7.47070312e-02,  3.20312500e-01,  3.71093750e-02,\n",
              "        4.90234375e-01, -2.44140625e-01,  5.37109375e-02, -2.55859375e-01,\n",
              "        1.93359375e-01,  6.65283203e-03,  7.76367188e-02, -2.08007812e-01,\n",
              "       -8.15429688e-02, -3.92578125e-01, -5.10253906e-02, -2.77343750e-01,\n",
              "       -1.66015625e-01, -4.42504883e-03, -1.20239258e-02, -3.10546875e-01,\n",
              "        2.12890625e-01,  3.71093750e-01,  1.17675781e-01,  2.95410156e-02,\n",
              "        6.29882812e-02,  2.36328125e-01, -4.24804688e-02,  9.86328125e-02,\n",
              "        2.46093750e-01, -1.07421875e-01, -1.38549805e-02, -9.13085938e-02,\n",
              "       -3.10546875e-01,  3.57421875e-01, -3.20312500e-01, -9.81445312e-02,\n",
              "       -1.26953125e-01, -2.91748047e-02, -3.92578125e-01,  9.42382812e-02,\n",
              "        3.55468750e-01, -4.92187500e-01,  3.49609375e-01, -4.27734375e-01,\n",
              "        1.69921875e-01,  2.49023438e-01, -1.32812500e-01, -2.36328125e-01,\n",
              "        9.61914062e-02,  9.91210938e-02,  4.76074219e-02, -6.98242188e-02,\n",
              "        1.65039062e-01,  9.71679688e-02,  2.67578125e-01,  1.07910156e-01,\n",
              "       -5.34667969e-02,  1.47460938e-01,  5.07812500e-01,  1.63085938e-01,\n",
              "        1.14746094e-01, -2.02636719e-02,  2.96630859e-02, -2.75390625e-01,\n",
              "       -2.25585938e-01,  1.29882812e-01, -8.74023438e-02, -2.69531250e-01,\n",
              "       -5.79833984e-03, -4.29687500e-02, -1.18164062e-01, -3.88671875e-01,\n",
              "       -3.68652344e-02,  1.80664062e-01,  9.91210938e-02, -5.24902344e-02,\n",
              "       -3.92578125e-01, -2.96875000e-01,  9.96093750e-02,  2.46582031e-02,\n",
              "        1.11816406e-01,  4.80957031e-02,  2.87109375e-01, -9.42382812e-02,\n",
              "        1.68945312e-01, -4.86328125e-01, -7.37304688e-02,  1.07910156e-01,\n",
              "       -1.00585938e-01, -2.33398438e-01,  1.20605469e-01,  3.27148438e-02,\n",
              "       -3.97949219e-02,  7.32421875e-02,  1.28173828e-02, -5.34667969e-02,\n",
              "       -8.74023438e-02, -3.19824219e-02,  1.80664062e-01, -7.27539062e-02,\n",
              "        3.02734375e-01,  1.14746094e-01,  1.74560547e-02,  1.06933594e-01,\n",
              "        4.94140625e-01,  2.25585938e-01,  9.37500000e-02,  1.08398438e-01,\n",
              "       -8.98437500e-02, -1.25122070e-02, -3.73046875e-01,  1.20605469e-01,\n",
              "       -2.14843750e-01, -1.49414062e-01,  3.05175781e-02, -1.01089478e-04,\n",
              "        1.83593750e-01,  2.55859375e-01,  2.23632812e-01, -2.14843750e-01,\n",
              "       -1.48437500e-01, -5.37109375e-02,  1.05468750e-01,  1.74713135e-03,\n",
              "        9.47265625e-02,  1.88476562e-01,  4.76074219e-02, -8.30078125e-02,\n",
              "        2.94921875e-01,  1.01074219e-01, -6.34765625e-02, -4.24804688e-02,\n",
              "       -2.53906250e-01,  3.54003906e-02, -3.75976562e-02, -4.71191406e-02,\n",
              "        2.75390625e-01,  1.62109375e-01,  1.23901367e-02,  9.61914062e-02,\n",
              "       -6.65283203e-03,  3.55468750e-01, -1.25000000e-01,  3.61328125e-02,\n",
              "       -1.72851562e-01,  1.94335938e-01,  1.47460938e-01, -2.14843750e-01,\n",
              "       -2.06054688e-01,  1.08398438e-01, -1.82617188e-01, -9.64355469e-03,\n",
              "       -5.05371094e-02,  1.74804688e-01,  4.56542969e-02,  1.75781250e-01,\n",
              "        1.42578125e-01, -6.98242188e-02, -1.11816406e-01, -1.33789062e-01,\n",
              "       -2.27539062e-01, -2.47070312e-01, -3.17382812e-02,  2.85644531e-02],\n",
              "      dtype=float32)"
            ]
          },
          "metadata": {},
          "execution_count": 17
        }
      ],
      "source": [
        "# example of a word embedding\n",
        "wv['paris']"
      ]
    },
    {
      "cell_type": "code",
      "execution_count": null,
      "metadata": {
        "colab": {
          "base_uri": "https://localhost:8080/"
        },
        "id": "jHO12LEM3ubU",
        "outputId": "f42720be-2818-4595-b79b-17cc5796fae2"
      },
      "outputs": [
        {
          "output_type": "stream",
          "name": "stdout",
          "text": [
            "0.5550796\n",
            "0.30176708\n",
            "0.49064648\n"
          ]
        }
      ],
      "source": [
        "# example of similarity between words\n",
        "print(wv.similarity(\"paris\", \"france\"))\n",
        "print(wv.similarity(\"paris\", \"china\"))\n",
        "print(wv.similarity(\"paris\", \"usa\"))"
      ]
    },
    {
      "cell_type": "code",
      "execution_count": null,
      "metadata": {
        "colab": {
          "base_uri": "https://localhost:8080/"
        },
        "id": "a9-mGYG15LN1",
        "outputId": "bdd6ab6f-9a2b-4ca7-f449-bd4ed3fd11e2"
      },
      "outputs": [
        {
          "output_type": "execute_result",
          "data": {
            "text/plain": [
              "[('spain', 0.6375302672386169),\n",
              " ('french', 0.6326055526733398),\n",
              " ('germany', 0.6314354538917542),\n",
              " ('europe', 0.6264256238937378),\n",
              " ('italy', 0.6257959008216858),\n",
              " ('england', 0.6120776534080505),\n",
              " ('european', 0.6074905395507812),\n",
              " ('belgium', 0.5972345471382141),\n",
              " ('usa', 0.5948355197906494),\n",
              " ('serbia', 0.5805614590644836)]"
            ]
          },
          "metadata": {},
          "execution_count": 19
        }
      ],
      "source": [
        "# example of finding most similar words\n",
        "wv.most_similar(\"france\")"
      ]
    },
    {
      "cell_type": "code",
      "execution_count": null,
      "metadata": {
        "colab": {
          "base_uri": "https://localhost:8080/"
        },
        "id": "BB7qDpAu5qkU",
        "outputId": "149f6928-9e55-4bbf-8962-cd05980087c4"
      },
      "outputs": [
        {
          "output_type": "execute_result",
          "data": {
            "text/plain": [
              "[('Tea', 0.7009038329124451),\n",
              " ('teas', 0.6727380156517029),\n",
              " ('shape_Angius', 0.6323482990264893),\n",
              " ('activist_Jamie_Radtke', 0.5863860249519348),\n",
              " ('decaffeinated_brew', 0.5839536190032959),\n",
              " ('planter_bungalow', 0.575829029083252),\n",
              " ('herbal_tea', 0.5731174349784851),\n",
              " ('coffee', 0.5635291934013367),\n",
              " ('jasmine_tea', 0.548339307308197),\n",
              " ('Tea_NASDAQ_PEET', 0.5402544140815735)]"
            ]
          },
          "metadata": {},
          "execution_count": 20
        }
      ],
      "source": [
        "wv.most_similar(\"tea\")"
      ]
    },
    {
      "cell_type": "code",
      "execution_count": null,
      "metadata": {
        "colab": {
          "base_uri": "https://localhost:8080/"
        },
        "id": "7_T_pMKK54he",
        "outputId": "da2272dc-93f7-4b4a-a98c-45596a39ee46"
      },
      "outputs": [
        {
          "output_type": "execute_result",
          "data": {
            "text/plain": [
              "[('queen', 0.7118193507194519)]"
            ]
          },
          "metadata": {},
          "execution_count": 21
        }
      ],
      "source": [
        "# a classic \"king - man + woman\" example\n",
        "wv.most_similar(positive=['woman','king'], negative=['man'], topn = 1)"
      ]
    },
    {
      "cell_type": "code",
      "execution_count": null,
      "metadata": {
        "colab": {
          "base_uri": "https://localhost:8080/"
        },
        "id": "B_CXb7xa5-OO",
        "outputId": "ec646253-f6df-4164-a64b-21dc4de3c547"
      },
      "outputs": [
        {
          "output_type": "execute_result",
          "data": {
            "text/plain": [
              "[('french', 0.39072176814079285)]"
            ]
          },
          "metadata": {},
          "execution_count": 22
        }
      ],
      "source": [
        "# tea - china + france\n",
        "wv.most_similar(positive=['france','tea'], negative=['china'], topn = 1)"
      ]
    },
    {
      "cell_type": "code",
      "execution_count": null,
      "metadata": {
        "colab": {
          "base_uri": "https://localhost:8080/"
        },
        "id": "Lf35K2Yl7KgV",
        "outputId": "b0db26b2-617d-4f37-b94c-3e66972498ea"
      },
      "outputs": [
        {
          "output_type": "execute_result",
          "data": {
            "text/plain": [
              "[('latte', 0.5128536820411682)]"
            ]
          },
          "metadata": {},
          "execution_count": 23
        }
      ],
      "source": [
        "# croissant - france + usa\n",
        "wv.most_similar(positive=['usa','croissant'], negative=['france'], topn = 1)"
      ]
    },
    {
      "cell_type": "markdown",
      "metadata": {
        "id": "ObxiVLDVIWj6"
      },
      "source": [
        "To play with pretrained embeddings yourself, you only need to run the cell at the beginning of Part 2."
      ]
    },
    {
      "cell_type": "markdown",
      "metadata": {
        "id": "Gu04WBiR78Rc"
      },
      "source": [
        "Let's extract pretrained vectors for all words in our data, average embeddings over sequences and train logistic regression on top of the resulting features (10 points):"
      ]
    },
    {
      "cell_type": "code",
      "execution_count": null,
      "metadata": {
        "colab": {
          "base_uri": "https://localhost:8080/"
        },
        "id": "FXOvoEe37WwL",
        "outputId": "f5eb6372-48ed-4911-e29c-1a91f72b251c"
      },
      "outputs": [
        {
          "output_type": "stream",
          "name": "stdout",
          "text": [
            "Example of a vector computed for a text:\n",
            "[ 4.65836525e-02  1.09142000e-02  2.64373627e-02  1.05224691e-01\n",
            " -6.69011697e-02  2.33923066e-02  4.68925908e-02 -5.89156672e-02\n",
            "  7.58690014e-02  5.42531274e-02 -3.64322141e-02 -1.17374741e-01\n",
            " -1.49376392e-02  2.75197551e-02 -9.56709236e-02  7.66070783e-02\n",
            "  3.49201113e-02  7.40961209e-02 -1.29147172e-02 -6.12665676e-02\n",
            " -1.42113185e-02  4.15780805e-02  6.81898324e-03 -1.27492743e-02\n",
            "  5.99557012e-02 -2.51814462e-02 -6.87458664e-02  6.28028736e-02\n",
            "  2.11230125e-02  7.56851817e-03 -4.73552793e-02  1.48255695e-02\n",
            " -5.61748408e-02  1.26760732e-02  3.45352218e-02 -2.19749603e-02\n",
            "  1.03036892e-02  2.00286712e-02  3.90768573e-02  4.76434082e-02\n",
            "  1.04405880e-01 -2.99833342e-02  8.96184742e-02 -5.11699263e-03\n",
            " -2.53452193e-02 -1.22515494e-02 -3.79059045e-03  2.50489339e-02\n",
            "  2.98249722e-02  2.98504694e-03  1.27170878e-02  3.46329994e-02\n",
            " -9.72366333e-03  1.26300920e-02  1.89066827e-02  2.26471946e-02\n",
            " -2.49323323e-02 -5.41516095e-02  1.45381559e-02 -3.15841585e-02\n",
            " -2.70080566e-02  1.01081148e-01 -7.62529895e-02 -5.70267588e-02\n",
            " -2.37811580e-02 -1.25444727e-02 -3.84466909e-02  9.09632072e-02\n",
            " -1.85882915e-02  5.62859923e-02  2.57202778e-02  1.52278841e-02\n",
            "  5.98934479e-02  2.58090105e-02 -8.61147791e-02 -4.95966114e-02\n",
            "  7.15405643e-02  9.51975212e-02  5.34911342e-02  1.29927129e-01\n",
            "  1.20460521e-02 -6.42955452e-02  2.04502475e-02 -1.26684504e-02\n",
            " -4.69000079e-02 -4.11975384e-02 -8.29327255e-02  1.17876478e-01\n",
            "  2.07821000e-02  8.74733925e-03  4.61894684e-02  1.63238849e-02\n",
            " -3.80665846e-02 -6.68389425e-02  1.15084648e-03 -4.08336371e-02\n",
            "  3.37831192e-02  2.74799932e-02 -3.43983714e-03  1.24651659e-02\n",
            " -1.95172106e-05 -2.30979789e-02  2.88587008e-02  2.92274030e-03\n",
            " -2.27150396e-02 -1.49008371e-02 -6.41210899e-02 -7.08314627e-02\n",
            "  1.61093250e-02 -1.12096019e-01 -3.53159383e-02  2.13570055e-03\n",
            " -3.79224829e-02  3.93846305e-03  7.51640275e-02  4.10136906e-03\n",
            "  2.35499311e-02 -4.46696542e-02  8.34016427e-02  3.89522836e-02\n",
            " -8.00552890e-02  1.17357569e-02 -5.91121241e-02  4.59227040e-02\n",
            " -4.46700901e-02 -5.53875347e-04 -3.79720777e-02 -2.00239811e-02\n",
            "  5.37077570e-03  1.35895545e-02 -5.48760630e-02 -5.85347004e-02\n",
            " -8.39174092e-02 -1.36607625e-02 -1.05337817e-02 -5.31869456e-02\n",
            "  3.44833918e-02 -8.62746779e-03 -1.47559047e-02  3.03668473e-02\n",
            "  7.24327639e-02 -7.03660101e-02  4.36925590e-02  8.17320123e-03\n",
            "  1.77443288e-02 -9.56417434e-03 -6.55340496e-03 -3.76199633e-02\n",
            " -3.61126810e-02  4.63558640e-03  4.44159508e-02  3.11460104e-02\n",
            " -7.36423284e-02  5.78820966e-02 -3.55424620e-02 -3.72147411e-02\n",
            " -4.85151596e-02 -7.51369298e-02 -6.21528178e-02 -3.10797021e-02\n",
            " -5.87291177e-03  6.38167560e-02  1.49118640e-02  8.13924968e-02\n",
            " -5.79324551e-03 -4.63517271e-02  6.35803416e-02 -1.52414637e-02\n",
            "  2.31314059e-02 -9.16722044e-03 -1.00611791e-01 -4.59916852e-02\n",
            "  6.87964773e-03 -8.98867697e-02 -4.18674164e-02 -2.75102984e-02\n",
            "  8.21866170e-02 -7.53274485e-02 -3.32647888e-03 -5.37249784e-04\n",
            " -4.32788804e-02 -3.84394564e-02 -9.13996156e-03 -6.10844279e-03\n",
            "  3.60213383e-03 -2.05724761e-02 -4.38544340e-02  1.20477416e-02\n",
            "  7.39893913e-02  4.68616225e-02  1.41264796e-02  3.54635455e-02\n",
            " -2.68824887e-03 -3.62687651e-03 -2.48563029e-02  3.03196982e-02\n",
            " -1.47970421e-02  3.72057501e-03 -6.36088625e-02 -9.35745761e-02\n",
            "  3.17732766e-02  5.46150729e-02 -4.97198775e-02  1.65084209e-02\n",
            " -8.61805025e-03 -1.28741795e-02 -5.52171394e-02  6.78310450e-03\n",
            " -1.91957690e-02 -4.43517184e-03 -2.92801205e-03  7.49464855e-02\n",
            " -4.07738145e-03  3.54676247e-02 -1.32633269e-01  3.21061872e-02\n",
            "  8.17051306e-02 -1.47735281e-02 -1.03142753e-01 -4.27940162e-03\n",
            "  4.24737390e-03  1.51735945e-02 -1.73544753e-02 -2.19919011e-02\n",
            "  8.54567960e-02 -3.61176543e-02  4.80398089e-02  3.66966836e-02\n",
            "  5.55411959e-03  8.59626103e-03  2.73571406e-02 -7.11605251e-02\n",
            "  2.69339755e-02  2.83155404e-02  5.60059622e-02 -7.70203257e-03\n",
            "  1.20855439e-02 -2.07419395e-02  9.05680135e-02 -3.50740226e-03\n",
            "  3.43813598e-02 -1.63660310e-02  3.14517021e-02 -8.39400142e-02\n",
            " -2.03080438e-02  1.18171107e-02  4.36078161e-02  3.67137603e-02\n",
            " -2.40380839e-02 -2.73360144e-02  4.34652949e-03  1.99577538e-03\n",
            "  5.01600094e-02  4.74535599e-02  5.64081930e-02 -2.68951524e-02\n",
            "  4.08980772e-02  2.22709049e-02 -7.70174116e-02 -5.70914745e-02\n",
            " -5.39049180e-03 -9.34908167e-03 -5.73716424e-02  1.43054593e-02\n",
            "  3.86296250e-02  1.43577665e-01 -1.96230281e-02 -2.21437085e-02\n",
            " -4.87836078e-02 -1.52720846e-02  4.85193990e-02  7.64813945e-02\n",
            "  1.02386914e-01  4.46668006e-02  5.03892377e-02 -2.43893191e-02\n",
            " -4.07741331e-02 -1.02817483e-01 -3.16493772e-02 -3.63747287e-03\n",
            " -1.25636123e-02 -1.78503469e-02 -1.68781951e-02  5.97684123e-02\n",
            "  1.92710962e-02  1.66924391e-02 -6.82619140e-02 -4.85572070e-02\n",
            "  9.85648856e-03  2.27156486e-02 -9.87877846e-02  5.82470447e-02\n",
            " -8.89917985e-02  3.36576849e-02 -3.75078246e-02  9.18904552e-04\n",
            " -1.78233779e-03 -1.44721530e-02  3.35047878e-02 -1.76532529e-02]\n"
          ]
        }
      ],
      "source": [
        "# write a function to turn the given sentence ''text'' into a sequence of vectors, ignoring 'out of vocabulary' words\n",
        "# wv is the dictionary for all word embeddings, i.e., wv[word] will give you the embedding of that word.\n",
        "# Hint: 1. to check if a word is out of vocabulary, call 'word in wv' and see if it returns True or False\n",
        "#       2. to get embedding for a word, call 'wv[word]'\n",
        "def text_to_vector(text, wv):\n",
        "    vectors = []\n",
        "    # TODO: append embeddings of words in text to vectors\n",
        "    words = text.split()\n",
        "    for word in words:\n",
        "        if word in wv:\n",
        "            vectors.append(wv[word])\n",
        "    return np.mean(vectors, axis=0)\n",
        "\n",
        "# demo\n",
        "print(\"Example of a vector computed for a text:\")\n",
        "print(text_to_vector(df_train[\"text\"][112], wv))"
      ]
    },
    {
      "cell_type": "code",
      "source": [
        "# convert all training/testing data into word embeddings\n",
        "X_train_wv = np.zeros((df_train.shape[0], wv.vectors.shape[1]))\n",
        "for i, text in enumerate(df_train[\"text\"]):\n",
        "    X_train_wv[i] = text_to_vector(text, wv)# TODO: using text_to_vector() function defined above, convert each text into a word embedding vector\n",
        "\n",
        "X_test_wv = np.zeros((df_test.shape[0], wv.vectors.shape[1]))\n",
        "for i, text in enumerate(df_test[\"text\"]):\n",
        "    X_test_wv[i] = text_to_vector(text, wv)# TODO: using text_to_vector() function defined above, convert each text into a word embedding vector"
      ],
      "metadata": {
        "id": "dTENQOpEHkJv"
      },
      "execution_count": null,
      "outputs": []
    },
    {
      "cell_type": "code",
      "execution_count": null,
      "metadata": {
        "colab": {
          "base_uri": "https://localhost:8080/"
        },
        "id": "hRT3aPei8uum",
        "outputId": "0466dce7-23ad-4c03-fa71-f3e69aedc40c"
      },
      "outputs": [
        {
          "output_type": "execute_result",
          "data": {
            "text/plain": [
              "((25000, 300), (25000, 300), (25000,), (25000,))"
            ]
          },
          "metadata": {},
          "execution_count": 26
        }
      ],
      "source": [
        "y_train = df_train[\"label\"]\n",
        "y_test = df_test[\"label\"]\n",
        "\n",
        "# check data shapes\n",
        "X_train_wv.shape, X_test_wv.shape, y_train.shape, y_test.shape"
      ]
    },
    {
      "cell_type": "code",
      "execution_count": null,
      "metadata": {
        "id": "SEeeIbZcAcot"
      },
      "outputs": [],
      "source": [
        "# a good practice is to scale data before training\n",
        "from sklearn.preprocessing import StandardScaler\n",
        "\n",
        "scaler = StandardScaler()\n",
        "# as previous example, you will need to use functions fit_transform() and\n",
        "# transform() on X_train_wv and X_test_wv\n",
        "X_train_wv = scaler.fit_transform(X_train_wv)# TODO\n",
        "X_test_wv = scaler.transform(X_test_wv)# TODO"
      ]
    },
    {
      "cell_type": "code",
      "execution_count": null,
      "metadata": {
        "colab": {
          "base_uri": "https://localhost:8080/"
        },
        "id": "lZoT92249ZTX",
        "outputId": "2e5dbe11-6bc8-4847-f2da-da49abd991ad"
      },
      "outputs": [
        {
          "output_type": "stream",
          "name": "stdout",
          "text": [
            "Accuracy: 0.8588\n"
          ]
        }
      ],
      "source": [
        "# train LogisticRegression with glove-wiki-gigaword-50/word2vec-google-news-300\n",
        "# embeddings\n",
        "\n",
        "from sklearn.linear_model import LogisticRegression\n",
        "from sklearn.metrics import accuracy_score\n",
        "\n",
        "model = LogisticRegression()# TODO: define your logistic regression model\n",
        "# TODO: train your model on (X_train_wv, y_train) using fit()\n",
        "model.fit(X_train_wv, y_train)\n",
        "y_pred = model.predict(X_test_wv)# TODO: test your model performance on testing data using predict\n",
        "print(\"Accuracy:\", accuracy_score(y_test, y_pred))"
      ]
    },
    {
      "cell_type": "markdown",
      "source": [
        "How does the accuracy differ when using 300-dim-word2vec embeddings vs 50-dimensional-glove embeddings? Explain why you expect your answer."
      ],
      "metadata": {
        "id": "_oBAj3Nd0lyq"
      }
    },
    {
      "cell_type": "markdown",
      "source": [
        "I think accuracy would increase using 300-dim-word2vec because there is more dimension meaning that each vector can contain more information than using 50-dimensional-glove."
      ],
      "metadata": {
        "id": "vHy2ZkTvjtID"
      }
    },
    {
      "cell_type": "markdown",
      "metadata": {
        "id": "FOHwPF5sNimV"
      },
      "source": [
        "Exercise 2 (20 points)\n",
        "\n",
        "You can now try training both versions of logistic regression, with bag-of-words or pretrained embeddings, for some other dataset. You can select any dataset e. g. from [Kaggle](https://www.kaggle.com/datasets?search=text+classification) or just use the one we picked for you: the [AGNews dataset](https://paperswithcode.com/dataset/ag-news). It consists of news articles constructed by assembling titles and description fields of articles from the 4 topics (“World”, “Sports”, “Business”, “Sci/Tech”), and the task is to predict one category per text. You should decide what preprocessing you want to do (5 points), train two models (5 points each), optimize via hyperparameter tuning and tuning of things like min_df, type of embedding (glove vs word2vec) etc. (5 points)."
      ]
    },
    {
      "cell_type": "code",
      "source": [
        "!pip install datasets"
      ],
      "metadata": {
        "id": "YI4lONopQErc",
        "outputId": "f10ccbd0-283e-47b3-b4bf-ddd0c045d979",
        "colab": {
          "base_uri": "https://localhost:8080/"
        }
      },
      "execution_count": null,
      "outputs": [
        {
          "output_type": "stream",
          "name": "stdout",
          "text": [
            "Collecting datasets\n",
            "  Downloading datasets-2.15.0-py3-none-any.whl (521 kB)\n",
            "\u001b[2K     \u001b[90m━━━━━━━━━━━━━━━━━━━━━━━━━━━━━━━━━━━━━━━━\u001b[0m \u001b[32m521.2/521.2 kB\u001b[0m \u001b[31m5.6 MB/s\u001b[0m eta \u001b[36m0:00:00\u001b[0m\n",
            "\u001b[?25hRequirement already satisfied: numpy>=1.17 in /usr/local/lib/python3.10/dist-packages (from datasets) (1.23.5)\n",
            "Requirement already satisfied: pyarrow>=8.0.0 in /usr/local/lib/python3.10/dist-packages (from datasets) (9.0.0)\n",
            "Collecting pyarrow-hotfix (from datasets)\n",
            "  Downloading pyarrow_hotfix-0.6-py3-none-any.whl (7.9 kB)\n",
            "Collecting dill<0.3.8,>=0.3.0 (from datasets)\n",
            "  Downloading dill-0.3.7-py3-none-any.whl (115 kB)\n",
            "\u001b[2K     \u001b[90m━━━━━━━━━━━━━━━━━━━━━━━━━━━━━━━━━━━━━━━━\u001b[0m \u001b[32m115.3/115.3 kB\u001b[0m \u001b[31m12.1 MB/s\u001b[0m eta \u001b[36m0:00:00\u001b[0m\n",
            "\u001b[?25hRequirement already satisfied: pandas in /usr/local/lib/python3.10/dist-packages (from datasets) (1.5.3)\n",
            "Requirement already satisfied: requests>=2.19.0 in /usr/local/lib/python3.10/dist-packages (from datasets) (2.31.0)\n",
            "Requirement already satisfied: tqdm>=4.62.1 in /usr/local/lib/python3.10/dist-packages (from datasets) (4.66.1)\n",
            "Requirement already satisfied: xxhash in /usr/local/lib/python3.10/dist-packages (from datasets) (3.4.1)\n",
            "Collecting multiprocess (from datasets)\n",
            "  Downloading multiprocess-0.70.15-py310-none-any.whl (134 kB)\n",
            "\u001b[2K     \u001b[90m━━━━━━━━━━━━━━━━━━━━━━━━━━━━━━━━━━━━━━━━\u001b[0m \u001b[32m134.8/134.8 kB\u001b[0m \u001b[31m11.4 MB/s\u001b[0m eta \u001b[36m0:00:00\u001b[0m\n",
            "\u001b[?25hRequirement already satisfied: fsspec[http]<=2023.10.0,>=2023.1.0 in /usr/local/lib/python3.10/dist-packages (from datasets) (2023.6.0)\n",
            "Requirement already satisfied: aiohttp in /usr/local/lib/python3.10/dist-packages (from datasets) (3.9.1)\n",
            "Requirement already satisfied: huggingface-hub>=0.18.0 in /usr/local/lib/python3.10/dist-packages (from datasets) (0.19.4)\n",
            "Requirement already satisfied: packaging in /usr/local/lib/python3.10/dist-packages (from datasets) (23.2)\n",
            "Requirement already satisfied: pyyaml>=5.1 in /usr/local/lib/python3.10/dist-packages (from datasets) (6.0.1)\n",
            "Requirement already satisfied: attrs>=17.3.0 in /usr/local/lib/python3.10/dist-packages (from aiohttp->datasets) (23.1.0)\n",
            "Requirement already satisfied: multidict<7.0,>=4.5 in /usr/local/lib/python3.10/dist-packages (from aiohttp->datasets) (6.0.4)\n",
            "Requirement already satisfied: yarl<2.0,>=1.0 in /usr/local/lib/python3.10/dist-packages (from aiohttp->datasets) (1.9.3)\n",
            "Requirement already satisfied: frozenlist>=1.1.1 in /usr/local/lib/python3.10/dist-packages (from aiohttp->datasets) (1.4.0)\n",
            "Requirement already satisfied: aiosignal>=1.1.2 in /usr/local/lib/python3.10/dist-packages (from aiohttp->datasets) (1.3.1)\n",
            "Requirement already satisfied: async-timeout<5.0,>=4.0 in /usr/local/lib/python3.10/dist-packages (from aiohttp->datasets) (4.0.3)\n",
            "Requirement already satisfied: filelock in /usr/local/lib/python3.10/dist-packages (from huggingface-hub>=0.18.0->datasets) (3.13.1)\n",
            "Requirement already satisfied: typing-extensions>=3.7.4.3 in /usr/local/lib/python3.10/dist-packages (from huggingface-hub>=0.18.0->datasets) (4.5.0)\n",
            "Requirement already satisfied: charset-normalizer<4,>=2 in /usr/local/lib/python3.10/dist-packages (from requests>=2.19.0->datasets) (3.3.2)\n",
            "Requirement already satisfied: idna<4,>=2.5 in /usr/local/lib/python3.10/dist-packages (from requests>=2.19.0->datasets) (2.10)\n",
            "Requirement already satisfied: urllib3<3,>=1.21.1 in /usr/local/lib/python3.10/dist-packages (from requests>=2.19.0->datasets) (1.26.18)\n",
            "Requirement already satisfied: certifi>=2017.4.17 in /usr/local/lib/python3.10/dist-packages (from requests>=2.19.0->datasets) (2023.11.17)\n",
            "Requirement already satisfied: python-dateutil>=2.8.1 in /usr/local/lib/python3.10/dist-packages (from pandas->datasets) (2.8.2)\n",
            "Requirement already satisfied: pytz>=2020.1 in /usr/local/lib/python3.10/dist-packages (from pandas->datasets) (2023.3.post1)\n",
            "Requirement already satisfied: six>=1.5 in /usr/local/lib/python3.10/dist-packages (from python-dateutil>=2.8.1->pandas->datasets) (1.16.0)\n",
            "Installing collected packages: pyarrow-hotfix, dill, multiprocess, datasets\n",
            "Successfully installed datasets-2.15.0 dill-0.3.7 multiprocess-0.70.15 pyarrow-hotfix-0.6\n"
          ]
        }
      ]
    },
    {
      "cell_type": "code",
      "source": [
        "from datasets import load_dataset\n",
        "dataset = load_dataset(\"ag_news\")\n",
        "# dataset[\"train\"][\"text\"], dataset[\"test\"][\"text\"]\n",
        "# dataset[\"train\"][\"label\"], dataset[\"test\"][\"label\"]"
      ],
      "metadata": {
        "id": "l1yY5CULPP31",
        "colab": {
          "base_uri": "https://localhost:8080/",
          "height": 241,
          "referenced_widgets": [
            "b34c2c94487745bf969aa1f9f4150d81",
            "47810a2cce5540ef86da0c5fadadbfcc",
            "c606fa471091496faf090fb1b18b1dc8",
            "d6c36eb0fc9847a29bf1b13d8cdbfcfd",
            "33e5571b525e45c59e5bc31297ccd063",
            "3e2efa5b9ab6449d9f314a1d24fc7514",
            "15710387d67049e0825a9c3c3552cb34",
            "d6ac1f9d02864bbdbc2431ea7c75cafa",
            "30d505abe6e341ec8bc4b48df1b36266",
            "91882506706f4560ad986798612bafd1",
            "a2a8700c30d7444f963bac98a389e402",
            "7929941a3d664ebe95d8fd6f3f74fa37",
            "1966e3e3c5674d33aa8c1821fb582cd2",
            "fe508037d3b742bd9191c2d8e7199525",
            "6e197ca6353a477497efc661cea483d9",
            "4f721f8dd57145a0af4fc03d305c7a28",
            "09ee61fa0f5c429bba51a3f7447f9994",
            "64737679203143de81c9297ac02f0ccb",
            "84d190d193044d499958682a7522c370",
            "194d461da9cf4bf1912f3a76571e852c",
            "9225c6d40b4a4cbe8293e875e867d072",
            "dcf6c85f5336460e9217c7d8fabc3b71",
            "981d3119caa24d29b8bc5bce03205514",
            "29db303f030545ff9c5dd7f7348f5619",
            "7aea0d1ffaa949808ea39f7c6a851a1e",
            "bc697782aff449f981469e275126bb36",
            "c263204a68554af3812d614770d15a22",
            "077ac53392064cdcb7a6e7598444aabe",
            "f47fa52eafff42609ce09d6808b523f4",
            "237d6d62263d45cfbad19d190bffc598",
            "be7cbe79b076473fb5aedf5c0ce8efbd",
            "4329de6a098c404a86c58b6121884bbe",
            "1a88fb16cef5494ba43ca1f0baeae5bc",
            "625fb126181041d7bb8e85cb37d86a91",
            "bc95c832df94498391fec5bf105f619b",
            "a985e57491c8447198bcb04e73a8e94f",
            "ba2de659a073433cbcd350cc8abe8767",
            "0bff65de7b934973be554bda4a082271",
            "fd3e05950614428b8f49b3b21520fdf6",
            "2aeaae419ff34a1bb32f9a2d7bd7ca84",
            "9b502eaca5d441a29b42414842c3a5c3",
            "1494f048a7794c0aa65d368ac92fd406",
            "64ff0c47f8ba4bedbd430800a5f8be62",
            "af3b3021c92e4b1e80eb4cacc6749082",
            "cf65e22bdd9d40a491088f801df92c67",
            "74e62a4187af44e79556075461cb3823",
            "34f4ff370bb3482ab6dae03616d94211",
            "582b8387866c41c28935908b6eb75974",
            "a5d4d7d3a8cd4c6baaa7c3663a2930dd",
            "d016d99ef63d43f48a1c6ea88ff55719",
            "2446ba17c9f74c5d87f53373b369f67d",
            "2dea91de30f44b67a2d0fea7c7a5a1d0",
            "cf755fd7b4e1490c94943f1f3f30b35f",
            "dedc65f9d4674a12827ecb92f38b303d",
            "75929cfc0776448e838f7b412e391047",
            "252de9e4e60f4678984a19965e7bdffb",
            "3b1a888bcec9446f9c2e4e9576964e8e",
            "845ed25ac7fe450eaf7c8a74d2b7a89f",
            "7f06e158d7f74a46a2eb94d150caedfc",
            "71060a80f5654882b4addf8a4314e03f",
            "96c5a01921df41fd8c8f67a07ab82928",
            "6097bbc395bc44af80f396e03a2650cf",
            "1db9dbdb53014bbc80875166b1e4a9df",
            "ee481e2567874d4292ee5a2751ada6e1",
            "d1cdf52f00cd40efb20598dc8dca5c86",
            "e7e1b4f7aa12490a8ea2480afa25a4bf",
            "7b5bd2018e52488a881dc92d517dbe7e",
            "1b637c7dbdea48f9b8eba7d90f8756df",
            "afa4431807394947a7749474808a2e02",
            "74bd9aea7a0c483f92967d455905c86f",
            "770b5106229345599eb60a02abb772d8",
            "8f63f4d41c714c93b53e8b30467b4250",
            "4140544089804726abbc80b15e8e8b8d",
            "9fcf64d5b8834dd2865c40e4118c38d7",
            "7da2850e0b4641fb9110e2ff1692079b",
            "13308dead3f6465c9b638c4ea7fca9b0",
            "7f711158ff514e22bd40af458b20a19b"
          ]
        },
        "outputId": "801a4442-819a-4396-d503-14486cdf8b6a"
      },
      "execution_count": null,
      "outputs": [
        {
          "output_type": "display_data",
          "data": {
            "text/plain": [
              "Downloading builder script:   0%|          | 0.00/4.06k [00:00<?, ?B/s]"
            ],
            "application/vnd.jupyter.widget-view+json": {
              "version_major": 2,
              "version_minor": 0,
              "model_id": "b34c2c94487745bf969aa1f9f4150d81"
            }
          },
          "metadata": {}
        },
        {
          "output_type": "display_data",
          "data": {
            "text/plain": [
              "Downloading metadata:   0%|          | 0.00/2.65k [00:00<?, ?B/s]"
            ],
            "application/vnd.jupyter.widget-view+json": {
              "version_major": 2,
              "version_minor": 0,
              "model_id": "7929941a3d664ebe95d8fd6f3f74fa37"
            }
          },
          "metadata": {}
        },
        {
          "output_type": "display_data",
          "data": {
            "text/plain": [
              "Downloading readme:   0%|          | 0.00/7.95k [00:00<?, ?B/s]"
            ],
            "application/vnd.jupyter.widget-view+json": {
              "version_major": 2,
              "version_minor": 0,
              "model_id": "981d3119caa24d29b8bc5bce03205514"
            }
          },
          "metadata": {}
        },
        {
          "output_type": "display_data",
          "data": {
            "text/plain": [
              "Downloading data:   0%|          | 0.00/11.0M [00:00<?, ?B/s]"
            ],
            "application/vnd.jupyter.widget-view+json": {
              "version_major": 2,
              "version_minor": 0,
              "model_id": "625fb126181041d7bb8e85cb37d86a91"
            }
          },
          "metadata": {}
        },
        {
          "output_type": "display_data",
          "data": {
            "text/plain": [
              "Downloading data:   0%|          | 0.00/751k [00:00<?, ?B/s]"
            ],
            "application/vnd.jupyter.widget-view+json": {
              "version_major": 2,
              "version_minor": 0,
              "model_id": "cf65e22bdd9d40a491088f801df92c67"
            }
          },
          "metadata": {}
        },
        {
          "output_type": "display_data",
          "data": {
            "text/plain": [
              "Generating train split:   0%|          | 0/120000 [00:00<?, ? examples/s]"
            ],
            "application/vnd.jupyter.widget-view+json": {
              "version_major": 2,
              "version_minor": 0,
              "model_id": "252de9e4e60f4678984a19965e7bdffb"
            }
          },
          "metadata": {}
        },
        {
          "output_type": "display_data",
          "data": {
            "text/plain": [
              "Generating test split:   0%|          | 0/7600 [00:00<?, ? examples/s]"
            ],
            "application/vnd.jupyter.widget-view+json": {
              "version_major": 2,
              "version_minor": 0,
              "model_id": "7b5bd2018e52488a881dc92d517dbe7e"
            }
          },
          "metadata": {}
        }
      ]
    },
    {
      "cell_type": "markdown",
      "source": [
        "#### Preprocessing"
      ],
      "metadata": {
        "id": "VDCaS1J3vi9n"
      }
    },
    {
      "cell_type": "code",
      "source": [
        "import pandas as pd\n",
        "\n",
        "df_train = pd.DataFrame(dataset['train'])\n",
        "df_test = pd.DataFrame(dataset['test'])"
      ],
      "metadata": {
        "id": "G5FFpQodyjBU"
      },
      "execution_count": null,
      "outputs": []
    },
    {
      "cell_type": "code",
      "source": [
        "df_train.reset_index(drop=True, inplace=True)\n",
        "X_train = df_train['text']\n",
        "y_train = df_train['label']\n",
        "X_test = df_test['text']\n",
        "y_test = df_test['label']"
      ],
      "metadata": {
        "id": "1d3qkTUAwRbx"
      },
      "execution_count": null,
      "outputs": []
    },
    {
      "cell_type": "code",
      "source": [
        "X_train[0]"
      ],
      "metadata": {
        "id": "IKa_ZfN9xvLT",
        "outputId": "5499082c-2654-4068-f81b-2c189b6b5658",
        "colab": {
          "base_uri": "https://localhost:8080/",
          "height": 35
        }
      },
      "execution_count": null,
      "outputs": [
        {
          "output_type": "execute_result",
          "data": {
            "text/plain": [
              "\"Wall St. Bears Claw Back Into the Black (Reuters) Reuters - Short-sellers, Wall Street's dwindling\\\\band of ultra-cynics, are seeing green again.\""
            ],
            "application/vnd.google.colaboratory.intrinsic+json": {
              "type": "string"
            }
          },
          "metadata": {},
          "execution_count": 33
        }
      ]
    },
    {
      "cell_type": "code",
      "source": [
        "import re\n",
        "import string\n",
        "\n",
        "\n",
        "def preprocess_text(text):\n",
        "    text = re.sub(r'<.*?>', '', text)\n",
        "    text = text.translate(str.maketrans('', '', string.punctuation)).lower()\n",
        "    # Removing numbers\n",
        "    text = re.sub(r'\\d+', '', text)\n",
        "    # Removing extra spaces\n",
        "    text = re.sub(r'\\s+', ' ', text).strip()\n",
        "    return text\n",
        "\n",
        "# Assuming you have a DataFrame 'df' with columns 'text' and 'label'\n",
        "X_train = X_train.apply(preprocess_text)\n",
        "X_test = X_test.apply(preprocess_text)"
      ],
      "metadata": {
        "id": "mL-PIOKAvhWl"
      },
      "execution_count": null,
      "outputs": []
    },
    {
      "cell_type": "code",
      "source": [
        "X_train[0]"
      ],
      "metadata": {
        "id": "Bb-rsbUD0wv8",
        "outputId": "53904060-7e1c-4851-bc40-bc2856385205",
        "colab": {
          "base_uri": "https://localhost:8080/",
          "height": 35
        }
      },
      "execution_count": null,
      "outputs": [
        {
          "output_type": "execute_result",
          "data": {
            "text/plain": [
              "'wall st bears claw back into the black reuters reuters shortsellers wall streets dwindlingband of ultracynics are seeing green again'"
            ],
            "application/vnd.google.colaboratory.intrinsic+json": {
              "type": "string"
            }
          },
          "metadata": {},
          "execution_count": 35
        }
      ]
    },
    {
      "cell_type": "markdown",
      "source": [
        "#### Bag-of-words + Linear classificaion"
      ],
      "metadata": {
        "id": "1kLuzfzR4ZTw"
      }
    },
    {
      "cell_type": "code",
      "source": [
        "from sklearn.feature_extraction.text import CountVectorizer\n",
        "from sklearn.linear_model import LogisticRegression\n",
        "from sklearn.metrics import accuracy_score\n",
        "\n",
        "count_vect = CountVectorizer(min_df=3)\n",
        "\n",
        "X_train_counts = count_vect.fit_transform(X_train)\n",
        "X_test_counts = count_vect.transform(X_test)\n",
        "\n",
        "print(\"Train shape:\", X_train_counts.shape, \"Test shape:\", X_test_counts.shape)\n",
        "\n",
        "model = LogisticRegression()\n",
        "model.fit(X_train_counts, y_train)\n",
        "y_pred = model.predict(X_test_counts)\n",
        "print(\"Accuracy:\", accuracy_score(y_test, y_pred))"
      ],
      "metadata": {
        "id": "CrVuIy5f4arc",
        "outputId": "c443a831-35e1-4e8e-e8e7-4bfd2b96c495",
        "colab": {
          "base_uri": "https://localhost:8080/"
        }
      },
      "execution_count": null,
      "outputs": [
        {
          "output_type": "stream",
          "name": "stdout",
          "text": [
            "Train shape: (120000, 37198) Test shape: (7600, 37198)\n",
            "Accuracy: 0.9086842105263158\n"
          ]
        },
        {
          "output_type": "stream",
          "name": "stderr",
          "text": [
            "/usr/local/lib/python3.10/dist-packages/sklearn/linear_model/_logistic.py:458: ConvergenceWarning: lbfgs failed to converge (status=1):\n",
            "STOP: TOTAL NO. of ITERATIONS REACHED LIMIT.\n",
            "\n",
            "Increase the number of iterations (max_iter) or scale the data as shown in:\n",
            "    https://scikit-learn.org/stable/modules/preprocessing.html\n",
            "Please also refer to the documentation for alternative solver options:\n",
            "    https://scikit-learn.org/stable/modules/linear_model.html#logistic-regression\n",
            "  n_iter_i = _check_optimize_result(\n"
          ]
        }
      ]
    },
    {
      "cell_type": "markdown",
      "source": [
        "##### some fine-tuning for bag-of-words count vectorizer"
      ],
      "metadata": {
        "id": "brep4iT_B0a_"
      }
    },
    {
      "cell_type": "code",
      "source": [
        "min_df_values = [1, 2, 3, 4, 5, 10, 20]\n",
        "\n",
        "best_accuracy = 0\n",
        "best_min_df = 0\n",
        "\n",
        "for min_df in min_df_values:\n",
        "    count_vect = CountVectorizer(min_df=min_df)\n",
        "    X_train_counts = count_vect.fit_transform(X_train)\n",
        "    X_test_counts = count_vect.transform(X_test)\n",
        "\n",
        "    model = LogisticRegression()\n",
        "    model.fit(X_train_counts, y_train)\n",
        "\n",
        "    y_pred = model.predict(X_test_counts)\n",
        "    accuracy = accuracy_score(y_test, y_pred)\n",
        "    print(f\"Accuracy with min_df = {min_df}: {accuracy}\")\n",
        "\n",
        "    if accuracy > best_accuracy:\n",
        "        best_accuracy = accuracy\n",
        "        best_min_df = min_df\n",
        "\n",
        "print(f\"Best min_df: {best_min_df} with Accuracy: {best_accuracy}\")"
      ],
      "metadata": {
        "id": "Ag09seKkByKT",
        "colab": {
          "base_uri": "https://localhost:8080/"
        },
        "outputId": "13edefff-c97f-4fbe-a73e-698629253f1d"
      },
      "execution_count": null,
      "outputs": [
        {
          "output_type": "stream",
          "name": "stderr",
          "text": [
            "/usr/local/lib/python3.10/dist-packages/sklearn/linear_model/_logistic.py:458: ConvergenceWarning: lbfgs failed to converge (status=1):\n",
            "STOP: TOTAL NO. of ITERATIONS REACHED LIMIT.\n",
            "\n",
            "Increase the number of iterations (max_iter) or scale the data as shown in:\n",
            "    https://scikit-learn.org/stable/modules/preprocessing.html\n",
            "Please also refer to the documentation for alternative solver options:\n",
            "    https://scikit-learn.org/stable/modules/linear_model.html#logistic-regression\n",
            "  n_iter_i = _check_optimize_result(\n"
          ]
        },
        {
          "output_type": "stream",
          "name": "stdout",
          "text": [
            "Accuracy with min_df = 1: 0.9093421052631578\n"
          ]
        },
        {
          "output_type": "stream",
          "name": "stderr",
          "text": [
            "/usr/local/lib/python3.10/dist-packages/sklearn/linear_model/_logistic.py:458: ConvergenceWarning: lbfgs failed to converge (status=1):\n",
            "STOP: TOTAL NO. of ITERATIONS REACHED LIMIT.\n",
            "\n",
            "Increase the number of iterations (max_iter) or scale the data as shown in:\n",
            "    https://scikit-learn.org/stable/modules/preprocessing.html\n",
            "Please also refer to the documentation for alternative solver options:\n",
            "    https://scikit-learn.org/stable/modules/linear_model.html#logistic-regression\n",
            "  n_iter_i = _check_optimize_result(\n"
          ]
        },
        {
          "output_type": "stream",
          "name": "stdout",
          "text": [
            "Accuracy with min_df = 2: 0.9090789473684211\n"
          ]
        },
        {
          "output_type": "stream",
          "name": "stderr",
          "text": [
            "/usr/local/lib/python3.10/dist-packages/sklearn/linear_model/_logistic.py:458: ConvergenceWarning: lbfgs failed to converge (status=1):\n",
            "STOP: TOTAL NO. of ITERATIONS REACHED LIMIT.\n",
            "\n",
            "Increase the number of iterations (max_iter) or scale the data as shown in:\n",
            "    https://scikit-learn.org/stable/modules/preprocessing.html\n",
            "Please also refer to the documentation for alternative solver options:\n",
            "    https://scikit-learn.org/stable/modules/linear_model.html#logistic-regression\n",
            "  n_iter_i = _check_optimize_result(\n"
          ]
        },
        {
          "output_type": "stream",
          "name": "stdout",
          "text": [
            "Accuracy with min_df = 3: 0.9086842105263158\n"
          ]
        },
        {
          "output_type": "stream",
          "name": "stderr",
          "text": [
            "/usr/local/lib/python3.10/dist-packages/sklearn/linear_model/_logistic.py:458: ConvergenceWarning: lbfgs failed to converge (status=1):\n",
            "STOP: TOTAL NO. of ITERATIONS REACHED LIMIT.\n",
            "\n",
            "Increase the number of iterations (max_iter) or scale the data as shown in:\n",
            "    https://scikit-learn.org/stable/modules/preprocessing.html\n",
            "Please also refer to the documentation for alternative solver options:\n",
            "    https://scikit-learn.org/stable/modules/linear_model.html#logistic-regression\n",
            "  n_iter_i = _check_optimize_result(\n"
          ]
        },
        {
          "output_type": "stream",
          "name": "stdout",
          "text": [
            "Accuracy with min_df = 4: 0.9086842105263158\n"
          ]
        },
        {
          "output_type": "stream",
          "name": "stderr",
          "text": [
            "/usr/local/lib/python3.10/dist-packages/sklearn/linear_model/_logistic.py:458: ConvergenceWarning: lbfgs failed to converge (status=1):\n",
            "STOP: TOTAL NO. of ITERATIONS REACHED LIMIT.\n",
            "\n",
            "Increase the number of iterations (max_iter) or scale the data as shown in:\n",
            "    https://scikit-learn.org/stable/modules/preprocessing.html\n",
            "Please also refer to the documentation for alternative solver options:\n",
            "    https://scikit-learn.org/stable/modules/linear_model.html#logistic-regression\n",
            "  n_iter_i = _check_optimize_result(\n"
          ]
        },
        {
          "output_type": "stream",
          "name": "stdout",
          "text": [
            "Accuracy with min_df = 5: 0.9086842105263158\n"
          ]
        },
        {
          "output_type": "stream",
          "name": "stderr",
          "text": [
            "/usr/local/lib/python3.10/dist-packages/sklearn/linear_model/_logistic.py:458: ConvergenceWarning: lbfgs failed to converge (status=1):\n",
            "STOP: TOTAL NO. of ITERATIONS REACHED LIMIT.\n",
            "\n",
            "Increase the number of iterations (max_iter) or scale the data as shown in:\n",
            "    https://scikit-learn.org/stable/modules/preprocessing.html\n",
            "Please also refer to the documentation for alternative solver options:\n",
            "    https://scikit-learn.org/stable/modules/linear_model.html#logistic-regression\n",
            "  n_iter_i = _check_optimize_result(\n"
          ]
        },
        {
          "output_type": "stream",
          "name": "stdout",
          "text": [
            "Accuracy with min_df = 10: 0.9085526315789474\n",
            "Accuracy with min_df = 20: 0.9048684210526315\n",
            "Best min_df: 1 with Accuracy: 0.9093421052631578\n"
          ]
        },
        {
          "output_type": "stream",
          "name": "stderr",
          "text": [
            "/usr/local/lib/python3.10/dist-packages/sklearn/linear_model/_logistic.py:458: ConvergenceWarning: lbfgs failed to converge (status=1):\n",
            "STOP: TOTAL NO. of ITERATIONS REACHED LIMIT.\n",
            "\n",
            "Increase the number of iterations (max_iter) or scale the data as shown in:\n",
            "    https://scikit-learn.org/stable/modules/preprocessing.html\n",
            "Please also refer to the documentation for alternative solver options:\n",
            "    https://scikit-learn.org/stable/modules/linear_model.html#logistic-regression\n",
            "  n_iter_i = _check_optimize_result(\n"
          ]
        }
      ]
    },
    {
      "cell_type": "markdown",
      "source": [
        "#### Word Embeddings + Linear Classification"
      ],
      "metadata": {
        "id": "gcMc-5At58RL"
      }
    },
    {
      "cell_type": "code",
      "source": [
        "import gensim.downloader as api\n",
        "from sklearn.preprocessing import StandardScaler\n",
        "wv_glove = api.load('glove-wiki-gigaword-50')\n",
        "wv_word = api.load('word2vec-google-news-300')"
      ],
      "metadata": {
        "id": "juO_MmQfpDOT"
      },
      "execution_count": null,
      "outputs": []
    },
    {
      "cell_type": "code",
      "source": [
        "def text_to_vector(text, wv_):\n",
        "    vectors = []\n",
        "    words = text.split()\n",
        "    for word in words:\n",
        "        if word in wv_:\n",
        "            vectors.append(wv_[word])\n",
        "    return np.mean(vectors, axis=0)\n",
        "\n",
        "X_train_wv_glove = np.zeros((df_train.shape[0], wv_glove.vectors.shape[1]))\n",
        "X_train_wv_word = np.zeros((df_train.shape[0], wv_word.vectors.shape[1]))\n",
        "for i, text in enumerate(X_train):\n",
        "    X_train_wv_glove[i] = text_to_vector(text, wv_glove)\n",
        "    X_train_wv_word[i] = text_to_vector(text, wv_word)\n",
        "\n",
        "X_test_wv_glove = np.zeros((df_test.shape[0], wv_glove.vectors.shape[1]))\n",
        "X_test_wv_word = np.zeros((df_test.shape[0], wv_word.vectors.shape[1]))\n",
        "for i, text in enumerate(X_test):\n",
        "    X_test_wv_glove[i] = text_to_vector(text, wv_glove)\n",
        "    X_test_wv_word[i] = text_to_vector(text, wv_word)\n",
        "\n",
        "scaler = StandardScaler()\n",
        "X_train_wv_glove = scaler.fit_transform(X_train_wv_glove)\n",
        "X_test_wv_glove = scaler.transform(X_test_wv_glove)\n",
        "scaler = StandardScaler()\n",
        "X_train_wv_word = scaler.fit_transform(X_train_wv_word)\n",
        "X_test_wv_word = scaler.transform(X_test_wv_word)\n",
        "\n",
        "model2 = LogisticRegression()\n",
        "model2.fit(X_train_wv_glove, y_train)\n",
        "y_pred2 = model2.predict(X_test_wv_glove)\n",
        "score_glove = accuracy_score(y_test, y_pred2)\n",
        "print(\"Glove Accuracy:\", score_glove)\n"
      ],
      "metadata": {
        "colab": {
          "base_uri": "https://localhost:8080/"
        },
        "id": "3EYIToFZc0Iw",
        "outputId": "25f28e67-3d19-4445-d2d8-df38a9df6881"
      },
      "execution_count": null,
      "outputs": [
        {
          "output_type": "stream",
          "name": "stdout",
          "text": [
            "Glove Accuracy: 0.8747368421052631\n"
          ]
        },
        {
          "output_type": "stream",
          "name": "stderr",
          "text": [
            "/usr/local/lib/python3.10/dist-packages/sklearn/linear_model/_logistic.py:458: ConvergenceWarning: lbfgs failed to converge (status=1):\n",
            "STOP: TOTAL NO. of ITERATIONS REACHED LIMIT.\n",
            "\n",
            "Increase the number of iterations (max_iter) or scale the data as shown in:\n",
            "    https://scikit-learn.org/stable/modules/preprocessing.html\n",
            "Please also refer to the documentation for alternative solver options:\n",
            "    https://scikit-learn.org/stable/modules/linear_model.html#logistic-regression\n",
            "  n_iter_i = _check_optimize_result(\n"
          ]
        }
      ]
    },
    {
      "cell_type": "code",
      "source": [
        "model3 = LogisticRegression()\n",
        "model3.fit(X_train_wv_word, y_train)\n",
        "y_pred3 = model3.predict(X_test_wv_word)\n",
        "score_word = accuracy_score(y_test, y_pred3)\n",
        "print(\"Word2Vector Accuracy:\", score_word)\n",
        "\n",
        "if score_glove > score_word:\n",
        "  print(f\"glove performs better and accuracy is:{score_glove}\")\n",
        "else:\n",
        "  print(f\"word2vector performs better and accuracy is:{score_word}\")"
      ],
      "metadata": {
        "colab": {
          "base_uri": "https://localhost:8080/"
        },
        "id": "TZwZsKgRm4eM",
        "outputId": "801781b9-beed-4795-9e4b-f0063e849f24"
      },
      "execution_count": null,
      "outputs": [
        {
          "output_type": "stream",
          "name": "stdout",
          "text": [
            "Word2Vector Accuracy: 0.8885526315789474\n",
            "word2vector performs better and accuracy is:0.8885526315789474\n"
          ]
        },
        {
          "output_type": "stream",
          "name": "stderr",
          "text": [
            "/usr/local/lib/python3.10/dist-packages/sklearn/linear_model/_logistic.py:458: ConvergenceWarning: lbfgs failed to converge (status=1):\n",
            "STOP: TOTAL NO. of ITERATIONS REACHED LIMIT.\n",
            "\n",
            "Increase the number of iterations (max_iter) or scale the data as shown in:\n",
            "    https://scikit-learn.org/stable/modules/preprocessing.html\n",
            "Please also refer to the documentation for alternative solver options:\n",
            "    https://scikit-learn.org/stable/modules/linear_model.html#logistic-regression\n",
            "  n_iter_i = _check_optimize_result(\n"
          ]
        }
      ]
    },
    {
      "cell_type": "markdown",
      "metadata": {
        "id": "H7nPsI3POWXW"
      },
      "source": [
        "# Part 3: Recurrent neural networks\n",
        "\n",
        "Let's train recurrent neural networks on our data and compare it to previously considered linear models. Here we will need more code."
      ]
    },
    {
      "cell_type": "markdown",
      "metadata": {
        "id": "3xQv4-9uTDVR"
      },
      "source": [
        "#### 3.1 Tokenization (2 points)"
      ]
    },
    {
      "cell_type": "markdown",
      "metadata": {
        "id": "bOLZhReKWY8J"
      },
      "source": [
        "The first step is tokenizing our data, i. e. segmenting words into subwords.\n",
        "\n",
        "__Tools__: for this task, `sentencepiece` ([link](https://github.com/google/sentencepiece)) is a widely used choice. With this library, you usually train tokenizer on your data (see examples by following the link). You can also try using some pretrained tokenizer, which can be found in the [Huggingface library](https://huggingface.co/docs/tokenizers/index) (this library of course also allows training your custom tokenizers). We will use the popular [GPT2 pretrained tokenizer](https://huggingface.co/docs/transformers/model_doc/gpt2) which was trained on a large English corpora. Huggingface also provides multilingual tokenizers, e. g. [BLOOM tokenizer](https://huggingface.co/docs/transformers/model_doc/bloom).\n"
      ]
    },
    {
      "cell_type": "code",
      "source": [
        "df_train, df_test = dataget.text.imdb_reviews().get()\n",
        "df_train.reset_index(drop=True, inplace=True)\n",
        "df_train[\"text\"] = df_train[\"text\"].apply(process_string)\n",
        "df_test[\"text\"] = df_test[\"text\"].apply(process_string)\n",
        "X_train, X_test = df_train[\"text\"], df_test[\"text\"]\n",
        "y_train = df_train[\"label\"]\n",
        "y_test = df_test[\"label\"]\n",
        "# switch back to imdb dataset"
      ],
      "metadata": {
        "id": "S57S49E9pWEs"
      },
      "execution_count": null,
      "outputs": []
    },
    {
      "cell_type": "code",
      "execution_count": null,
      "metadata": {
        "colab": {
          "base_uri": "https://localhost:8080/"
        },
        "id": "cdSawEjmTFzy",
        "outputId": "c00746c9-217b-4f00-877c-57cc199ecdc9"
      },
      "outputs": [
        {
          "output_type": "stream",
          "name": "stdout",
          "text": [
            "Requirement already satisfied: transformers in /usr/local/lib/python3.10/dist-packages (4.35.2)\n",
            "Requirement already satisfied: filelock in /usr/local/lib/python3.10/dist-packages (from transformers) (3.13.1)\n",
            "Requirement already satisfied: huggingface-hub<1.0,>=0.16.4 in /usr/local/lib/python3.10/dist-packages (from transformers) (0.19.4)\n",
            "Requirement already satisfied: numpy>=1.17 in /usr/local/lib/python3.10/dist-packages (from transformers) (1.23.5)\n",
            "Requirement already satisfied: packaging>=20.0 in /usr/local/lib/python3.10/dist-packages (from transformers) (23.2)\n",
            "Requirement already satisfied: pyyaml>=5.1 in /usr/local/lib/python3.10/dist-packages (from transformers) (6.0.1)\n",
            "Requirement already satisfied: regex!=2019.12.17 in /usr/local/lib/python3.10/dist-packages (from transformers) (2023.6.3)\n",
            "Requirement already satisfied: requests in /usr/local/lib/python3.10/dist-packages (from transformers) (2.31.0)\n",
            "Requirement already satisfied: tokenizers<0.19,>=0.14 in /usr/local/lib/python3.10/dist-packages (from transformers) (0.15.0)\n",
            "Requirement already satisfied: safetensors>=0.3.1 in /usr/local/lib/python3.10/dist-packages (from transformers) (0.4.1)\n",
            "Requirement already satisfied: tqdm>=4.27 in /usr/local/lib/python3.10/dist-packages (from transformers) (4.66.1)\n",
            "Requirement already satisfied: fsspec>=2023.5.0 in /usr/local/lib/python3.10/dist-packages (from huggingface-hub<1.0,>=0.16.4->transformers) (2023.6.0)\n",
            "Requirement already satisfied: typing-extensions>=3.7.4.3 in /usr/local/lib/python3.10/dist-packages (from huggingface-hub<1.0,>=0.16.4->transformers) (4.5.0)\n",
            "Requirement already satisfied: charset-normalizer<4,>=2 in /usr/local/lib/python3.10/dist-packages (from requests->transformers) (3.3.2)\n",
            "Requirement already satisfied: idna<4,>=2.5 in /usr/local/lib/python3.10/dist-packages (from requests->transformers) (2.10)\n",
            "Requirement already satisfied: urllib3<3,>=1.21.1 in /usr/local/lib/python3.10/dist-packages (from requests->transformers) (1.26.18)\n",
            "Requirement already satisfied: certifi>=2017.4.17 in /usr/local/lib/python3.10/dist-packages (from requests->transformers) (2023.11.17)\n"
          ]
        }
      ],
      "source": [
        "!pip install transformers\n",
        "# Google Colab has only some of python libraries preinstalled\n",
        "# others can be downloaded with pip, ! means using a command line tool"
      ]
    },
    {
      "cell_type": "code",
      "execution_count": null,
      "metadata": {
        "colab": {
          "base_uri": "https://localhost:8080/",
          "height": 355,
          "referenced_widgets": [
            "c37e154249b140cda7c2c600ebaae6e6",
            "d5d99a6d4c364df2ba37f3af52d95a52",
            "f5030420415c40a190440d8fb00fdb45",
            "0aa09079ee0043c097ad4e18e2a2c412",
            "01dac345dbc845ef8a95b89926c2024b",
            "1ec4ae19567c411a970723f540cf5691",
            "16b87fd3f7c04a4f8672ccbbca88973e",
            "690f9a389eaf48589081169c08a0450c",
            "e41eb4be46ac49bfac0d0634404e6bd0",
            "89eab71b53cc4ff5a955f009cff1b566",
            "7f6b7685402d4b82bcb5d02f457e76e9",
            "20c8ddeea1cd4584b7a828fc0bb721ff",
            "df2e989fdffd4ce2a56152ae693e7b22",
            "c1096a8d30de49c0be6e7ee6e24c4a7a",
            "230e47fe0b984dc5bdd892ebc2e2d82c",
            "b799c76879c7403291a010ac887cb374",
            "f0bdbb3039d8497bbdc78e89e988cea9",
            "4be746ba2a1b44ac8e8cb3b069bc5dcb",
            "f95ac4f5051b440f9b426c7358832394",
            "8ac49bcb19d24f40ba6c83a3972c18ea",
            "d3f9ed4b8fa74329b98f7a4795935462",
            "27440fd10085463ca5d36ab3ee110a38",
            "9cf2435145ef40b5872c399f288a7580",
            "6cf262a184d244f3bf8cfd91f830ab82",
            "96c683a9e0e74dd09c109178656f9439",
            "6cec46eaaf404b44b5a07b5037b7c1b8",
            "81e4ca7007d14197bb335fc41e67f096",
            "fdb37b3491684a299d5f6c5fac5292dc",
            "8193da3fda674adfb26a84033fbefb16",
            "028ffea89586447c90130218b368392a",
            "50d3c30a03f649ef984f9bc4d292a259",
            "6c91a3311e7e4f49ba62a84c864a932b",
            "effccfb1f3ab49c4a3c2f8cafda2b7cc",
            "a13ce2e6d29f43669cf559e462a8174e",
            "a2c4109ebe6845fb95d58dcd4325d346",
            "38ee3e0896f44260afbc1e3645d4c2d3",
            "06d78b98ee54474fb2159a0131c2f643",
            "74f45dcdfb7243719fca69a26d0bae3b",
            "1fd23b2ced6941048f698a995bd10c84",
            "ad9dfd86e57647fa85ec223160a39dd7",
            "5f603b7918ee45cd9db93712b2ebcdf1",
            "44d3ae430a5340c485b7e02395005d4a",
            "3b82ead333a44603ae483aeb7d9b9c4a",
            "7c9651e44ff746408e3476d29cfec0c0"
          ]
        },
        "id": "vRcLQ5U1OUp5",
        "outputId": "e0e0e298-d72e-490d-c1cb-b7c0bfb6ab3f"
      },
      "outputs": [
        {
          "output_type": "display_data",
          "data": {
            "text/plain": [
              "vocab.json:   0%|          | 0.00/1.04M [00:00<?, ?B/s]"
            ],
            "application/vnd.jupyter.widget-view+json": {
              "version_major": 2,
              "version_minor": 0,
              "model_id": "c37e154249b140cda7c2c600ebaae6e6"
            }
          },
          "metadata": {}
        },
        {
          "output_type": "display_data",
          "data": {
            "text/plain": [
              "merges.txt:   0%|          | 0.00/456k [00:00<?, ?B/s]"
            ],
            "application/vnd.jupyter.widget-view+json": {
              "version_major": 2,
              "version_minor": 0,
              "model_id": "20c8ddeea1cd4584b7a828fc0bb721ff"
            }
          },
          "metadata": {}
        },
        {
          "output_type": "display_data",
          "data": {
            "text/plain": [
              "tokenizer.json:   0%|          | 0.00/1.36M [00:00<?, ?B/s]"
            ],
            "application/vnd.jupyter.widget-view+json": {
              "version_major": 2,
              "version_minor": 0,
              "model_id": "9cf2435145ef40b5872c399f288a7580"
            }
          },
          "metadata": {}
        },
        {
          "output_type": "display_data",
          "data": {
            "text/plain": [
              "config.json:   0%|          | 0.00/665 [00:00<?, ?B/s]"
            ],
            "application/vnd.jupyter.widget-view+json": {
              "version_major": 2,
              "version_minor": 0,
              "model_id": "a13ce2e6d29f43669cf559e462a8174e"
            }
          },
          "metadata": {}
        },
        {
          "output_type": "error",
          "ename": "NameError",
          "evalue": "ignored",
          "traceback": [
            "\u001b[0;31m---------------------------------------------------------------------------\u001b[0m",
            "\u001b[0;31mNameError\u001b[0m                                 Traceback (most recent call last)",
            "\u001b[0;32m<ipython-input-6-745dd7e63f66>\u001b[0m in \u001b[0;36m<cell line: 4>\u001b[0;34m()\u001b[0m\n\u001b[1;32m      2\u001b[0m \u001b[0;32mfrom\u001b[0m \u001b[0mtransformers\u001b[0m \u001b[0;32mimport\u001b[0m \u001b[0mGPT2Tokenizer\u001b[0m\u001b[0;34m\u001b[0m\u001b[0;34m\u001b[0m\u001b[0m\n\u001b[1;32m      3\u001b[0m \u001b[0mtokenizer\u001b[0m \u001b[0;34m=\u001b[0m \u001b[0mGPT2Tokenizer\u001b[0m\u001b[0;34m.\u001b[0m\u001b[0mfrom_pretrained\u001b[0m\u001b[0;34m(\u001b[0m\u001b[0;34m\"gpt2\"\u001b[0m\u001b[0;34m)\u001b[0m\u001b[0;34m\u001b[0m\u001b[0;34m\u001b[0m\u001b[0m\n\u001b[0;32m----> 4\u001b[0;31m \u001b[0mprint\u001b[0m\u001b[0;34m(\u001b[0m\u001b[0mtokenizer\u001b[0m\u001b[0;34m.\u001b[0m\u001b[0mtokenize\u001b[0m\u001b[0;34m(\u001b[0m\u001b[0mdf_train\u001b[0m\u001b[0;34m[\u001b[0m\u001b[0;34m\"text\"\u001b[0m\u001b[0;34m]\u001b[0m\u001b[0;34m[\u001b[0m\u001b[0;36m112\u001b[0m\u001b[0;34m]\u001b[0m\u001b[0;34m)\u001b[0m\u001b[0;34m)\u001b[0m\u001b[0;34m\u001b[0m\u001b[0;34m\u001b[0m\u001b[0m\n\u001b[0m\u001b[1;32m      5\u001b[0m \u001b[0;31m# Ġ symbol denotes white space\u001b[0m\u001b[0;34m\u001b[0m\u001b[0;34m\u001b[0m\u001b[0m\n",
            "\u001b[0;31mNameError\u001b[0m: name 'df_train' is not defined"
          ]
        }
      ],
      "source": [
        "# tokenization example\n",
        "from transformers import GPT2Tokenizer\n",
        "tokenizer = GPT2Tokenizer.from_pretrained(\"gpt2\")\n",
        "print(tokenizer.tokenize(df_train[\"text\"][112]))\n",
        "# Ġ symbol denotes white space"
      ]
    },
    {
      "cell_type": "markdown",
      "metadata": {
        "id": "2KsXTXFgYNT_"
      },
      "source": [
        "You can see that most words in our data are quite commonly-used and are not split into subwords.\n",
        "\n",
        "`tokenizer.tokenize` provides a nice visualization of the tokenization process, but we actually need to convert our texts into integer sequences (each integer denotes an index in the vocabulary):"
      ]
    },
    {
      "cell_type": "code",
      "execution_count": null,
      "metadata": {
        "colab": {
          "base_uri": "https://localhost:8080/"
        },
        "id": "Z8yY2SstTB7s",
        "outputId": "c7a5de3d-08ed-4457-8bbb-592f9d289af7"
      },
      "outputs": [
        {
          "output_type": "stream",
          "name": "stdout",
          "text": [
            "[5661, 318, 281, 4998, 3807, 290, 477, 286, 262, 10544, 290, 49798, 290, 845, 922, 772, 996, 617, 286, 262, 10544, 290, 49798, 547, 429, 845, 2968, 287, 905, 1597, 340, 3947, 588, 484, 423, 587, 7205, 1201, 484, 547, 352, 530, 614, 1468, 340, 373, 8258, 10319, 290, 655, 477, 503, 257, 845, 922, 3807, 287, 749, 3354, 1312, 655, 42547, 760, 644, 373, 1016, 284, 1645, 1306, 1312, 373, 588, 1312, 892, 428, 318, 1016, 284, 1645, 4043, 1312, 892, 428, 318, 1016, 284, 1645, 477, 2479, 2628, 481, 1842, 428, 3807, 287, 617, 3354, 1312, 714, 429, 2245, 14376, 340, 373, 523, 8258, 475, 287, 617, 3354, 1312, 373, 6635, 10319, 276, 503, 290, 1312, 714, 429, 1975, 644, 1312, 373, 4379, 1312, 716, 4753, 1016, 284, 766, 428, 3807, 757, 340, 318, 530, 286, 883, 6918, 810, 340, 18548, 651, 14262, 790, 640, 345, 766, 340, 318, 523, 43527, 913, 1312, 4753, 4313, 4379, 428, 3807]\n"
          ]
        }
      ],
      "source": [
        "print(tokenizer.encode(df_train[\"text\"][112]))"
      ]
    },
    {
      "cell_type": "code",
      "execution_count": null,
      "metadata": {
        "colab": {
          "base_uri": "https://localhost:8080/"
        },
        "id": "u7hy-CYMbO1g",
        "outputId": "a26bf8ba-3085-400b-9efd-3b4285c454fe"
      },
      "outputs": [
        {
          "output_type": "execute_result",
          "data": {
            "text/plain": [
              "['this']"
            ]
          },
          "metadata": {},
          "execution_count": 89
        }
      ],
      "source": [
        "# sanity check\n",
        "tokenizer.convert_ids_to_tokens([5661])"
      ]
    },
    {
      "cell_type": "code",
      "execution_count": null,
      "metadata": {
        "colab": {
          "base_uri": "https://localhost:8080/"
        },
        "id": "nLQF2LmAdyOf",
        "outputId": "8c419575-de93-4abf-f3ee-6c109e582c65"
      },
      "outputs": [
        {
          "output_type": "execute_result",
          "data": {
            "text/plain": [
              "50257"
            ]
          },
          "metadata": {},
          "execution_count": 90
        }
      ],
      "source": [
        "# take a look at the vocabulary size\n",
        "tokenizer.vocab_size"
      ]
    },
    {
      "cell_type": "code",
      "execution_count": null,
      "metadata": {
        "id": "veu7x49KbLZL",
        "colab": {
          "base_uri": "https://localhost:8080/"
        },
        "outputId": "02578043-38e9-4c10-ee9a-6ebb9d4267d6"
      },
      "outputs": [
        {
          "output_type": "stream",
          "name": "stderr",
          "text": [
            "Token indices sequence length is longer than the specified maximum sequence length for this model (1101 > 1024). Running this sequence through the model will result in indexing errors\n"
          ]
        }
      ],
      "source": [
        "X_train_tok = []\n",
        "for text in df_train[\"text\"]:\n",
        "    # TODO tokenize/encode the training data set and append to X_train_tok using tokenizer.encode()\n",
        "    X_train_tok.append(tokenizer.encode(text))\n",
        "X_test_tok = []\n",
        "for text in df_test[\"text\"]:\n",
        "    # TODO tokenize/encode the testing data set and append to X_test_tok using tokenizer.encode()\n",
        "    X_test_tok.append(tokenizer.encode(text))"
      ]
    },
    {
      "cell_type": "code",
      "execution_count": null,
      "metadata": {
        "colab": {
          "base_uri": "https://localhost:8080/"
        },
        "id": "zXmoWAO8bts7",
        "outputId": "3bb2df44-48ce-43a3-ef5e-dc3ce5d6e3f7"
      },
      "outputs": [
        {
          "output_type": "stream",
          "name": "stdout",
          "text": [
            "[[64, 845, 13779, 3807, 351, 257, 1049, 4469, 2810, 416, 262, 1748, 286, 275, 5744, 290, 277, 268, 1014, 3952, 355, 257, 9283, 4336, 290, 1657, 3807, 19678, 340, 2277, 257, 44155, 403, 329, 502, 6088, 286, 22051, 290, 6088, 286, 16425, 9283, 8188, 351, 1103, 2613, 32399, 290, 1103, 10288, 284, 1613, 37284, 1140, 15536, 290, 703, 20050, 373, 340, 284, 2342, 257, 3807, 351, 257, 9283, 7505, 1231, 1719, 284, 21178, 281, 625, 496, 625, 1169, 12639, 2116, 31293, 885, 7114, 1575, 1008, 9361, 284, 787, 23142, 503, 286, 257, 4688, 5386, 474, 320, 1820, 290, 9859, 750, 257, 3734, 1693, 355, 257, 1862, 42900, 395, 30915, 3155, 7195, 422, 474, 8608, 893, 37284, 1140, 474, 1952, 340, 373, 257, 1643, 348, 36053, 290, 503, 286, 1364, 2214, 475, 612, 1107, 389, 523, 87, 3296, 326, 389, 326, 43631, 290, 2107, 511, 3160, 832, 262, 27806, 286, 511, 14142, 1074, 262, 3807, 7051, 276, 1863, 379, 257, 3049, 8761, 290, 262, 7464, 3584, 20039, 550, 262, 20024, 290, 15598, 1483, 286, 523, 867, 584, 2968, 6918, 1231, 852, 17698, 2181, 43787, 635, 20050, 373, 262, 1441, 286, 481, 494, 308, 12613, 284, 262, 3159, 1312, 2051, 262, 8097, 47568, 336, 272, 3841, 698, 963, 422, 1714, 262, 1748, 10818, 1464, 8258, 772, 618, 339, 857, 393, 1139, 845, 1310, 523, 2822, 3511, 734, 3091, 8632, 617, 38914, 290, 651, 3492, 329, 257, 1257, 640, 17372, 7078, 318, 257, 8464], [64, 23332, 1310, 2646, 900, 287, 262, 334, 74, 546, 262, 30321, 286, 257, 266, 86, 4178, 477, 2576, 2048, 9628, 4097, 257, 3734, 3350, 286, 1468, 5937, 2222, 1657, 20122, 22582, 319, 1204, 284, 428, 1257, 12838, 351, 281, 5764, 5442, 2854, 416, 2853, 354, 290, 300, 391, 274, 1464, 1049, 19860, 640, 880, 3377, 290, 257, 1257, 2342, 329, 477], [71, 40133, 765, 257, 1310, 19661, 351, 534, 10715, 428, 468, 340, 1312, 892, 611, 262, 19661, 373, 288, 10981, 428, 561, 423, 925, 329, 257, 1365, 3807, 475, 703, 714, 262, 19661, 307, 288, 10981, 618, 262, 1621, 82, 22546, 422, 1223, 1444, 257, 3971, 293, 21915, 19661, 5337, 4232, 262, 22574, 326, 318, 550, 262, 19661, 587, 288, 10981, 262, 1621, 1244, 423, 587, 257, 1310, 1165, 4939, 262, 10715, 994, 373, 429, 1165, 2089, 2407, 3499, 475, 2147, 319, 262, 1241, 286, 4365, 5340, 3230, 30113, 11752, 880, 1312, 1807, 7758, 3971, 2442, 373, 2495, 922, 607, 1790, 42370, 1312, 892, 2087, 617, 1714, 5198, 475, 428, 3857, 20798, 433, 3516, 2192, 714, 423, 587, 1365, 3350, 3863, 351, 257, 517, 880, 1900, 31557, 3807, 8674, 262, 21024, 373, 7709, 290, 262, 3597, 714, 423, 587, 6596, 319, 1111, 714, 423, 587, 257, 1310, 1225, 70, 959, 257, 1310, 18646, 517, 39770, 530, 1517, 326, 373, 1049, 546, 428, 373, 262, 779, 286, 1103, 11063, 431, 272, 7064, 326, 714, 3538, 423, 587, 3421, 523, 428, 714, 423, 587, 18976, 287, 460, 4763, 475, 484, 1107, 547, 287, 7842, 811, 1473, 4950, 4113, 588, 3600, 35746, 5457, 257, 43585, 373, 262, 3437, 290, 273, 13483, 265, 34063, 3572, 284, 5739, 1728, 6934, 4286, 1281, 9517, 2818, 407, 922, 550, 428, 587, 257, 517, 10092, 6268, 4286, 2823, 329, 262, 1263, 3159, 4286, 1281, 9517, 2818, 8188, 1107, 761, 284, 1011, 257, 736, 24073, 290, 655, 307, 257, 3621, 636, 286, 262, 4469, 428, 373, 655, 257, 256, 14761, 10739, 996, 523, 484, 550, 284, 751, 617, 334, 3020, 23335, 284, 262, 4286, 290, 617, 286, 326, 334, 3020, 23335, 1625, 422, 262, 31068, 4045, 665, 292, 429, 1107, 257, 2089, 3807, 2801, 1560, 345, 644, 428, 373, 5543, 262, 1266, 460, 18425, 43274, 3699, 3227, 1312, 423, 1683, 1775, 290, 262, 691, 326, 1312, 760, 286, 1312, 29376, 23930, 428, 284, 307, 257, 29956, 925, 3319, 85, 3807, 3501, 340, 257, 9559, 286, 269]]\n"
          ]
        }
      ],
      "source": [
        "print(X_train_tok[:3])"
      ]
    },
    {
      "cell_type": "markdown",
      "metadata": {
        "id": "uQrbp0sjc3Rd"
      },
      "source": [
        "## 3.2 Vanilla RNN and LSTM\n",
        "\n",
        "__Tools:__ for training neural networks, two most popular libraries are PyTorch and TensorFlow, we will use the first one. A tutorial on training RNNs for text classification in PyTorch: [link](https://coderzcolumn.com/tutorials/artificial-intelligence/pytorch-lstm-for-text-classification-tasks)."
      ]
    },
    {
      "cell_type": "code",
      "execution_count": null,
      "metadata": {
        "id": "xF_4NhU4cgFZ"
      },
      "outputs": [],
      "source": [
        "import torch\n",
        "import torch.nn as nn\n",
        "import torch.nn.functional as F\n",
        "import torch.optim as optim"
      ]
    },
    {
      "cell_type": "markdown",
      "metadata": {
        "id": "VOx9ZyJZeFvh"
      },
      "source": [
        "### 3.2.1 Clipping and padding sequences (2 points)\n",
        "\n",
        "When we pass data to a neural network, we group sequences into mini-batches, to speed-up the training process and to improve convergence. But sequences have various lengths, while neural networks operate with matrices or tensors with fixed dimensionalities. To bring things together, we will _pad_ short sequences with some special index, e. g. 0, and clip too long sequences.  Before doing that, we need to decide on the maximum sequence length we want to work with.  Let's plot the histogram of lengths do do that:"
      ]
    },
    {
      "cell_type": "code",
      "execution_count": null,
      "metadata": {
        "colab": {
          "base_uri": "https://localhost:8080/",
          "height": 466
        },
        "id": "dWdy33Uwdsqh",
        "outputId": "ff39cb72-d669-41c2-83dd-cb72e1816ca0"
      },
      "outputs": [
        {
          "output_type": "execute_result",
          "data": {
            "text/plain": [
              "Text(0, 0.5, 'Number of sequences')"
            ]
          },
          "metadata": {},
          "execution_count": 94
        },
        {
          "output_type": "display_data",
          "data": {
            "text/plain": [
              "<Figure size 640x480 with 1 Axes>"
            ],
            "image/png": "[encoded data removed]"
          },
          "metadata": {}
        }
      ],
      "source": [
        "_ = plt.hist([len(s) for s in X_train_tok], 100)\n",
        "plt.xlabel(\"Length\")\n",
        "plt.ylabel(\"Number of sequences\")"
      ]
    },
    {
      "cell_type": "markdown",
      "metadata": {
        "id": "t_d9K9M1fFNj"
      },
      "source": [
        "All tokens beyond the maximum sequence length will be clipped. Using large `max_seq_len` would accomodate all tokens, but be less time-efficient. Let's choose something in the middle, e. g. `max_seq_len=500`."
      ]
    },
    {
      "cell_type": "code",
      "execution_count": null,
      "metadata": {
        "id": "SihXztNZffe_"
      },
      "outputs": [],
      "source": [
        "max_seq_len = 500\n",
        "\n",
        "# clip sequences: for each element in X_train_tok and X_test_tok, truncate the length of each entry at max_seq_len. Ignore what comes after.\n",
        "# therefore each element has length at most max_seq_len\n",
        "# hint: list comprehension is your friend, or this can be done with a loop\n",
        "X_train_tok = [s[:max_seq_len] for s in X_train_tok]# TODO\n",
        "X_test_tok = [s[:max_seq_len] for s in X_test_tok]# TODO\n",
        "\n",
        "# create masks\n",
        "mask_train = [[1]*len(s)+[0]*(max_seq_len-len(s)) for s in X_train_tok]\n",
        "mask_test = [[1]*len(s)+[0]*(max_seq_len-len(s)) for s in X_test_tok]\n",
        "\n",
        "# pad sequences: for each element in X_train_tok and X_test_tok, pad each\n",
        "# element at the end with 0s such that each element has length exactly max_seq_len\n",
        "X_train_tok = [s + [0] * (max_seq_len - len(s)) for s in X_train_tok]# TODO\n",
        "X_test_tok = [s + [0] * (max_seq_len - len(s)) for s in X_test_tok]# TODO"
      ]
    },
    {
      "cell_type": "code",
      "execution_count": null,
      "metadata": {
        "colab": {
          "base_uri": "https://localhost:8080/"
        },
        "id": "9-t2CDWssoxT",
        "outputId": "ad60d32e-4d55-4c31-d1c3-3067165d70ba"
      },
      "outputs": [
        {
          "output_type": "stream",
          "name": "stdout",
          "text": [
            "[5661, 3807, 14516, 502, 326, 617, 1468, 2042, 2330, 6918, 389, 4753, 2861, 262, 804, 15003, 1927, 1312, 550, 617, 24722, 2158, 422, 262, 3726, 286, 262, 3807, 1566, 262, 886, 1312, 373, 3144, 30829, 1312, 373, 845, 12617, 351, 262, 11710, 286, 10512, 43527, 10997, 283, 11098, 355, 2539, 16667, 1820, 308, 4066, 318, 20105, 290, 550, 502, 287, 28096, 262, 2187, 28805, 891, 12998, 751, 428, 3807, 284, 534, 1409, 2013, 432, 329, 617, 1657, 8259, 422, 262, 3360, 31193, 290, 1165, 3665, 393, 17698, 8258, 6918, 286, 1909, 0, 0, 0, 0, 0, 0, 0, 0, 0, 0, 0, 0, 0, 0, 0, 0, 0, 0, 0, 0, 0, 0, 0, 0, 0, 0, 0, 0, 0, 0, 0, 0, 0, 0, 0, 0, 0, 0, 0, 0, 0, 0, 0, 0, 0, 0, 0, 0, 0, 0, 0, 0, 0, 0, 0, 0, 0, 0, 0, 0, 0, 0, 0, 0, 0, 0, 0, 0, 0, 0, 0, 0, 0, 0, 0, 0, 0, 0, 0, 0, 0, 0, 0, 0, 0, 0, 0, 0, 0, 0, 0, 0, 0, 0, 0, 0, 0, 0, 0, 0, 0, 0, 0, 0, 0, 0, 0, 0, 0, 0, 0, 0, 0, 0, 0, 0, 0, 0, 0, 0, 0, 0, 0, 0, 0, 0, 0, 0, 0, 0, 0, 0, 0, 0, 0, 0, 0, 0, 0, 0, 0, 0, 0, 0, 0, 0, 0, 0, 0, 0, 0, 0, 0, 0, 0, 0, 0, 0, 0, 0, 0, 0, 0, 0, 0, 0, 0, 0, 0, 0, 0, 0, 0, 0, 0, 0, 0, 0, 0, 0, 0, 0, 0, 0, 0, 0, 0, 0, 0, 0, 0, 0, 0, 0, 0, 0, 0, 0, 0, 0, 0, 0, 0, 0, 0, 0, 0, 0, 0, 0, 0, 0, 0, 0, 0, 0, 0, 0, 0, 0, 0, 0, 0, 0, 0, 0, 0, 0, 0, 0, 0, 0, 0, 0, 0, 0, 0, 0, 0, 0, 0, 0, 0, 0, 0, 0, 0, 0, 0, 0, 0, 0, 0, 0, 0, 0, 0, 0, 0, 0, 0, 0, 0, 0, 0, 0, 0, 0, 0, 0, 0, 0, 0, 0, 0, 0, 0, 0, 0, 0, 0, 0, 0, 0, 0, 0, 0, 0, 0, 0, 0, 0, 0, 0, 0, 0, 0, 0, 0, 0, 0, 0, 0, 0, 0, 0, 0, 0, 0, 0, 0, 0, 0, 0, 0, 0, 0, 0, 0, 0, 0, 0, 0, 0, 0, 0, 0, 0, 0, 0, 0, 0, 0, 0, 0, 0, 0, 0, 0, 0, 0, 0, 0, 0, 0, 0, 0, 0, 0, 0, 0, 0, 0, 0, 0, 0, 0, 0, 0, 0, 0, 0, 0, 0, 0, 0, 0, 0, 0, 0, 0, 0, 0, 0, 0, 0, 0, 0, 0, 0, 0, 0, 0, 0, 0, 0, 0, 0, 0, 0, 0, 0, 0, 0, 0, 0, 0, 0, 0, 0, 0, 0, 0, 0, 0, 0, 0, 0, 0]\n",
            "[[1, 1, 1, 1, 1, 1, 1, 1, 1, 1, 1, 1, 1, 1, 1, 1, 1, 1, 1, 1, 1, 1, 1, 1, 1, 1, 1, 1, 1, 1, 1, 1, 1, 1, 1, 1, 1, 1, 1, 1, 1, 1, 1, 1, 1, 1, 1, 1, 1, 1, 1, 1, 1, 1, 1, 1, 1, 1, 1, 1, 1, 1, 1, 1, 1, 1, 1, 1, 1, 1, 1, 1, 1, 1, 1, 1, 1, 1, 1, 1, 1, 1, 1, 1, 1, 1, 1, 1, 1, 1, 1, 1, 1, 1, 1, 1, 1, 1, 1, 1, 1, 1, 1, 1, 1, 1, 1, 1, 1, 1, 1, 1, 1, 1, 1, 1, 1, 1, 1, 1, 1, 1, 1, 1, 1, 1, 1, 1, 1, 1, 1, 1, 1, 1, 1, 1, 1, 1, 1, 1, 1, 1, 1, 1, 1, 1, 1, 1, 1, 1, 1, 1, 1, 1, 1, 1, 1, 1, 1, 1, 1, 1, 1, 1, 1, 1, 1, 1, 1, 1, 1, 1, 1, 1, 1, 1, 1, 1, 1, 1, 1, 1, 1, 1, 1, 1, 1, 1, 1, 1, 1, 1, 1, 1, 1, 1, 1, 1, 1, 1, 1, 1, 1, 1, 1, 1, 1, 1, 1, 1, 1, 1, 1, 1, 1, 1, 1, 1, 1, 1, 1, 1, 1, 1, 1, 1, 1, 1, 1, 1, 1, 1, 1, 1, 1, 1, 1, 1, 1, 1, 1, 0, 0, 0, 0, 0, 0, 0, 0, 0, 0, 0, 0, 0, 0, 0, 0, 0, 0, 0, 0, 0, 0, 0, 0, 0, 0, 0, 0, 0, 0, 0, 0, 0, 0, 0, 0, 0, 0, 0, 0, 0, 0, 0, 0, 0, 0, 0, 0, 0, 0, 0, 0, 0, 0, 0, 0, 0, 0, 0, 0, 0, 0, 0, 0, 0, 0, 0, 0, 0, 0, 0, 0, 0, 0, 0, 0, 0, 0, 0, 0, 0, 0, 0, 0, 0, 0, 0, 0, 0, 0, 0, 0, 0, 0, 0, 0, 0, 0, 0, 0, 0, 0, 0, 0, 0, 0, 0, 0, 0, 0, 0, 0, 0, 0, 0, 0, 0, 0, 0, 0, 0, 0, 0, 0, 0, 0, 0, 0, 0, 0, 0, 0, 0, 0, 0, 0, 0, 0, 0, 0, 0, 0, 0, 0, 0, 0, 0, 0, 0, 0, 0, 0, 0, 0, 0, 0, 0, 0, 0, 0, 0, 0, 0, 0, 0, 0, 0, 0, 0, 0, 0, 0, 0, 0, 0, 0, 0, 0, 0, 0, 0, 0, 0, 0, 0, 0, 0, 0, 0, 0, 0, 0, 0, 0, 0, 0, 0, 0, 0, 0, 0, 0, 0, 0, 0, 0, 0, 0, 0, 0, 0, 0, 0, 0, 0, 0, 0, 0, 0, 0, 0, 0, 0, 0, 0, 0, 0, 0, 0, 0, 0, 0, 0, 0, 0, 0, 0, 0, 0, 0, 0, 0, 0, 0, 0, 0, 0, 0, 0, 0, 0, 0, 0, 0, 0, 0, 0, 0, 0], [1, 1, 1, 1, 1, 1, 1, 1, 1, 1, 1, 1, 1, 1, 1, 1, 1, 1, 1, 1, 1, 1, 1, 1, 1, 1, 1, 1, 1, 1, 1, 1, 1, 1, 1, 1, 1, 1, 1, 1, 1, 1, 1, 1, 1, 1, 1, 1, 1, 1, 1, 1, 1, 1, 1, 1, 1, 1, 1, 1, 1, 1, 0, 0, 0, 0, 0, 0, 0, 0, 0, 0, 0, 0, 0, 0, 0, 0, 0, 0, 0, 0, 0, 0, 0, 0, 0, 0, 0, 0, 0, 0, 0, 0, 0, 0, 0, 0, 0, 0, 0, 0, 0, 0, 0, 0, 0, 0, 0, 0, 0, 0, 0, 0, 0, 0, 0, 0, 0, 0, 0, 0, 0, 0, 0, 0, 0, 0, 0, 0, 0, 0, 0, 0, 0, 0, 0, 0, 0, 0, 0, 0, 0, 0, 0, 0, 0, 0, 0, 0, 0, 0, 0, 0, 0, 0, 0, 0, 0, 0, 0, 0, 0, 0, 0, 0, 0, 0, 0, 0, 0, 0, 0, 0, 0, 0, 0, 0, 0, 0, 0, 0, 0, 0, 0, 0, 0, 0, 0, 0, 0, 0, 0, 0, 0, 0, 0, 0, 0, 0, 0, 0, 0, 0, 0, 0, 0, 0, 0, 0, 0, 0, 0, 0, 0, 0, 0, 0, 0, 0, 0, 0, 0, 0, 0, 0, 0, 0, 0, 0, 0, 0, 0, 0, 0, 0, 0, 0, 0, 0, 0, 0, 0, 0, 0, 0, 0, 0, 0, 0, 0, 0, 0, 0, 0, 0, 0, 0, 0, 0, 0, 0, 0, 0, 0, 0, 0, 0, 0, 0, 0, 0, 0, 0, 0, 0, 0, 0, 0, 0, 0, 0, 0, 0, 0, 0, 0, 0, 0, 0, 0, 0, 0, 0, 0, 0, 0, 0, 0, 0, 0, 0, 0, 0, 0, 0, 0, 0, 0, 0, 0, 0, 0, 0, 0, 0, 0, 0, 0, 0, 0, 0, 0, 0, 0, 0, 0, 0, 0, 0, 0, 0, 0, 0, 0, 0, 0, 0, 0, 0, 0, 0, 0, 0, 0, 0, 0, 0, 0, 0, 0, 0, 0, 0, 0, 0, 0, 0, 0, 0, 0, 0, 0, 0, 0, 0, 0, 0, 0, 0, 0, 0, 0, 0, 0, 0, 0, 0, 0, 0, 0, 0, 0, 0, 0, 0, 0, 0, 0, 0, 0, 0, 0, 0, 0, 0, 0, 0, 0, 0, 0, 0, 0, 0, 0, 0, 0, 0, 0, 0, 0, 0, 0, 0, 0, 0, 0, 0, 0, 0, 0, 0, 0, 0, 0, 0, 0, 0, 0, 0, 0, 0, 0, 0, 0, 0, 0, 0, 0, 0, 0, 0, 0, 0, 0, 0, 0, 0, 0, 0, 0, 0, 0, 0, 0, 0, 0, 0, 0, 0, 0, 0, 0, 0, 0, 0, 0, 0, 0, 0, 0, 0, 0, 0, 0, 0, 0, 0, 0, 0, 0, 0, 0, 0, 0, 0, 0, 0, 0, 0, 0, 0, 0, 0, 0, 0, 0, 0, 0, 0], [1, 1, 1, 1, 1, 1, 1, 1, 1, 1, 1, 1, 1, 1, 1, 1, 1, 1, 1, 1, 1, 1, 1, 1, 1, 1, 1, 1, 1, 1, 1, 1, 1, 1, 1, 1, 1, 1, 1, 1, 1, 1, 1, 1, 1, 1, 1, 1, 1, 1, 1, 1, 1, 1, 1, 1, 1, 1, 1, 1, 1, 1, 1, 1, 1, 1, 1, 1, 1, 1, 1, 1, 1, 1, 1, 1, 1, 1, 1, 1, 1, 1, 1, 1, 1, 1, 1, 1, 1, 1, 1, 1, 1, 1, 1, 1, 1, 1, 1, 1, 1, 1, 1, 1, 1, 1, 1, 1, 1, 1, 1, 1, 1, 1, 1, 1, 1, 1, 1, 1, 1, 1, 1, 1, 1, 1, 1, 1, 1, 1, 1, 1, 1, 1, 1, 1, 1, 1, 1, 1, 1, 1, 1, 1, 1, 1, 1, 1, 1, 1, 1, 1, 1, 1, 1, 1, 1, 1, 1, 1, 1, 1, 1, 1, 1, 1, 1, 1, 1, 1, 1, 1, 1, 1, 1, 1, 1, 1, 1, 1, 1, 1, 1, 1, 1, 1, 1, 1, 1, 1, 1, 1, 1, 1, 1, 1, 1, 1, 1, 1, 1, 1, 1, 1, 1, 1, 1, 1, 1, 1, 1, 1, 1, 1, 1, 1, 1, 1, 1, 1, 1, 1, 1, 1, 1, 1, 1, 1, 1, 1, 1, 1, 1, 1, 1, 1, 1, 1, 1, 1, 1, 1, 1, 1, 1, 1, 1, 1, 1, 1, 1, 1, 1, 1, 1, 1, 1, 1, 1, 1, 1, 1, 1, 1, 1, 1, 1, 1, 1, 1, 1, 1, 1, 1, 1, 1, 1, 1, 1, 1, 1, 1, 1, 1, 1, 1, 1, 1, 1, 1, 1, 1, 1, 1, 1, 1, 1, 1, 1, 1, 1, 1, 1, 1, 1, 1, 1, 1, 1, 1, 1, 1, 1, 1, 1, 1, 1, 1, 1, 1, 1, 1, 1, 1, 1, 1, 1, 1, 1, 1, 1, 1, 1, 1, 1, 1, 1, 0, 0, 0, 0, 0, 0, 0, 0, 0, 0, 0, 0, 0, 0, 0, 0, 0, 0, 0, 0, 0, 0, 0, 0, 0, 0, 0, 0, 0, 0, 0, 0, 0, 0, 0, 0, 0, 0, 0, 0, 0, 0, 0, 0, 0, 0, 0, 0, 0, 0, 0, 0, 0, 0, 0, 0, 0, 0, 0, 0, 0, 0, 0, 0, 0, 0, 0, 0, 0, 0, 0, 0, 0, 0, 0, 0, 0, 0, 0, 0, 0, 0, 0, 0, 0, 0, 0, 0, 0, 0, 0, 0, 0, 0, 0, 0, 0, 0, 0, 0, 0, 0, 0, 0, 0, 0, 0, 0, 0, 0, 0, 0, 0, 0, 0, 0, 0, 0, 0, 0, 0, 0, 0, 0, 0, 0, 0, 0, 0, 0, 0, 0, 0, 0, 0, 0, 0, 0, 0, 0, 0, 0, 0, 0, 0, 0, 0, 0, 0, 0, 0, 0, 0, 0, 0, 0, 0, 0, 0, 0, 0, 0, 0]]\n"
          ]
        }
      ],
      "source": [
        "print(X_train_tok[3])\n",
        "# indices at the beginning and 0's at the end\n",
        "print(mask_train[:3])\n",
        "# 1's at the beginning and 0's at the end"
      ]
    },
    {
      "cell_type": "markdown",
      "metadata": {
        "id": "ilUhf2sonaKy"
      },
      "source": [
        "### 3.2.2 Creating mini-batches\n",
        "\n",
        "We will now define datasets which store our training and testing data, and them define data loaders which will generate mini-batches from our data."
      ]
    },
    {
      "cell_type": "code",
      "execution_count": null,
      "metadata": {
        "id": "PMN3m82Mou_h"
      },
      "outputs": [],
      "source": [
        "y_train = df_train[\"label\"].values\n",
        "y_test = df_test[\"label\"].values"
      ]
    },
    {
      "cell_type": "code",
      "execution_count": null,
      "metadata": {
        "id": "IFHIZNMwk-C5"
      },
      "outputs": [],
      "source": [
        "train_dset = torch.utils.data.TensorDataset(torch.tensor(X_train_tok,\n",
        "                                                         dtype=torch.long),\n",
        "                                            torch.tensor(y_train,\n",
        "                                                         dtype=torch.long),\n",
        "                                            torch.tensor(mask_train,\n",
        "                                                         dtype=torch.float))\n",
        "\n",
        "test_dset = torch.utils.data.TensorDataset(torch.tensor(X_test_tok,\n",
        "                                                        dtype=torch.long),\n",
        "                                          torch.tensor(y_test,\n",
        "                                                        dtype=torch.long),\n",
        "                                          torch.tensor(mask_test,\n",
        "                                                        dtype=torch.float))"
      ]
    },
    {
      "cell_type": "code",
      "execution_count": null,
      "metadata": {
        "id": "FLzrzO0Os_0n"
      },
      "outputs": [],
      "source": [
        "batch_size = 128\n",
        "\n",
        "train_loader = torch.utils.data.DataLoader(train_dset,\n",
        "                          batch_size=batch_size,\n",
        "                          shuffle=True,\n",
        "                          num_workers=2\n",
        "                         )\n",
        "\n",
        "test_loader = torch.utils.data.DataLoader(test_dset,\n",
        "                          batch_size=batch_size,\n",
        "                          shuffle=False,\n",
        "                          num_workers=2\n",
        "                         )"
      ]
    },
    {
      "cell_type": "code",
      "execution_count": null,
      "metadata": {
        "colab": {
          "base_uri": "https://localhost:8080/"
        },
        "id": "XTkdBw0guYqd",
        "outputId": "945a3357-702f-47b7-99a5-cef7200239c1"
      },
      "outputs": [
        {
          "output_type": "stream",
          "name": "stdout",
          "text": [
            "torch.Size([128, 500]) torch.Size([128]) torch.Size([128, 500])\n",
            "tensor([[   82,   385,   272,  ...,     0,     0,     0],\n",
            "        [ 3829,  2431,   286,  ...,     0,     0,     0],\n",
            "        [ 1169,   691,  1517,  ...,     0,     0,     0],\n",
            "        ...,\n",
            "        [36672, 13289,   416,  ...,     0,     0,     0],\n",
            "        [ 1169,   717,   640,  ...,     0,     0,     0],\n",
            "        [   68,  1455,   590,  ...,  1512,   393,   473]])\n",
            "tensor([0, 0, 0, 1, 0, 0, 1, 1, 0, 1, 1, 0, 1, 1, 0, 1, 0, 0, 1, 1, 1, 1, 1, 1,\n",
            "        1, 1, 0, 1, 0, 1, 1, 0, 1, 1, 1, 0, 1, 1, 0, 1, 0, 0, 1, 0, 0, 1, 1, 1,\n",
            "        0, 1, 1, 0, 1, 0, 0, 1, 0, 0, 1, 1, 0, 1, 1, 1, 0, 1, 1, 0, 0, 1, 1, 1,\n",
            "        1, 1, 1, 1, 0, 0, 0, 1, 0, 1, 0, 0, 0, 0, 0, 1, 0, 1, 0, 0, 0, 0, 1, 0,\n",
            "        1, 0, 0, 0, 0, 1, 0, 1, 1, 1, 1, 0, 1, 1, 0, 0, 0, 1, 1, 1, 0, 0, 0, 0,\n",
            "        1, 0, 1, 1, 1, 0, 1, 1])\n",
            "tensor([[1., 1., 1.,  ..., 0., 0., 0.],\n",
            "        [1., 1., 1.,  ..., 0., 0., 0.],\n",
            "        [1., 1., 1.,  ..., 0., 0., 0.],\n",
            "        ...,\n",
            "        [1., 1., 1.,  ..., 0., 0., 0.],\n",
            "        [1., 1., 1.,  ..., 0., 0., 0.],\n",
            "        [1., 1., 1.,  ..., 1., 1., 1.]])\n"
          ]
        }
      ],
      "source": [
        "# demo\n",
        "x, y, m = next(iter(train_loader))\n",
        "print(x.shape, y.shape, m.shape)\n",
        "# x.shape: [B, L], y.shape: [L], mask.shape: [B, L]\n",
        "print(x)\n",
        "print(y)\n",
        "print(m)"
      ]
    },
    {
      "cell_type": "markdown",
      "source": [
        "### 3.2.3 Defining model (6 points)\n",
        "\n",
        "In PyTorch, models are usually defined as classes, with the `__init__` method (which defines all needed components and initializes parameters) and the `forward` method (which defined how forward pass is conducted). All model hyperparameters are passed to the `__init__` method. When one create an instance of the class, one does so with specific parameter values for that instance. To do this, one calls the class and passes, in parentheses, values of the parameters defined in `__init__`.\n",
        "\n",
        "We will have an embedding layer, one or two recurrent layers (LSTM or vanilla RNN), and one feed-forward layer to make final predictions. The feed-forward layer will take as an input the hidden states from the recurrent layer, _averaged_ over the sequence length."
      ],
      "metadata": {
        "id": "d6CtSXMXoCKR"
      }
    },
    {
      "cell_type": "code",
      "execution_count": null,
      "metadata": {
        "id": "vAYm6F0dtLj0"
      },
      "outputs": [],
      "source": [
        "device = torch.device(\"cuda\" if torch.cuda.is_available() else \"cpu\")\n",
        "# training RNNs without GPU can be veeery slow.\n",
        "# you can request GPU in colab in Runtime -> Change runtime type -> GPU"
      ]
    },
    {
      "cell_type": "code",
      "execution_count": null,
      "metadata": {
        "id": "9_zsCkcJtPmv"
      },
      "outputs": [],
      "source": [
        "# you can specify rec_layer=nn.LSTM or rec_layer=nn.RNN\n",
        "class RNNClassifier(nn.Module):\n",
        "    def __init__(self, embedding_dim, hidden_dim, vocab_size, \\\n",
        "                 num_rec_layers=1, rec_layer=nn.RNN):\n",
        "        super(RNNClassifier, self).__init__()\n",
        "        # define all layers we need,\n",
        "        # their parameters will be initialized automatically\n",
        "\n",
        "        # your model should contain the following components:\n",
        "        # 1. nn.Embedding layer turning input sentences into word embeddings\n",
        "        #    with input and output dimension given by vocab_size and embedding_dim\n",
        "        self.word_embeddings = nn.Embedding(vocab_size, embedding_dim)# TODO\n",
        "\n",
        "        # 2. depending on the value of num_rec_layers, the corresponding number\n",
        "        #    of rec_layers (either RNN or LSTM) with batch_first=True and hidden\n",
        "        #    dimension given by hidden_dim\n",
        "        self.num_rec_layers = num_rec_layers\n",
        "        self.rnn1 = rec_layer(embedding_dim, hidden_dim, batch_first=True)# TODO\n",
        "        if self.num_rec_layers == 2:\n",
        "            self.rnn2 = rec_layer(hidden_dim, hidden_dim, batch_first=True)# TODO\n",
        "            # this code with if is for simplicity,\n",
        "            # normally one would use torch.nn.ModuleList\n",
        "\n",
        "        # 3. a final linear layer with sigmoid activation with input and output\n",
        "        #    dimension given by hidden_dim and 1.\n",
        "        self.hidden2label = nn.Linear(hidden_dim, 1)\n",
        "        self.sigmoid = nn.Sigmoid()\n",
        "\n",
        "    def forward(self, sentences, mask):\n",
        "        # sentences shape: [B, L], mask shape: [B, L]\n",
        "        embedding = self.word_embeddings(sentences)# call your embedding layer, output shape: [B, L, DE]\n",
        "        out, hidden = self.rnn1(embedding)# call your rnn1, output shape: [B, L, DH]\n",
        "        if self.num_rec_layers == 2:\n",
        "            out, hidden = self.rnn2(out)# call your rnn2, output shape: [B, L, DH]\n",
        "        out = (out*mask[:, :, None]).mean(dim=1) # shape: [B, DH]\n",
        "        linear_output = self.hidden2label(out)\n",
        "        res = self.sigmoid(linear_output) # call your hidden2label, output shape: [B, 1]\n",
        "        return res"
      ]
    },
    {
      "cell_type": "code",
      "execution_count": null,
      "metadata": {
        "id": "fiHgOR5zt0JO",
        "colab": {
          "base_uri": "https://localhost:8080/"
        },
        "outputId": "99ad8f23-4992-4414-9511-232fbf0f20b7"
      },
      "outputs": [
        {
          "output_type": "execute_result",
          "data": {
            "text/plain": [
              "RNNClassifier(\n",
              "  (word_embeddings): Embedding(50257, 128)\n",
              "  (rnn1): RNN(128, 128, batch_first=True)\n",
              "  (hidden2label): Linear(in_features=128, out_features=1, bias=True)\n",
              "  (sigmoid): Sigmoid()\n",
              ")"
            ]
          },
          "metadata": {},
          "execution_count": 117
        }
      ],
      "source": [
        "# create a particular instance of the model (the class defined above)\n",
        "# let's first do a 1 layer vaniila RNN with embedding_dim=hidden_dim=128\n",
        "rnn = RNNClassifier(embedding_dim = 128,hidden_dim = 128, vocab_size = tokenizer.vocab_size) # TODO\n",
        "rnn.to(device)"
      ]
    },
    {
      "cell_type": "code",
      "source": [
        "x = x.to(device)\n",
        "m = m.to(device) #had to do this to ensure they all on gpu"
      ],
      "metadata": {
        "id": "GQBpVWwCsKWa"
      },
      "execution_count": null,
      "outputs": []
    },
    {
      "cell_type": "code",
      "execution_count": null,
      "metadata": {
        "colab": {
          "base_uri": "https://localhost:8080/"
        },
        "id": "HPwvS3klyFfb",
        "outputId": "6e92ddab-2917-412f-897e-2b8e5fb14d67"
      },
      "outputs": [
        {
          "output_type": "stream",
          "name": "stdout",
          "text": [
            "tensor([[0.5151],\n",
            "        [0.5136],\n",
            "        [0.5127],\n",
            "        [0.5115],\n",
            "        [0.5123],\n",
            "        [0.5153],\n",
            "        [0.5153],\n",
            "        [0.5124],\n",
            "        [0.5132],\n",
            "        [0.5111]], device='cuda:0', grad_fn=<SliceBackward0>)\n"
          ]
        }
      ],
      "source": [
        "# demo forward pass with the mini-batch that we generated above\n",
        "y_pred = rnn(x, m)\n",
        "y_pred.shape\n",
        "print(y_pred[:10])\n",
        "# at random initialization all predictions are around 0.5"
      ]
    },
    {
      "cell_type": "markdown",
      "source": [
        "### 3.2.4 Training\n",
        "\n",
        "Finally, we define an optimizer, functions for training and evaluation, and run the training process."
      ],
      "metadata": {
        "id": "5VZQ0JaApi91"
      }
    },
    {
      "cell_type": "code",
      "execution_count": null,
      "metadata": {
        "id": "RfjqS5OdyE_p"
      },
      "outputs": [],
      "source": [
        "# RNNs are often trained with optim.RMSprop or optim.Adam\n",
        "# example: optimizer = optim.RMSprop(rnn.parameters(), lr=learning_rate)\n",
        "# feel free to play with lr and optimizer\n",
        "learning_rate = 0.001\n",
        "optimizer = optim.RMSprop(rnn.parameters(), lr=learning_rate)# TODO\n",
        "\n",
        "lossfun = nn.BCELoss(reduction='mean')"
      ]
    },
    {
      "cell_type": "code",
      "execution_count": null,
      "metadata": {
        "id": "V6BF7bH6yaoD"
      },
      "outputs": [],
      "source": [
        "def train_epoch(train_loader, model, lossfun, optimizer, device):\n",
        "    model.train()\n",
        "    # iterate over mini-batches\n",
        "    for it, (inputs, labels, mask) in enumerate(train_loader):\n",
        "        # move everything to the device\n",
        "        inputs = inputs.to(device)\n",
        "        labels = labels.to(device)\n",
        "        mask = mask.to(device)\n",
        "\n",
        "        model.zero_grad()\n",
        "        # forward pass\n",
        "        output = model(inputs, mask)\n",
        "\n",
        "        loss = lossfun(output.view(-1), labels.float())\n",
        "        # backward pass\n",
        "        loss.backward()\n",
        "\n",
        "        # update model parameters\n",
        "        optimizer.step()\n",
        "\n",
        "def evaluate(loader, model, lossfun, device):\n",
        "    model.eval()\n",
        "    total_acc = 0.0\n",
        "    total_loss = 0.0\n",
        "    total = 0.0\n",
        "    # iterate over mini-batches\n",
        "    for it, (inputs, labels, mask) in enumerate(loader):\n",
        "        # move everything to the device\n",
        "        inputs = inputs.to(device)\n",
        "        labels = labels.to(device)\n",
        "        mask = mask.to(device)\n",
        "\n",
        "        # forward pass\n",
        "        output = model(inputs, mask)\n",
        "\n",
        "        # calculate loss value\n",
        "        loss = lossfun(output.view(-1), labels.float())\n",
        "        total_loss += loss.item()\n",
        "\n",
        "        # calculate test accuracy\n",
        "        pred = output.view(-1) > 0.5\n",
        "        correct = (pred == labels.bool())\n",
        "        total_acc += torch.sum(correct).item() / len(correct)\n",
        "\n",
        "    total = it + 1\n",
        "    return total_loss / total, total_acc / total\n",
        "\n",
        "\n",
        "def train(train_loader, test_loader, model, lossfun, optimizer, \\\n",
        "          device, num_epochs):\n",
        "    train_loss_ = []\n",
        "    test_loss_ = []\n",
        "    train_acc_ = []\n",
        "    test_acc_ = []\n",
        "    # irerate over training epochs\n",
        "    for epoch in range(num_epochs):\n",
        "        # at each step, we do a training epoch and evaluate on train and test data\n",
        "        train_epoch(train_loader, model, lossfun, optimizer, device)\n",
        "        train_loss, train_acc = evaluate(train_loader, model, lossfun, device)\n",
        "        train_loss_.append(train_loss)\n",
        "        train_acc_.append(train_acc)\n",
        "        test_loss, test_acc = evaluate(test_loader, model, lossfun, device)\n",
        "        test_loss_.append(test_loss)\n",
        "        test_acc_.append(test_acc)\n",
        "\n",
        "        print(f'Epoch: {epoch+1:3d}/{num_epochs:3d} '\n",
        "              f'Training Loss: {train_loss_[epoch]:.3f}, Testing Loss: {test_loss_[epoch]:.3f}, '\n",
        "              f'Training Acc: {train_acc_[epoch]:.3f}, Testing Acc: {test_acc_[epoch]:.3f}')\n",
        "\n",
        "    return train_loss_, train_acc_, test_loss_, test_acc_"
      ]
    },
    {
      "cell_type": "markdown",
      "metadata": {
        "id": "WuICo6CKyh3C"
      },
      "source": [
        "\n",
        "_Popular mistake:_ If you make changes to the model and want to rerun training, do not forget to redefine an optimizer, otherwise your optimizer would be disconnected from the model and training will not affect model parameters."
      ]
    },
    {
      "cell_type": "code",
      "execution_count": null,
      "metadata": {
        "colab": {
          "base_uri": "https://localhost:8080/"
        },
        "id": "ZyZaEhkXyfxm",
        "outputId": "e45ec287-7c27-4ba5-dba8-963a9a905eac"
      },
      "outputs": [
        {
          "output_type": "stream",
          "name": "stdout",
          "text": [
            "Epoch:   1/ 30 Training Loss: 0.415, Testing Loss: 0.465, Training Acc: 0.833, Testing Acc: 0.797\n",
            "Epoch:   2/ 30 Training Loss: 0.385, Testing Loss: 0.484, Training Acc: 0.838, Testing Acc: 0.798\n",
            "Epoch:   3/ 30 Training Loss: 0.257, Testing Loss: 0.406, Training Acc: 0.904, Testing Acc: 0.830\n",
            "Epoch:   4/ 30 Training Loss: 0.231, Testing Loss: 0.384, Training Acc: 0.919, Testing Acc: 0.841\n",
            "Epoch:   5/ 30 Training Loss: 0.220, Testing Loss: 0.430, Training Acc: 0.918, Testing Acc: 0.825\n",
            "Epoch:   6/ 30 Training Loss: 0.144, Testing Loss: 0.509, Training Acc: 0.949, Testing Acc: 0.835\n",
            "Epoch:   7/ 30 Training Loss: 0.136, Testing Loss: 0.405, Training Acc: 0.958, Testing Acc: 0.845\n",
            "Epoch:   8/ 30 Training Loss: 0.090, Testing Loss: 0.610, Training Acc: 0.970, Testing Acc: 0.836\n",
            "Epoch:   9/ 30 Training Loss: 0.129, Testing Loss: 0.490, Training Acc: 0.952, Testing Acc: 0.833\n",
            "Epoch:  10/ 30 Training Loss: 0.061, Testing Loss: 0.678, Training Acc: 0.981, Testing Acc: 0.839\n",
            "Epoch:  11/ 30 Training Loss: 0.046, Testing Loss: 0.630, Training Acc: 0.988, Testing Acc: 0.836\n",
            "Epoch:  12/ 30 Training Loss: 0.056, Testing Loss: 0.783, Training Acc: 0.981, Testing Acc: 0.827\n",
            "Epoch:  13/ 30 Training Loss: 0.023, Testing Loss: 1.206, Training Acc: 0.994, Testing Acc: 0.833\n",
            "Epoch:  14/ 30 Training Loss: 0.019, Testing Loss: 1.028, Training Acc: 0.996, Testing Acc: 0.834\n",
            "Epoch:  15/ 30 Training Loss: 0.012, Testing Loss: 1.475, Training Acc: 0.997, Testing Acc: 0.834\n",
            "Epoch:  16/ 30 Training Loss: 0.011, Testing Loss: 1.377, Training Acc: 0.998, Testing Acc: 0.835\n",
            "Epoch:  17/ 30 Training Loss: 0.013, Testing Loss: 1.439, Training Acc: 0.997, Testing Acc: 0.832\n",
            "Epoch:  18/ 30 Training Loss: 0.006, Testing Loss: 1.693, Training Acc: 0.999, Testing Acc: 0.831\n",
            "Epoch:  19/ 30 Training Loss: 0.073, Testing Loss: 0.463, Training Acc: 0.983, Testing Acc: 0.845\n",
            "Epoch:  20/ 30 Training Loss: 0.005, Testing Loss: 1.601, Training Acc: 0.999, Testing Acc: 0.832\n",
            "Epoch:  21/ 30 Training Loss: 0.003, Testing Loss: 1.933, Training Acc: 1.000, Testing Acc: 0.829\n",
            "Epoch:  22/ 30 Training Loss: 0.003, Testing Loss: 2.112, Training Acc: 1.000, Testing Acc: 0.829\n",
            "Epoch:  23/ 30 Training Loss: 0.015, Testing Loss: 1.469, Training Acc: 0.996, Testing Acc: 0.834\n",
            "Epoch:  24/ 30 Training Loss: 0.004, Testing Loss: 1.620, Training Acc: 1.000, Testing Acc: 0.829\n",
            "Epoch:  25/ 30 Training Loss: 0.003, Testing Loss: 1.972, Training Acc: 1.000, Testing Acc: 0.831\n",
            "Epoch:  26/ 30 Training Loss: 0.005, Testing Loss: 1.674, Training Acc: 0.999, Testing Acc: 0.834\n",
            "Epoch:  27/ 30 Training Loss: 0.002, Testing Loss: 2.234, Training Acc: 1.000, Testing Acc: 0.829\n",
            "Epoch:  28/ 30 Training Loss: 0.005, Testing Loss: 2.908, Training Acc: 0.998, Testing Acc: 0.822\n",
            "Epoch:  29/ 30 Training Loss: 0.002, Testing Loss: 2.517, Training Acc: 1.000, Testing Acc: 0.828\n",
            "Epoch:  30/ 30 Training Loss: 0.002, Testing Loss: 2.257, Training Acc: 1.000, Testing Acc: 0.827\n"
          ]
        }
      ],
      "source": [
        "# let's first train a vanilla RNN\n",
        "a, b, c, d = train(train_loader, test_loader, rnn, lossfun, \\\n",
        "                   optimizer, device, num_epochs=30)"
      ]
    },
    {
      "cell_type": "markdown",
      "source": [
        "We have our first result!\n",
        "\n",
        "You may note that test accuracy starts decreasing at some point. This is a common overfitting behaviour of RNNs, and usually the iteration with best performance is chosen. Ideally we should choose the best iteration on the test set.\n",
        "\n",
        "Now let's try playing with hyperparameters and LSTMs a little bit. (2 points each = 8 points)"
      ],
      "metadata": {
        "id": "dV0MMEaHqgdj"
      }
    },
    {
      "cell_type": "code",
      "source": [
        "# try using 1 layer LSTM instead of vanilla RNN, with embedding_dim=hidden_dim=128. Hint, you may want to reuse the RNNClassifier() class and then go into and redefine the layers to be LSTMs\n",
        "lstm = RNNClassifier(embedding_dim = 128, hidden_dim = 128, vocab_size = tokenizer.vocab_size, num_rec_layers = 1, rec_layer = nn.LSTM)# TODO\n",
        "lstm.to(device)\n",
        "learning_rate = 0.001\n",
        "optimizer = optim.Adam(lstm.parameters(), lr=learning_rate)# TODO\n",
        "#calling the train function returns 4 variables. These get stored in a,b,c,d below.\n",
        "a, b, c, d = train(train_loader, test_loader, lstm, lossfun, \\\n",
        "                   optimizer, device, num_epochs=30)"
      ],
      "metadata": {
        "id": "6iQbgHLDQH5z",
        "colab": {
          "base_uri": "https://localhost:8080/"
        },
        "outputId": "90a9e3a7-cbb3-4ee6-9738-5e5ea5f4335a"
      },
      "execution_count": null,
      "outputs": [
        {
          "output_type": "stream",
          "name": "stdout",
          "text": [
            "Epoch:   1/ 30 Training Loss: 0.457, Testing Loss: 0.510, Training Acc: 0.808, Testing Acc: 0.777\n",
            "Epoch:   2/ 30 Training Loss: 0.296, Testing Loss: 0.395, Training Acc: 0.886, Testing Acc: 0.833\n",
            "Epoch:   3/ 30 Training Loss: 0.226, Testing Loss: 0.359, Training Acc: 0.923, Testing Acc: 0.854\n",
            "Epoch:   4/ 30 Training Loss: 0.158, Testing Loss: 0.380, Training Acc: 0.946, Testing Acc: 0.856\n",
            "Epoch:   5/ 30 Training Loss: 0.119, Testing Loss: 0.406, Training Acc: 0.961, Testing Acc: 0.852\n",
            "Epoch:   6/ 30 Training Loss: 0.093, Testing Loss: 0.420, Training Acc: 0.973, Testing Acc: 0.855\n",
            "Epoch:   7/ 30 Training Loss: 0.072, Testing Loss: 0.463, Training Acc: 0.981, Testing Acc: 0.853\n",
            "Epoch:   8/ 30 Training Loss: 0.064, Testing Loss: 0.497, Training Acc: 0.985, Testing Acc: 0.851\n",
            "Epoch:   9/ 30 Training Loss: 0.048, Testing Loss: 0.563, Training Acc: 0.989, Testing Acc: 0.847\n",
            "Epoch:  10/ 30 Training Loss: 0.041, Testing Loss: 0.586, Training Acc: 0.992, Testing Acc: 0.844\n",
            "Epoch:  11/ 30 Training Loss: 0.020, Testing Loss: 0.993, Training Acc: 0.995, Testing Acc: 0.842\n",
            "Epoch:  12/ 30 Training Loss: 0.016, Testing Loss: 1.046, Training Acc: 0.997, Testing Acc: 0.844\n",
            "Epoch:  13/ 30 Training Loss: 0.051, Testing Loss: 0.777, Training Acc: 0.986, Testing Acc: 0.840\n",
            "Epoch:  14/ 30 Training Loss: 0.016, Testing Loss: 0.930, Training Acc: 0.997, Testing Acc: 0.839\n",
            "Epoch:  15/ 30 Training Loss: 0.010, Testing Loss: 1.111, Training Acc: 0.998, Testing Acc: 0.843\n",
            "Epoch:  16/ 30 Training Loss: 0.011, Testing Loss: 1.264, Training Acc: 0.998, Testing Acc: 0.831\n",
            "Epoch:  17/ 30 Training Loss: 0.025, Testing Loss: 0.729, Training Acc: 0.996, Testing Acc: 0.847\n",
            "Epoch:  18/ 30 Training Loss: 0.008, Testing Loss: 1.132, Training Acc: 0.999, Testing Acc: 0.841\n",
            "Epoch:  19/ 30 Training Loss: 0.044, Testing Loss: 0.828, Training Acc: 0.987, Testing Acc: 0.840\n",
            "Epoch:  20/ 30 Training Loss: 0.008, Testing Loss: 1.258, Training Acc: 0.999, Testing Acc: 0.845\n",
            "Epoch:  21/ 30 Training Loss: 0.004, Testing Loss: 1.428, Training Acc: 0.999, Testing Acc: 0.843\n",
            "Epoch:  22/ 30 Training Loss: 0.004, Testing Loss: 1.231, Training Acc: 1.000, Testing Acc: 0.842\n",
            "Epoch:  23/ 30 Training Loss: 0.002, Testing Loss: 1.877, Training Acc: 1.000, Testing Acc: 0.840\n",
            "Epoch:  24/ 30 Training Loss: 0.002, Testing Loss: 2.047, Training Acc: 1.000, Testing Acc: 0.838\n",
            "Epoch:  25/ 30 Training Loss: 0.022, Testing Loss: 0.753, Training Acc: 0.995, Testing Acc: 0.840\n",
            "Epoch:  26/ 30 Training Loss: 0.009, Testing Loss: 1.442, Training Acc: 0.998, Testing Acc: 0.833\n",
            "Epoch:  27/ 30 Training Loss: 0.007, Testing Loss: 1.106, Training Acc: 0.999, Testing Acc: 0.847\n",
            "Epoch:  28/ 30 Training Loss: 0.003, Testing Loss: 1.900, Training Acc: 1.000, Testing Acc: 0.840\n",
            "Epoch:  29/ 30 Training Loss: 0.003, Testing Loss: 1.404, Training Acc: 1.000, Testing Acc: 0.839\n",
            "Epoch:  30/ 30 Training Loss: 0.005, Testing Loss: 1.274, Training Acc: 0.999, Testing Acc: 0.845\n"
          ]
        }
      ]
    },
    {
      "cell_type": "code",
      "execution_count": null,
      "metadata": {
        "id": "PR2Vee4myhhK",
        "colab": {
          "base_uri": "https://localhost:8080/"
        },
        "outputId": "4fec884e-dc82-4f03-bee3-08a3d0cac8b2"
      },
      "outputs": [
        {
          "output_type": "stream",
          "name": "stdout",
          "text": [
            "Epoch:   1/ 30 Training Loss: 0.208, Testing Loss: 0.339, Training Acc: 0.933, Testing Acc: 0.863\n",
            "Epoch:   2/ 30 Training Loss: 0.086, Testing Loss: 0.329, Training Acc: 0.978, Testing Acc: 0.873\n",
            "Epoch:   3/ 30 Training Loss: 0.044, Testing Loss: 0.413, Training Acc: 0.991, Testing Acc: 0.863\n",
            "Epoch:   4/ 30 Training Loss: 0.020, Testing Loss: 0.632, Training Acc: 0.996, Testing Acc: 0.859\n",
            "Epoch:   5/ 30 Training Loss: 0.016, Testing Loss: 0.602, Training Acc: 0.998, Testing Acc: 0.861\n",
            "Epoch:   6/ 30 Training Loss: 0.017, Testing Loss: 0.845, Training Acc: 0.995, Testing Acc: 0.854\n",
            "Epoch:   7/ 30 Training Loss: 0.015, Testing Loss: 0.812, Training Acc: 0.996, Testing Acc: 0.853\n",
            "Epoch:   8/ 30 Training Loss: 0.007, Testing Loss: 0.905, Training Acc: 0.999, Testing Acc: 0.854\n",
            "Epoch:   9/ 30 Training Loss: 0.004, Testing Loss: 1.029, Training Acc: 0.999, Testing Acc: 0.854\n",
            "Epoch:  10/ 30 Training Loss: 0.005, Testing Loss: 0.871, Training Acc: 0.999, Testing Acc: 0.852\n",
            "Epoch:  11/ 30 Training Loss: 0.004, Testing Loss: 1.263, Training Acc: 0.999, Testing Acc: 0.855\n",
            "Epoch:  12/ 30 Training Loss: 0.005, Testing Loss: 1.197, Training Acc: 0.999, Testing Acc: 0.847\n",
            "Epoch:  13/ 30 Training Loss: 0.004, Testing Loss: 1.004, Training Acc: 0.999, Testing Acc: 0.852\n",
            "Epoch:  14/ 30 Training Loss: 0.002, Testing Loss: 1.281, Training Acc: 1.000, Testing Acc: 0.845\n",
            "Epoch:  15/ 30 Training Loss: 0.001, Testing Loss: 1.591, Training Acc: 1.000, Testing Acc: 0.851\n",
            "Epoch:  16/ 30 Training Loss: 0.000, Testing Loss: 1.797, Training Acc: 1.000, Testing Acc: 0.849\n",
            "Epoch:  17/ 30 Training Loss: 0.000, Testing Loss: 2.054, Training Acc: 1.000, Testing Acc: 0.849\n",
            "Epoch:  18/ 30 Training Loss: 0.000, Testing Loss: 2.160, Training Acc: 1.000, Testing Acc: 0.848\n",
            "Epoch:  19/ 30 Training Loss: 0.000, Testing Loss: 2.314, Training Acc: 1.000, Testing Acc: 0.848\n",
            "Epoch:  20/ 30 Training Loss: 0.000, Testing Loss: 2.448, Training Acc: 1.000, Testing Acc: 0.847\n",
            "Epoch:  21/ 30 Training Loss: 0.000, Testing Loss: 1.903, Training Acc: 1.000, Testing Acc: 0.841\n",
            "Epoch:  22/ 30 Training Loss: 0.000, Testing Loss: 1.958, Training Acc: 1.000, Testing Acc: 0.847\n",
            "Epoch:  23/ 30 Training Loss: 0.005, Testing Loss: 1.261, Training Acc: 0.999, Testing Acc: 0.852\n",
            "Epoch:  24/ 30 Training Loss: 0.008, Testing Loss: 0.973, Training Acc: 0.998, Testing Acc: 0.849\n",
            "Epoch:  25/ 30 Training Loss: 0.002, Testing Loss: 1.201, Training Acc: 1.000, Testing Acc: 0.850\n",
            "Epoch:  26/ 30 Training Loss: 0.001, Testing Loss: 1.322, Training Acc: 1.000, Testing Acc: 0.849\n",
            "Epoch:  27/ 30 Training Loss: 0.000, Testing Loss: 1.690, Training Acc: 1.000, Testing Acc: 0.849\n",
            "Epoch:  28/ 30 Training Loss: 0.000, Testing Loss: 2.002, Training Acc: 1.000, Testing Acc: 0.849\n",
            "Epoch:  29/ 30 Training Loss: 0.000, Testing Loss: 2.080, Training Acc: 1.000, Testing Acc: 0.849\n",
            "Epoch:  30/ 30 Training Loss: 0.000, Testing Loss: 2.214, Training Acc: 1.000, Testing Acc: 0.848\n"
          ]
        }
      ],
      "source": [
        "# try increasing lr while keeping everything else the same\n",
        "lstm = RNNClassifier(embedding_dim = 128, hidden_dim = 128, vocab_size = tokenizer.vocab_size, num_rec_layers = 1, rec_layer = nn.LSTM)# TODO\n",
        "lstm.to(device)\n",
        "learning_rate = 0.01\n",
        "optimizer = optim.Adam(lstm.parameters(), lr=learning_rate)# TODO\n",
        "a, b, c, d = train(train_loader, test_loader, lstm, lossfun, \\\n",
        "                   optimizer, device, num_epochs=30)"
      ]
    },
    {
      "cell_type": "code",
      "source": [
        "# try 2 lstm layers with embedding_dim=hidden_dim=128\n",
        "lstm = RNNClassifier(embedding_dim = 128, hidden_dim = 128, vocab_size = tokenizer.vocab_size, num_rec_layers = 2, rec_layer = nn.LSTM)# TODO\n",
        "lstm.to(device)\n",
        "learning_rate = 0.01\n",
        "optimizer = optim.Adam(lstm.parameters(), lr=learning_rate)# TODO\n",
        "a, b, c, d = train(train_loader, test_loader, lstm, lossfun, \\\n",
        "                   optimizer, device, num_epochs=15)"
      ],
      "metadata": {
        "colab": {
          "base_uri": "https://localhost:8080/"
        },
        "id": "04hd0dXNbYnH",
        "outputId": "0f53dd48-2066-47ff-e5c6-faec3b071983"
      },
      "execution_count": null,
      "outputs": [
        {
          "output_type": "stream",
          "name": "stdout",
          "text": [
            "Epoch:   1/ 15 Training Loss: 0.183, Testing Loss: 0.311, Training Acc: 0.940, Testing Acc: 0.876\n",
            "Epoch:   2/ 15 Training Loss: 0.083, Testing Loss: 0.319, Training Acc: 0.981, Testing Acc: 0.876\n",
            "Epoch:   3/ 15 Training Loss: 0.039, Testing Loss: 0.446, Training Acc: 0.990, Testing Acc: 0.869\n",
            "Epoch:   4/ 15 Training Loss: 0.015, Testing Loss: 0.678, Training Acc: 0.997, Testing Acc: 0.864\n",
            "Epoch:   5/ 15 Training Loss: 0.011, Testing Loss: 0.793, Training Acc: 0.998, Testing Acc: 0.863\n",
            "Epoch:   6/ 15 Training Loss: 0.012, Testing Loss: 0.865, Training Acc: 0.997, Testing Acc: 0.859\n",
            "Epoch:   7/ 15 Training Loss: 0.014, Testing Loss: 0.924, Training Acc: 0.996, Testing Acc: 0.853\n",
            "Epoch:   8/ 15 Training Loss: 0.008, Testing Loss: 0.857, Training Acc: 0.998, Testing Acc: 0.859\n",
            "Epoch:   9/ 15 Training Loss: 0.004, Testing Loss: 1.111, Training Acc: 0.999, Testing Acc: 0.856\n",
            "Epoch:  10/ 15 Training Loss: 0.013, Testing Loss: 1.882, Training Acc: 0.996, Testing Acc: 0.848\n",
            "Epoch:  11/ 15 Training Loss: 0.003, Testing Loss: 1.111, Training Acc: 1.000, Testing Acc: 0.855\n",
            "Epoch:  12/ 15 Training Loss: 0.002, Testing Loss: 1.368, Training Acc: 1.000, Testing Acc: 0.852\n",
            "Epoch:  13/ 15 Training Loss: 0.001, Testing Loss: 1.568, Training Acc: 1.000, Testing Acc: 0.855\n",
            "Epoch:  14/ 15 Training Loss: 0.001, Testing Loss: 1.736, Training Acc: 1.000, Testing Acc: 0.855\n",
            "Epoch:  15/ 15 Training Loss: 0.018, Testing Loss: 1.061, Training Acc: 0.995, Testing Acc: 0.848\n"
          ]
        }
      ]
    },
    {
      "cell_type": "code",
      "source": [
        "# try a larger 1 layer lstm network with embedding_dim=hidden_dim=512\n",
        "lstm = RNNClassifier(embedding_dim = 512, hidden_dim = 512, vocab_size = tokenizer.vocab_size, num_rec_layers = 1, rec_layer = nn.LSTM)# TODO\n",
        "lstm.to(device)\n",
        "learning_rate = 0.01\n",
        "optimizer = optim.Adam(lstm.parameters(), lr=learning_rate)# TODO\n",
        "a, b, c, d = train(train_loader, test_loader, lstm, lossfun, \\\n",
        "                   optimizer, device, num_epochs=15)"
      ],
      "metadata": {
        "colab": {
          "base_uri": "https://localhost:8080/"
        },
        "id": "9PJ61hsknYaQ",
        "outputId": "aa7044f9-d150-4d5e-9194-54918e78ea0e"
      },
      "execution_count": null,
      "outputs": [
        {
          "output_type": "stream",
          "name": "stdout",
          "text": [
            "Epoch:   1/ 15 Training Loss: 0.354, Testing Loss: 0.440, Training Acc: 0.872, Testing Acc: 0.820\n",
            "Epoch:   2/ 15 Training Loss: 0.155, Testing Loss: 0.336, Training Acc: 0.952, Testing Acc: 0.866\n",
            "Epoch:   3/ 15 Training Loss: 0.137, Testing Loss: 0.430, Training Acc: 0.953, Testing Acc: 0.841\n",
            "Epoch:   4/ 15 Training Loss: 0.073, Testing Loss: 0.534, Training Acc: 0.980, Testing Acc: 0.837\n",
            "Epoch:   5/ 15 Training Loss: 0.032, Testing Loss: 0.645, Training Acc: 0.992, Testing Acc: 0.846\n",
            "Epoch:   6/ 15 Training Loss: 0.028, Testing Loss: 0.682, Training Acc: 0.993, Testing Acc: 0.842\n",
            "Epoch:   7/ 15 Training Loss: 0.021, Testing Loss: 0.753, Training Acc: 0.996, Testing Acc: 0.840\n",
            "Epoch:   8/ 15 Training Loss: 0.029, Testing Loss: 1.204, Training Acc: 0.992, Testing Acc: 0.824\n",
            "Epoch:   9/ 15 Training Loss: 0.018, Testing Loss: 0.903, Training Acc: 0.995, Testing Acc: 0.834\n",
            "Epoch:  10/ 15 Training Loss: 0.017, Testing Loss: 0.867, Training Acc: 0.997, Testing Acc: 0.835\n",
            "Epoch:  11/ 15 Training Loss: 0.012, Testing Loss: 0.977, Training Acc: 0.997, Testing Acc: 0.836\n",
            "Epoch:  12/ 15 Training Loss: 0.016, Testing Loss: 0.971, Training Acc: 0.996, Testing Acc: 0.831\n",
            "Epoch:  13/ 15 Training Loss: 0.010, Testing Loss: 1.023, Training Acc: 0.998, Testing Acc: 0.834\n",
            "Epoch:  14/ 15 Training Loss: 0.016, Testing Loss: 0.876, Training Acc: 0.997, Testing Acc: 0.833\n",
            "Epoch:  15/ 15 Training Loss: 0.033, Testing Loss: 0.858, Training Acc: 0.991, Testing Acc: 0.826\n"
          ]
        }
      ]
    },
    {
      "cell_type": "markdown",
      "source": [
        "We could try improving RNNs' performance further by applying regularization methods (weight decay, dropout), tuning learning rate schedule (appears to be very important in practice!), using data augmentaion etc. You may play with this if you like, but this is not graded\n",
        "\n",
        "Generally, we see that linear models are actually quite a strong baseline for relatively simple text classification. At the same time, RNNs require time-consuming hyperparameter tuning. More complex tasks, i. e. text generation or natural language understanding, are solved well only with advanced neural architectures such as Transformer."
      ],
      "metadata": {
        "id": "XiiWtqdCrayf"
      }
    },
    {
      "cell_type": "markdown",
      "source": [
        "### Playground\n",
        "The function given below takes a piece of text as input and outputs the RNN's prediction (is it a positive or negative movie review). In principle it can of course process any text, not only movie reviews."
      ],
      "metadata": {
        "id": "-jJao-8bcvRa"
      }
    },
    {
      "cell_type": "code",
      "source": [
        "def predict(text):\n",
        "    text = process_string(text) # initial preprocessing\n",
        "    # convert to a torch tensor of needed shape and on the needed device\n",
        "    tensor = torch.tensor(tokenizer.encode(text)[:max_seq_len]).long()\n",
        "    tensor = tensor.unsqueeze(0).to(device)\n",
        "    mask = torch.ones(1, tensor.shape[1]).float().to(device)\n",
        "    # network's prediction\n",
        "    pred_rnn = rnn(tensor, mask).item()\n",
        "    print(\"RNN prediction:\", \"positive\" if pred_rnn>0.5 else \"negative\")"
      ],
      "metadata": {
        "id": "il3E4goXYNkI"
      },
      "execution_count": null,
      "outputs": []
    },
    {
      "cell_type": "code",
      "source": [
        "predict(\"This is a nice movie with my favourite actors\")"
      ],
      "metadata": {
        "colab": {
          "base_uri": "https://localhost:8080/"
        },
        "id": "zTDBIIjeYFGR",
        "outputId": "ec2eb85e-7e50-4cf8-f8d1-b19968039b4c"
      },
      "execution_count": null,
      "outputs": [
        {
          "output_type": "stream",
          "name": "stdout",
          "text": [
            "RNN prediction: positive\n"
          ]
        }
      ]
    },
    {
      "cell_type": "code",
      "source": [
        "predict(\"Don't spend your evening on this\")"
      ],
      "metadata": {
        "colab": {
          "base_uri": "https://localhost:8080/"
        },
        "id": "4K73-HTJYXZ0",
        "outputId": "3b8798d7-a2de-4dc4-e4b7-b20b1cda6b10"
      },
      "execution_count": null,
      "outputs": [
        {
          "output_type": "stream",
          "name": "stdout",
          "text": [
            "RNN prediction: negative\n"
          ]
        }
      ]
    },
    {
      "cell_type": "code",
      "source": [
        "predict(\"I am a deep learning researcher\")"
      ],
      "metadata": {
        "colab": {
          "base_uri": "https://localhost:8080/"
        },
        "id": "wAlTTqWKYhbS",
        "outputId": "e08630b4-90d5-4d18-b49b-14a2da106d22"
      },
      "execution_count": null,
      "outputs": [
        {
          "output_type": "stream",
          "name": "stdout",
          "text": [
            "RNN prediction: negative\n"
          ]
        }
      ]
    },
    {
      "cell_type": "code",
      "source": [
        "predict(\"This is not a good example of a bad movie\")"
      ],
      "metadata": {
        "colab": {
          "base_uri": "https://localhost:8080/"
        },
        "id": "ULQeZ5AUYnjH",
        "outputId": "a3221a43-e7bc-4678-cb00-3265f4e97d41"
      },
      "execution_count": null,
      "outputs": [
        {
          "output_type": "stream",
          "name": "stdout",
          "text": [
            "RNN prediction: positive\n"
          ]
        }
      ]
    },
    {
      "cell_type": "markdown",
      "source": [
        "Exercise 3 (10 points)\n",
        "\n",
        "\n",
        "First, you can again try training an RNN on the other dataset, as in Exercise 2. You can also implement a prediction function, like the one we have above, for any one of the two linear models which we considered above. Do you observe any changes in RNN prediction of the above statements when you use a different training set? Try feeding in your own sentences...what are some of the drawbacks/failures of this that you observe?"
      ],
      "metadata": {
        "id": "lDFPxlq3NNzq"
      }
    },
    {
      "cell_type": "markdown",
      "source": [
        "First let's try to feed in one of my sentences"
      ],
      "metadata": {
        "id": "CT7cJbFQ4oLJ"
      }
    },
    {
      "cell_type": "code",
      "source": [
        "predict(\"There is going to be tsunami coming tomorrow\")"
      ],
      "metadata": {
        "colab": {
          "base_uri": "https://localhost:8080/"
        },
        "id": "NtI_Uxup4sy8",
        "outputId": "a5e4ee4d-8178-4953-cf0d-b4c0eddbe5fd"
      },
      "execution_count": null,
      "outputs": [
        {
          "output_type": "stream",
          "name": "stdout",
          "text": [
            "RNN prediction: negative\n"
          ]
        }
      ]
    },
    {
      "cell_type": "markdown",
      "source": [
        "Above we have used AGNews dataset succeeded from previous exercise, and we can try on another dataset which is provided in Exercise 1, IMDB dataset."
      ],
      "metadata": {
        "id": "I5mjeR4OaHGu"
      }
    },
    {
      "cell_type": "code",
      "source": [
        "from google.colab import files\n",
        "uploaded = files.upload()"
      ],
      "metadata": {
        "colab": {
          "base_uri": "https://localhost:8080/",
          "height": 73
        },
        "id": "fhSADP3D-PvS",
        "outputId": "c93a1d65-3925-477c-9752-011b8dc6b705"
      },
      "execution_count": null,
      "outputs": [
        {
          "output_type": "display_data",
          "data": {
            "text/plain": [
              "<IPython.core.display.HTML object>"
            ],
            "text/html": [
              "\n",
              "     <input type=\"file\" id=\"files-f23049c4-14e6-4f82-9809-029c2a9713bd\" name=\"files[]\" multiple disabled\n",
              "        style=\"border:none\" />\n",
              "     <output id=\"result-f23049c4-14e6-4f82-9809-029c2a9713bd\">\n",
              "      Upload widget is only available when the cell has been executed in the\n",
              "      current browser session. Please rerun this cell to enable.\n",
              "      </output>\n",
              "      <script>// Copyright 2017 Google LLC\n",
              "//\n",
              "// Licensed under the Apache License, Version 2.0 (the \"License\");\n",
              "// you may not use this file except in compliance with the License.\n",
              "// You may obtain a copy of the License at\n",
              "//\n",
              "//      http://www.apache.org/licenses/LICENSE-2.0\n",
              "//\n",
              "// Unless required by applicable law or agreed to in writing, software\n",
              "// distributed under the License is distributed on an \"AS IS\" BASIS,\n",
              "// WITHOUT WARRANTIES OR CONDITIONS OF ANY KIND, either express or implied.\n",
              "// See the License for the specific language governing permissions and\n",
              "// limitations under the License.\n",
              "\n",
              "/**\n",
              " * @fileoverview Helpers for google.colab Python module.\n",
              " */\n",
              "(function(scope) {\n",
              "function span(text, styleAttributes = {}) {\n",
              "  const element = document.createElement('span');\n",
              "  element.textContent = text;\n",
              "  for (const key of Object.keys(styleAttributes)) {\n",
              "    element.style[key] = styleAttributes[key];\n",
              "  }\n",
              "  return element;\n",
              "}\n",
              "\n",
              "// Max number of bytes which will be uploaded at a time.\n",
              "const MAX_PAYLOAD_SIZE = 100 * 1024;\n",
              "\n",
              "function _uploadFiles(inputId, outputId) {\n",
              "  const steps = uploadFilesStep(inputId, outputId);\n",
              "  const outputElement = document.getElementById(outputId);\n",
              "  // Cache steps on the outputElement to make it available for the next call\n",
              "  // to uploadFilesContinue from Python.\n",
              "  outputElement.steps = steps;\n",
              "\n",
              "  return _uploadFilesContinue(outputId);\n",
              "}\n",
              "\n",
              "// This is roughly an async generator (not supported in the browser yet),\n",
              "// where there are multiple asynchronous steps and the Python side is going\n",
              "// to poll for completion of each step.\n",
              "// This uses a Promise to block the python side on completion of each step,\n",
              "// then passes the result of the previous step as the input to the next step.\n",
              "function _uploadFilesContinue(outputId) {\n",
              "  const outputElement = document.getElementById(outputId);\n",
              "  const steps = outputElement.steps;\n",
              "\n",
              "  const next = steps.next(outputElement.lastPromiseValue);\n",
              "  return Promise.resolve(next.value.promise).then((value) => {\n",
              "    // Cache the last promise value to make it available to the next\n",
              "    // step of the generator.\n",
              "    outputElement.lastPromiseValue = value;\n",
              "    return next.value.response;\n",
              "  });\n",
              "}\n",
              "\n",
              "/**\n",
              " * Generator function which is called between each async step of the upload\n",
              " * process.\n",
              " * @param {string} inputId Element ID of the input file picker element.\n",
              " * @param {string} outputId Element ID of the output display.\n",
              " * @return {!Iterable<!Object>} Iterable of next steps.\n",
              " */\n",
              "function* uploadFilesStep(inputId, outputId) {\n",
              "  const inputElement = document.getElementById(inputId);\n",
              "  inputElement.disabled = false;\n",
              "\n",
              "  const outputElement = document.getElementById(outputId);\n",
              "  outputElement.innerHTML = '';\n",
              "\n",
              "  const pickedPromise = new Promise((resolve) => {\n",
              "    inputElement.addEventListener('change', (e) => {\n",
              "      resolve(e.target.files);\n",
              "    });\n",
              "  });\n",
              "\n",
              "  const cancel = document.createElement('button');\n",
              "  inputElement.parentElement.appendChild(cancel);\n",
              "  cancel.textContent = 'Cancel upload';\n",
              "  const cancelPromise = new Promise((resolve) => {\n",
              "    cancel.onclick = () => {\n",
              "      resolve(null);\n",
              "    };\n",
              "  });\n",
              "\n",
              "  // Wait for the user to pick the files.\n",
              "  const files = yield {\n",
              "    promise: Promise.race([pickedPromise, cancelPromise]),\n",
              "    response: {\n",
              "      action: 'starting',\n",
              "    }\n",
              "  };\n",
              "\n",
              "  cancel.remove();\n",
              "\n",
              "  // Disable the input element since further picks are not allowed.\n",
              "  inputElement.disabled = true;\n",
              "\n",
              "  if (!files) {\n",
              "    return {\n",
              "      response: {\n",
              "        action: 'complete',\n",
              "      }\n",
              "    };\n",
              "  }\n",
              "\n",
              "  for (const file of files) {\n",
              "    const li = document.createElement('li');\n",
              "    li.append(span(file.name, {fontWeight: 'bold'}));\n",
              "    li.append(span(\n",
              "        `(${file.type || 'n/a'}) - ${file.size} bytes, ` +\n",
              "        `last modified: ${\n",
              "            file.lastModifiedDate ? file.lastModifiedDate.toLocaleDateString() :\n",
              "                                    'n/a'} - `));\n",
              "    const percent = span('0% done');\n",
              "    li.appendChild(percent);\n",
              "\n",
              "    outputElement.appendChild(li);\n",
              "\n",
              "    const fileDataPromise = new Promise((resolve) => {\n",
              "      const reader = new FileReader();\n",
              "      reader.onload = (e) => {\n",
              "        resolve(e.target.result);\n",
              "      };\n",
              "      reader.readAsArrayBuffer(file);\n",
              "    });\n",
              "    // Wait for the data to be ready.\n",
              "    let fileData = yield {\n",
              "      promise: fileDataPromise,\n",
              "      response: {\n",
              "        action: 'continue',\n",
              "      }\n",
              "    };\n",
              "\n",
              "    // Use a chunked sending to avoid message size limits. See b/62115660.\n",
              "    let position = 0;\n",
              "    do {\n",
              "      const length = Math.min(fileData.byteLength - position, MAX_PAYLOAD_SIZE);\n",
              "      const chunk = new Uint8Array(fileData, position, length);\n",
              "      position += length;\n",
              "\n",
              "      const base64 = btoa(String.fromCharCode.apply(null, chunk));\n",
              "      yield {\n",
              "        response: {\n",
              "          action: 'append',\n",
              "          file: file.name,\n",
              "          data: base64,\n",
              "        },\n",
              "      };\n",
              "\n",
              "      let percentDone = fileData.byteLength === 0 ?\n",
              "          100 :\n",
              "          Math.round((position / fileData.byteLength) * 100);\n",
              "      percent.textContent = `${percentDone}% done`;\n",
              "\n",
              "    } while (position < fileData.byteLength);\n",
              "  }\n",
              "\n",
              "  // All done.\n",
              "  yield {\n",
              "    response: {\n",
              "      action: 'complete',\n",
              "    }\n",
              "  };\n",
              "}\n",
              "\n",
              "scope.google = scope.google || {};\n",
              "scope.google.colab = scope.google.colab || {};\n",
              "scope.google.colab._files = {\n",
              "  _uploadFiles,\n",
              "  _uploadFilesContinue,\n",
              "};\n",
              "})(self);\n",
              "</script> "
            ]
          },
          "metadata": {}
        },
        {
          "output_type": "stream",
          "name": "stdout",
          "text": [
            "Saving Twitter_Data.csv to Twitter_Data.csv\n"
          ]
        }
      ]
    },
    {
      "cell_type": "code",
      "source": [
        "from sklearn.model_selection import train_test_split\n",
        "import io\n",
        "import pandas as pd\n",
        "\n",
        "df = pd.read_csv(io.BytesIO(uploaded['Twitter_Data.csv']))\n",
        "df = df.dropna()\n",
        "df = df[df['category'] != 0]\n",
        "df['category'] = df['category'].replace(-1, 0)\n",
        "X = df['clean_text'] #already clean so no processing needed\n",
        "y = df['category']\n",
        "X_train, X_test, y_train, y_test = train_test_split(X, y, test_size=0.2, random_state=42)"
      ],
      "metadata": {
        "id": "-dmGNaDL-hdT",
        "colab": {
          "base_uri": "https://localhost:8080/"
        },
        "outputId": "032b79bb-b770-4cb5-8856-5fe707dcc71c"
      },
      "execution_count": null,
      "outputs": [
        {
          "output_type": "stream",
          "name": "stderr",
          "text": [
            "<ipython-input-7-4baf7d86562a>:8: SettingWithCopyWarning: \n",
            "A value is trying to be set on a copy of a slice from a DataFrame.\n",
            "Try using .loc[row_indexer,col_indexer] = value instead\n",
            "\n",
            "See the caveats in the documentation: https://pandas.pydata.org/pandas-docs/stable/user_guide/indexing.html#returning-a-view-versus-a-copy\n",
            "  df['category'] = df['category'].replace(-1, 0)\n"
          ]
        }
      ]
    },
    {
      "cell_type": "code",
      "source": [
        "y_train = y_train.values\n",
        "y_test = y_test.values"
      ],
      "metadata": {
        "id": "XWnrfC-lEq7P"
      },
      "execution_count": null,
      "outputs": []
    },
    {
      "cell_type": "code",
      "source": [
        "X_train_tok = []\n",
        "for text in X_train:\n",
        "    # TODO tokenize/encode the training data set and append to X_train_tok using tokenizer.encode()\n",
        "    X_train_tok.append(tokenizer.encode(text))\n",
        "X_test_tok = []\n",
        "for text in X_test:\n",
        "    # TODO tokenize/encode the testing data set and append to X_test_tok using tokenizer.encode()\n",
        "    X_test_tok.append(tokenizer.encode(text))"
      ],
      "metadata": {
        "id": "Z1zatnYtAXBy"
      },
      "execution_count": null,
      "outputs": []
    },
    {
      "cell_type": "code",
      "source": [
        "_ = plt.hist([len(s) for s in X_train_tok], 100)\n",
        "plt.xlabel(\"Length\")\n",
        "plt.ylabel(\"Number of sequences\")"
      ],
      "metadata": {
        "colab": {
          "base_uri": "https://localhost:8080/",
          "height": 466
        },
        "id": "EHoUEzq4GjDl",
        "outputId": "1fd17ba2-af3b-443b-c433-e5888676f2e7"
      },
      "execution_count": null,
      "outputs": [
        {
          "output_type": "execute_result",
          "data": {
            "text/plain": [
              "Text(0, 0.5, 'Number of sequences')"
            ]
          },
          "metadata": {},
          "execution_count": 13
        },
        {
          "output_type": "display_data",
          "data": {
            "text/plain": [
              "<Figure size 640x480 with 1 Axes>"
            ],
            "image/png": "[encoded data removed]"
          },
          "metadata": {}
        }
      ]
    },
    {
      "cell_type": "code",
      "source": [
        "max_seq_len = 50\n",
        "\n",
        "# clip sequences: for each element in X_train_tok and X_test_tok, truncate the length of each entry at max_seq_len. Ignore what comes after.\n",
        "# therefore each element has length at most max_seq_len\n",
        "# hint: list comprehension is your friend, or this can be done with a loop\n",
        "X_train_tok = [s[:max_seq_len] for s in X_train_tok]# TODO\n",
        "X_test_tok = [s[:max_seq_len] for s in X_test_tok]# TODO\n",
        "\n",
        "# create masks\n",
        "mask_train = [[1]*len(s)+[0]*(max_seq_len-len(s)) for s in X_train_tok]\n",
        "mask_test = [[1]*len(s)+[0]*(max_seq_len-len(s)) for s in X_test_tok]\n",
        "\n",
        "# pad sequences: for each element in X_train_tok and X_test_tok, pad each\n",
        "# element at the end with 0s such that each element has length exactly max_seq_len\n",
        "X_train_tok = [s + [0] * (max_seq_len - len(s)) for s in X_train_tok]# TODO\n",
        "X_test_tok = [s + [0] * (max_seq_len - len(s)) for s in X_test_tok]# TODO\n",
        "\n",
        "\n",
        "train_dset = torch.utils.data.TensorDataset(torch.tensor(X_train_tok,\n",
        "                                                         dtype=torch.long),\n",
        "                                            torch.tensor(y_train,\n",
        "                                                         dtype=torch.long),\n",
        "                                            torch.tensor(mask_train,\n",
        "                                                         dtype=torch.float))\n",
        "\n",
        "test_dset = torch.utils.data.TensorDataset(torch.tensor(X_test_tok,\n",
        "                                                        dtype=torch.long),\n",
        "                                          torch.tensor(y_test,\n",
        "                                                        dtype=torch.long),\n",
        "                                          torch.tensor(mask_test,\n",
        "                                                        dtype=torch.float))\n",
        "\n",
        "batch_size = 128\n",
        "\n",
        "train_loader = torch.utils.data.DataLoader(train_dset,\n",
        "                          batch_size=batch_size,\n",
        "                          shuffle=True,\n",
        "                          num_workers=2\n",
        "                         )\n",
        "\n",
        "test_loader = torch.utils.data.DataLoader(test_dset,\n",
        "                          batch_size=batch_size,\n",
        "                          shuffle=False,\n",
        "                          num_workers=2\n",
        "                         )\n",
        "\n"
      ],
      "metadata": {
        "id": "9JhCOqX9GYOS"
      },
      "execution_count": null,
      "outputs": []
    },
    {
      "cell_type": "code",
      "source": [
        "lstm = RNNClassifier(embedding_dim = 128, hidden_dim = 128, vocab_size = tokenizer.vocab_size, num_rec_layers = 1, rec_layer = nn.LSTM)\n",
        "lstm.to(device)\n",
        "learning_rate = 0.01\n",
        "optimizer = optim.RMSprop(lstm.parameters(), lr=learning_rate)\n",
        "lossfun = nn.BCELoss(reduction='mean')\n",
        "a, b, c, d = train(train_loader, test_loader, lstm, lossfun, \\\n",
        "                   optimizer, device, num_epochs=15)"
      ],
      "metadata": {
        "colab": {
          "base_uri": "https://localhost:8080/"
        },
        "id": "4P0whghfarJx",
        "outputId": "3f36dc3f-56ba-4132-88f1-c922cd09b400"
      },
      "execution_count": null,
      "outputs": [
        {
          "output_type": "stream",
          "name": "stdout",
          "text": [
            "Epoch:   1/ 15 Training Loss: 0.147, Testing Loss: 0.198, Training Acc: 0.952, Testing Acc: 0.926\n",
            "Epoch:   2/ 15 Training Loss: 0.078, Testing Loss: 0.173, Training Acc: 0.978, Testing Acc: 0.936\n",
            "Epoch:   3/ 15 Training Loss: 0.054, Testing Loss: 0.198, Training Acc: 0.985, Testing Acc: 0.930\n",
            "Epoch:   4/ 15 Training Loss: 0.037, Testing Loss: 0.216, Training Acc: 0.989, Testing Acc: 0.931\n",
            "Epoch:   5/ 15 Training Loss: 0.025, Testing Loss: 0.224, Training Acc: 0.993, Testing Acc: 0.931\n",
            "Epoch:   6/ 15 Training Loss: 0.019, Testing Loss: 0.261, Training Acc: 0.995, Testing Acc: 0.930\n",
            "Epoch:   7/ 15 Training Loss: 0.016, Testing Loss: 0.301, Training Acc: 0.996, Testing Acc: 0.929\n",
            "Epoch:   8/ 15 Training Loss: 0.019, Testing Loss: 0.359, Training Acc: 0.994, Testing Acc: 0.924\n",
            "Epoch:   9/ 15 Training Loss: 0.013, Testing Loss: 0.334, Training Acc: 0.996, Testing Acc: 0.927\n",
            "Epoch:  10/ 15 Training Loss: 0.012, Testing Loss: 0.374, Training Acc: 0.996, Testing Acc: 0.927\n",
            "Epoch:  11/ 15 Training Loss: 0.010, Testing Loss: 0.389, Training Acc: 0.997, Testing Acc: 0.924\n",
            "Epoch:  12/ 15 Training Loss: 0.010, Testing Loss: 0.411, Training Acc: 0.997, Testing Acc: 0.923\n",
            "Epoch:  13/ 15 Training Loss: 0.009, Testing Loss: 0.420, Training Acc: 0.997, Testing Acc: 0.925\n",
            "Epoch:  14/ 15 Training Loss: 0.009, Testing Loss: 0.463, Training Acc: 0.998, Testing Acc: 0.924\n",
            "Epoch:  15/ 15 Training Loss: 0.008, Testing Loss: 0.479, Training Acc: 0.998, Testing Acc: 0.923\n"
          ]
        }
      ]
    },
    {
      "cell_type": "code",
      "source": [
        "def predict(text):\n",
        "    text = process_string(text) # initial preprocessing\n",
        "    # convert to a torch tensor of needed shape and on the needed device\n",
        "    tensor = torch.tensor(tokenizer.encode(text)[:max_seq_len]).long()\n",
        "    tensor = tensor.unsqueeze(0).to(device)\n",
        "    mask = torch.ones(1, tensor.shape[1]).float().to(device)\n",
        "    # network's prediction\n",
        "    pred_rnn = lstm(tensor, mask).item()\n",
        "    print(\"RNN prediction:\", \"positive\" if pred_rnn>0.5 else \"negative\")"
      ],
      "metadata": {
        "id": "9SdaOHqtYIMu"
      },
      "execution_count": null,
      "outputs": []
    },
    {
      "cell_type": "code",
      "source": [
        "predict(\"This is a nice movie with my favourite actors\")"
      ],
      "metadata": {
        "colab": {
          "base_uri": "https://localhost:8080/"
        },
        "id": "GjAy9VIsOHY7",
        "outputId": "44a1d38e-2a83-4ce8-f867-1263b06441e3"
      },
      "execution_count": null,
      "outputs": [
        {
          "output_type": "stream",
          "name": "stdout",
          "text": [
            "RNN prediction: positive\n"
          ]
        }
      ]
    },
    {
      "cell_type": "code",
      "source": [
        "predict(\"Don't spend your evening on this\")"
      ],
      "metadata": {
        "colab": {
          "base_uri": "https://localhost:8080/"
        },
        "id": "y4njfXFQYNp4",
        "outputId": "416f73b6-44b1-4e50-de0f-b8e8b20dbb74"
      },
      "execution_count": null,
      "outputs": [
        {
          "output_type": "stream",
          "name": "stdout",
          "text": [
            "RNN prediction: negative\n"
          ]
        }
      ]
    },
    {
      "cell_type": "code",
      "source": [
        "predict(\"I am a deep learning researcher\")"
      ],
      "metadata": {
        "colab": {
          "base_uri": "https://localhost:8080/"
        },
        "id": "YKCuYLmEYQH6",
        "outputId": "f47d9f1a-a28a-40fc-d96b-856c512039d9"
      },
      "execution_count": null,
      "outputs": [
        {
          "output_type": "stream",
          "name": "stdout",
          "text": [
            "RNN prediction: positive\n"
          ]
        }
      ]
    },
    {
      "cell_type": "code",
      "source": [
        "predict(\"This is not a good example of a bad movie\")"
      ],
      "metadata": {
        "colab": {
          "base_uri": "https://localhost:8080/"
        },
        "id": "4-rU99m3YTws",
        "outputId": "d34b0c36-782d-46ae-94c4-aa3b70fa2890"
      },
      "execution_count": null,
      "outputs": [
        {
          "output_type": "stream",
          "name": "stdout",
          "text": [
            "RNN prediction: positive\n"
          ]
        }
      ]
    },
    {
      "cell_type": "code",
      "source": [
        "predict(\"There is going to be tsunami coming tomorrow\")"
      ],
      "metadata": {
        "colab": {
          "base_uri": "https://localhost:8080/"
        },
        "id": "hLq4tnWJYWe5",
        "outputId": "89b14aa8-9c2a-48e7-a3db-b13fb1e58a75"
      },
      "execution_count": null,
      "outputs": [
        {
          "output_type": "stream",
          "name": "stdout",
          "text": [
            "RNN prediction: positive\n"
          ]
        }
      ]
    },
    {
      "cell_type": "markdown",
      "source": [
        "So we trained our model on a twitter dataset where we modified the labels by deleting all the records with neutral sentiment and adjust the label to match the label of the original dataset. Now the prediction results seems to improve by a bit because some of the input to these predictions are closer to daily comments which can be better approached by a model trained on twitter texts rather than imdb dataset which might be more limited to a movie-comment situation. However, in terms on the last prediciton, it predicted incorrectly. I have definitely observed changes that depended on the dataset we are feeding the model. For the drawbacks/failures of RNN, I think it heavily relies on the training data we feed. Different training data gives different outputs and predictions. Additionally, since we have a binary output, which sometimes might be inaccurate because it doesn't contain a neutral label, therefore, RNN failed to capture that as it wasn't provided to the model."
      ],
      "metadata": {
        "id": "2EhXFQAvYYMd"
      }
    },
    {
      "cell_type": "markdown",
      "source": [
        "### Additional example: trying bidirectional RNNs. We talked briefly about bidirectional RNNs in class. The code in this section is not graded but it's here for you to play with.\n",
        "\n",
        "Question: Explain in a sentence or two each: (a) how do bidirectional RNNs work? (b) Why are they useful? (2 points)\n",
        "\n",
        "Below a bidirectional RNN is implemented, following tips from [this example](https://github.com/PacktPublishing/Mastering-PyTorch/blob/master/Chapter04/lstm.ipynb), but it does not improve performance over what we already have."
      ],
      "metadata": {
        "id": "KyIeqEsTKXlW"
      }
    },
    {
      "cell_type": "code",
      "source": [
        "def cuda_pack_padded_sequence(input, lengths):\n",
        "    lengths = torch.as_tensor(lengths, dtype=torch.int64)\n",
        "    lengths = lengths.cpu()\n",
        "    lengths, sorted_indices = torch.sort(lengths, descending=True)\n",
        "    sorted_indices = sorted_indices.to(input.device)\n",
        "    input = input.index_select(1, sorted_indices) # batch first = False\n",
        "\n",
        "    data, batch_sizes = \\\n",
        "    torch._C._VariableFunctions._pack_padded_sequence(input, lengths, batch_first=False)\n",
        "    return torch.nn.utils.rnn.PackedSequence(data, batch_sizes, sorted_indices)"
      ],
      "metadata": {
        "id": "ASy9jNdCB7qI"
      },
      "execution_count": null,
      "outputs": []
    },
    {
      "cell_type": "code",
      "source": [
        "class RNNClassifier(nn.Module):\n",
        "    def __init__(self, embedding_dim, hidden_dim, vocab_size, \\\n",
        "                 bidirectional=False):\n",
        "        super(RNNClassifier, self).__init__()\n",
        "        # define all layers we need,\n",
        "        # their parameters will be initialized automatically\n",
        "        self.word_embeddings = nn.Embedding(vocab_size, embedding_dim)\n",
        "        self.rnn = nn.LSTM(embedding_dim, hidden_dim, batch_first=True,\n",
        "                              bidirectional=bidirectional)\n",
        "        self.bidirectional = bidirectional\n",
        "        self.hidden2label = nn.Linear(hidden_dim*(2 if bidirectional else 1), 1)\n",
        "\n",
        "    def forward(self, sentences, mask):\n",
        "        # sentences shape: [B, L], mask shape: [B, L]\n",
        "        embedding = self.word_embeddings(sentences) # shape: [B, L, DE]\n",
        "        if self.bidirectional:\n",
        "          if torch.cuda.is_available():\n",
        "              embedding = cuda_pack_padded_sequence(embedding, \\\n",
        "                                                lengths=mask.sum(dim=1))\n",
        "              # actually, code in the else branch should work for both cases,\n",
        "              # but due to some bug it appears not to work\n",
        "          else:\n",
        "              embedding = nn.utils.rnn.pack_padded_sequence(embedding, \\\n",
        "                                                          lengths=mask.sum(dim=1))\n",
        "        out, hidden = self.rnn(embedding) # out shape: [B, L, DH]\n",
        "        if self.bidirectional:\n",
        "            out, _ = nn.utils.rnn.pad_packed_sequence(out)\n",
        "            out = out.permute(1, 0, 2)\n",
        "        out = (out*mask[:, :, None]).mean(dim=1) # shape: [B, DH]\n",
        "        res = self.hidden2label(out) # shape: [B, 1]\n",
        "        return torch.sigmoid(res)"
      ],
      "metadata": {
        "id": "AV5c1_X8AjOw"
      },
      "execution_count": null,
      "outputs": []
    },
    {
      "cell_type": "code",
      "source": [
        "rnn = RNNClassifier(512, 512, tokenizer.vocab_size, bidirectional=True)\n",
        "rnn.to(device)\n",
        "optimizer = optim.RMSprop(rnn.parameters(), lr=0.001)\n",
        "a, b, c, d = train(train_loader, test_loader, rnn, lossfun, \\\n",
        "                   optimizer, device, num_epochs=15)"
      ],
      "metadata": {
        "colab": {
          "base_uri": "https://localhost:8080/"
        },
        "id": "Paq_0nTfBmx4",
        "outputId": "d7e21300-0050-46de-972f-e0d8d30af29a"
      },
      "execution_count": null,
      "outputs": [
        {
          "output_type": "stream",
          "name": "stdout",
          "text": [
            "Epoch:   1/ 15 Training Loss: 0.270, Testing Loss: 0.353, Training Acc: 0.903, Testing Acc: 0.860\n",
            "Epoch:   2/ 15 Training Loss: 0.161, Testing Loss: 0.299, Training Acc: 0.950, Testing Acc: 0.883\n",
            "Epoch:   3/ 15 Training Loss: 0.106, Testing Loss: 0.368, Training Acc: 0.970, Testing Acc: 0.861\n",
            "Epoch:   4/ 15 Training Loss: 0.063, Testing Loss: 0.386, Training Acc: 0.982, Testing Acc: 0.873\n",
            "Epoch:   5/ 15 Training Loss: 0.013, Testing Loss: 0.560, Training Acc: 0.997, Testing Acc: 0.877\n",
            "Epoch:   6/ 15 Training Loss: 0.007, Testing Loss: 0.608, Training Acc: 0.999, Testing Acc: 0.880\n",
            "Epoch:   7/ 15 Training Loss: 0.005, Testing Loss: 0.661, Training Acc: 0.999, Testing Acc: 0.877\n",
            "Epoch:   8/ 15 Training Loss: 0.007, Testing Loss: 0.477, Training Acc: 0.999, Testing Acc: 0.883\n",
            "Epoch:   9/ 15 Training Loss: 0.006, Testing Loss: 0.474, Training Acc: 1.000, Testing Acc: 0.882\n",
            "Epoch:  10/ 15 Training Loss: 0.014, Testing Loss: 0.371, Training Acc: 1.000, Testing Acc: 0.884\n",
            "Epoch:  11/ 15 Training Loss: 0.001, Testing Loss: 0.890, Training Acc: 1.000, Testing Acc: 0.880\n",
            "Epoch:  12/ 15 Training Loss: 0.003, Testing Loss: 0.567, Training Acc: 1.000, Testing Acc: 0.882\n",
            "Epoch:  13/ 15 Training Loss: 0.019, Testing Loss: 0.340, Training Acc: 1.000, Testing Acc: 0.885\n",
            "Epoch:  14/ 15 Training Loss: 0.001, Testing Loss: 0.801, Training Acc: 1.000, Testing Acc: 0.879\n",
            "Epoch:  15/ 15 Training Loss: 0.000, Testing Loss: 1.075, Training Acc: 1.000, Testing Acc: 0.877\n"
          ]
        }
      ]
    },
    {
      "cell_type": "code",
      "source": [
        "!sudo apt-get install texlive-xetex texlive-fonts-recommended texlive-plain-generic"
      ],
      "metadata": {
        "colab": {
          "base_uri": "https://localhost:8080/"
        },
        "id": "Hx_H9An6Eye8",
        "outputId": "e8c7502d-38af-4b84-b53d-84713468dc86"
      },
      "execution_count": null,
      "outputs": [
        {
          "output_type": "stream",
          "name": "stdout",
          "text": [
            "Reading package lists... Done\n",
            "Building dependency tree... Done\n",
            "Reading state information... Done\n",
            "The following additional packages will be installed:\n",
            "  dvisvgm fonts-droid-fallback fonts-lato fonts-lmodern fonts-noto-mono\n",
            "  fonts-texgyre fonts-urw-base35 libapache-pom-java libcommons-logging-java\n",
            "  libcommons-parent-java libfontbox-java libfontenc1 libgs9 libgs9-common\n",
            "  libidn12 libijs-0.35 libjbig2dec0 libkpathsea6 libpdfbox-java libptexenc1\n",
            "  libruby3.0 libsynctex2 libteckit0 libtexlua53 libtexluajit2 libwoff1\n",
            "  libzzip-0-13 lmodern poppler-data preview-latex-style rake ruby\n",
            "  ruby-net-telnet ruby-rubygems ruby-webrick ruby-xmlrpc ruby3.0\n",
            "  rubygems-integration t1utils teckit tex-common tex-gyre texlive-base\n",
            "  texlive-binaries texlive-latex-base texlive-latex-extra\n",
            "  texlive-latex-recommended texlive-pictures tipa xfonts-encodings\n",
            "  xfonts-utils\n",
            "Suggested packages:\n",
            "  fonts-noto fonts-freefont-otf | fonts-freefont-ttf libavalon-framework-java\n",
            "  libcommons-logging-java-doc libexcalibur-logkit-java liblog4j1.2-java\n",
            "  poppler-utils ghostscript fonts-japanese-mincho | fonts-ipafont-mincho\n",
            "  fonts-japanese-gothic | fonts-ipafont-gothic fonts-arphic-ukai\n",
            "  fonts-arphic-uming fonts-nanum ri ruby-dev bundler debhelper gv\n",
            "  | postscript-viewer perl-tk xpdf | pdf-viewer xzdec\n",
            "  texlive-fonts-recommended-doc texlive-latex-base-doc python3-pygments\n",
            "  icc-profiles libfile-which-perl libspreadsheet-parseexcel-perl\n",
            "  texlive-latex-extra-doc texlive-latex-recommended-doc texlive-luatex\n",
            "  texlive-pstricks dot2tex prerex texlive-pictures-doc vprerex\n",
            "  default-jre-headless tipa-doc\n",
            "The following NEW packages will be installed:\n",
            "  dvisvgm fonts-droid-fallback fonts-lato fonts-lmodern fonts-noto-mono\n",
            "  fonts-texgyre fonts-urw-base35 libapache-pom-java libcommons-logging-java\n",
            "  libcommons-parent-java libfontbox-java libfontenc1 libgs9 libgs9-common\n",
            "  libidn12 libijs-0.35 libjbig2dec0 libkpathsea6 libpdfbox-java libptexenc1\n",
            "  libruby3.0 libsynctex2 libteckit0 libtexlua53 libtexluajit2 libwoff1\n",
            "  libzzip-0-13 lmodern poppler-data preview-latex-style rake ruby\n",
            "  ruby-net-telnet ruby-rubygems ruby-webrick ruby-xmlrpc ruby3.0\n",
            "  rubygems-integration t1utils teckit tex-common tex-gyre texlive-base\n",
            "  texlive-binaries texlive-fonts-recommended texlive-latex-base\n",
            "  texlive-latex-extra texlive-latex-recommended texlive-pictures\n",
            "  texlive-plain-generic texlive-xetex tipa xfonts-encodings xfonts-utils\n",
            "0 upgraded, 54 newly installed, 0 to remove and 15 not upgraded.\n",
            "Need to get 182 MB of archives.\n",
            "After this operation, 571 MB of additional disk space will be used.\n",
            "Get:1 http://archive.ubuntu.com/ubuntu jammy/main amd64 fonts-droid-fallback all 1:6.0.1r16-1.1build1 [1,805 kB]\n",
            "Get:2 http://archive.ubuntu.com/ubuntu jammy/main amd64 fonts-lato all 2.0-2.1 [2,696 kB]\n",
            "Get:3 http://archive.ubuntu.com/ubuntu jammy/main amd64 poppler-data all 0.4.11-1 [2,171 kB]\n",
            "Get:4 http://archive.ubuntu.com/ubuntu jammy/universe amd64 tex-common all 6.17 [33.7 kB]\n",
            "Get:5 http://archive.ubuntu.com/ubuntu jammy/main amd64 fonts-urw-base35 all 20200910-1 [6,367 kB]\n",
            "Get:6 http://archive.ubuntu.com/ubuntu jammy-updates/main amd64 libgs9-common all 9.55.0~dfsg1-0ubuntu5.5 [752 kB]\n",
            "Get:7 http://archive.ubuntu.com/ubuntu jammy-updates/main amd64 libidn12 amd64 1.38-4ubuntu1 [60.0 kB]\n",
            "Get:8 http://archive.ubuntu.com/ubuntu jammy/main amd64 libijs-0.35 amd64 0.35-15build2 [16.5 kB]\n",
            "Get:9 http://archive.ubuntu.com/ubuntu jammy/main amd64 libjbig2dec0 amd64 0.19-3build2 [64.7 kB]\n",
            "Get:10 http://archive.ubuntu.com/ubuntu jammy-updates/main amd64 libgs9 amd64 9.55.0~dfsg1-0ubuntu5.5 [5,030 kB]\n",
            "Get:11 http://archive.ubuntu.com/ubuntu jammy-updates/main amd64 libkpathsea6 amd64 2021.20210626.59705-1ubuntu0.1 [60.3 kB]\n",
            "Get:12 http://archive.ubuntu.com/ubuntu jammy/main amd64 libwoff1 amd64 1.0.2-1build4 [45.2 kB]\n",
            "Get:13 http://archive.ubuntu.com/ubuntu jammy/universe amd64 dvisvgm amd64 2.13.1-1 [1,221 kB]\n",
            "Get:14 http://archive.ubuntu.com/ubuntu jammy/universe amd64 fonts-lmodern all 2.004.5-6.1 [4,532 kB]\n",
            "Get:15 http://archive.ubuntu.com/ubuntu jammy/main amd64 fonts-noto-mono all 20201225-1build1 [397 kB]\n",
            "Get:16 http://archive.ubuntu.com/ubuntu jammy/universe amd64 fonts-texgyre all 20180621-3.1 [10.2 MB]\n",
            "Get:17 http://archive.ubuntu.com/ubuntu jammy/universe amd64 libapache-pom-java all 18-1 [4,720 B]\n",
            "Get:18 http://archive.ubuntu.com/ubuntu jammy/universe amd64 libcommons-parent-java all 43-1 [10.8 kB]\n",
            "Get:19 http://archive.ubuntu.com/ubuntu jammy/universe amd64 libcommons-logging-java all 1.2-2 [60.3 kB]\n",
            "Get:20 http://archive.ubuntu.com/ubuntu jammy/main amd64 libfontenc1 amd64 1:1.1.4-1build3 [14.7 kB]\n",
            "Get:21 http://archive.ubuntu.com/ubuntu jammy-updates/main amd64 libptexenc1 amd64 2021.20210626.59705-1ubuntu0.1 [39.1 kB]\n",
            "Get:22 http://archive.ubuntu.com/ubuntu jammy/main amd64 rubygems-integration all 1.18 [5,336 B]\n",
            "Get:23 http://archive.ubuntu.com/ubuntu jammy-updates/main amd64 ruby3.0 amd64 3.0.2-7ubuntu2.4 [50.1 kB]\n",
            "Get:24 http://archive.ubuntu.com/ubuntu jammy/main amd64 ruby-rubygems all 3.3.5-2 [228 kB]\n",
            "Get:25 http://archive.ubuntu.com/ubuntu jammy/main amd64 ruby amd64 1:3.0~exp1 [5,100 B]\n",
            "Get:26 http://archive.ubuntu.com/ubuntu jammy/main amd64 rake all 13.0.6-2 [61.7 kB]\n",
            "Get:27 http://archive.ubuntu.com/ubuntu jammy/main amd64 ruby-net-telnet all 0.1.1-2 [12.6 kB]\n",
            "Get:28 http://archive.ubuntu.com/ubuntu jammy/universe amd64 ruby-webrick all 1.7.0-3 [51.8 kB]\n",
            "Get:29 http://archive.ubuntu.com/ubuntu jammy-updates/main amd64 ruby-xmlrpc all 0.3.2-1ubuntu0.1 [24.9 kB]\n",
            "Get:30 http://archive.ubuntu.com/ubuntu jammy-updates/main amd64 libruby3.0 amd64 3.0.2-7ubuntu2.4 [5,113 kB]\n",
            "Get:31 http://archive.ubuntu.com/ubuntu jammy-updates/main amd64 libsynctex2 amd64 2021.20210626.59705-1ubuntu0.1 [55.5 kB]\n",
            "Get:32 http://archive.ubuntu.com/ubuntu jammy/universe amd64 libteckit0 amd64 2.5.11+ds1-1 [421 kB]\n",
            "Get:33 http://archive.ubuntu.com/ubuntu jammy-updates/main amd64 libtexlua53 amd64 2021.20210626.59705-1ubuntu0.1 [120 kB]\n",
            "Get:34 http://archive.ubuntu.com/ubuntu jammy-updates/main amd64 libtexluajit2 amd64 2021.20210626.59705-1ubuntu0.1 [267 kB]\n",
            "Get:35 http://archive.ubuntu.com/ubuntu jammy/universe amd64 libzzip-0-13 amd64 0.13.72+dfsg.1-1.1 [27.0 kB]\n",
            "Get:36 http://archive.ubuntu.com/ubuntu jammy/main amd64 xfonts-encodings all 1:1.0.5-0ubuntu2 [578 kB]\n",
            "Get:37 http://archive.ubuntu.com/ubuntu jammy/main amd64 xfonts-utils amd64 1:7.7+6build2 [94.6 kB]\n",
            "Get:38 http://archive.ubuntu.com/ubuntu jammy/universe amd64 lmodern all 2.004.5-6.1 [9,471 kB]\n",
            "Get:39 http://archive.ubuntu.com/ubuntu jammy/universe amd64 preview-latex-style all 12.2-1ubuntu1 [185 kB]\n",
            "Get:40 http://archive.ubuntu.com/ubuntu jammy/main amd64 t1utils amd64 1.41-4build2 [61.3 kB]\n",
            "Get:41 http://archive.ubuntu.com/ubuntu jammy/universe amd64 teckit amd64 2.5.11+ds1-1 [699 kB]\n",
            "Get:42 http://archive.ubuntu.com/ubuntu jammy/universe amd64 tex-gyre all 20180621-3.1 [6,209 kB]\n",
            "Get:43 http://archive.ubuntu.com/ubuntu jammy-updates/universe amd64 texlive-binaries amd64 2021.20210626.59705-1ubuntu0.1 [9,848 kB]\n",
            "Get:44 http://archive.ubuntu.com/ubuntu jammy/universe amd64 texlive-base all 2021.20220204-1 [21.0 MB]\n",
            "Get:45 http://archive.ubuntu.com/ubuntu jammy/universe amd64 texlive-fonts-recommended all 2021.20220204-1 [4,972 kB]\n",
            "Get:46 http://archive.ubuntu.com/ubuntu jammy/universe amd64 texlive-latex-base all 2021.20220204-1 [1,128 kB]\n",
            "Get:47 http://archive.ubuntu.com/ubuntu jammy/universe amd64 libfontbox-java all 1:1.8.16-2 [207 kB]\n",
            "Get:48 http://archive.ubuntu.com/ubuntu jammy/universe amd64 libpdfbox-java all 1:1.8.16-2 [5,199 kB]\n",
            "Get:49 http://archive.ubuntu.com/ubuntu jammy/universe amd64 texlive-latex-recommended all 2021.20220204-1 [14.4 MB]\n",
            "Get:50 http://archive.ubuntu.com/ubuntu jammy/universe amd64 texlive-pictures all 2021.20220204-1 [8,720 kB]\n",
            "Get:51 http://archive.ubuntu.com/ubuntu jammy/universe amd64 texlive-latex-extra all 2021.20220204-1 [13.9 MB]\n",
            "Get:52 http://archive.ubuntu.com/ubuntu jammy/universe amd64 texlive-plain-generic all 2021.20220204-1 [27.5 MB]\n",
            "Get:53 http://archive.ubuntu.com/ubuntu jammy/universe amd64 tipa all 2:1.3-21 [2,967 kB]\n",
            "Get:54 http://archive.ubuntu.com/ubuntu jammy/universe amd64 texlive-xetex all 2021.20220204-1 [12.4 MB]\n",
            "Fetched 182 MB in 3s (52.4 MB/s)\n",
            "debconf: unable to initialize frontend: Dialog\n",
            "debconf: (No usable dialog-like program is installed, so the dialog based frontend cannot be used. at /usr/share/perl5/Debconf/FrontEnd/Dialog.pm line 78, <> line 54.)\n",
            "debconf: falling back to frontend: Readline\n",
            "debconf: unable to initialize frontend: Readline\n",
            "debconf: (This frontend requires a controlling tty.)\n",
            "debconf: falling back to frontend: Teletype\n",
            "dpkg-preconfigure: unable to re-open stdin: \n",
            "Selecting previously unselected package fonts-droid-fallback.\n",
            "(Reading database ... 120882 files and directories currently installed.)\n",
            "Preparing to unpack .../00-fonts-droid-fallback_1%3a6.0.1r16-1.1build1_all.deb ...\n",
            "Unpacking fonts-droid-fallback (1:6.0.1r16-1.1build1) ...\n",
            "Selecting previously unselected package fonts-lato.\n",
            "Preparing to unpack .../01-fonts-lato_2.0-2.1_all.deb ...\n",
            "Unpacking fonts-lato (2.0-2.1) ...\n",
            "Selecting previously unselected package poppler-data.\n",
            "Preparing to unpack .../02-poppler-data_0.4.11-1_all.deb ...\n",
            "Unpacking poppler-data (0.4.11-1) ...\n",
            "Selecting previously unselected package tex-common.\n",
            "Preparing to unpack .../03-tex-common_6.17_all.deb ...\n",
            "Unpacking tex-common (6.17) ...\n",
            "Selecting previously unselected package fonts-urw-base35.\n",
            "Preparing to unpack .../04-fonts-urw-base35_20200910-1_all.deb ...\n",
            "Unpacking fonts-urw-base35 (20200910-1) ...\n",
            "Selecting previously unselected package libgs9-common.\n",
            "Preparing to unpack .../05-libgs9-common_9.55.0~dfsg1-0ubuntu5.5_all.deb ...\n",
            "Unpacking libgs9-common (9.55.0~dfsg1-0ubuntu5.5) ...\n",
            "Selecting previously unselected package libidn12:amd64.\n",
            "Preparing to unpack .../06-libidn12_1.38-4ubuntu1_amd64.deb ...\n",
            "Unpacking libidn12:amd64 (1.38-4ubuntu1) ...\n",
            "Selecting previously unselected package libijs-0.35:amd64.\n",
            "Preparing to unpack .../07-libijs-0.35_0.35-15build2_amd64.deb ...\n",
            "Unpacking libijs-0.35:amd64 (0.35-15build2) ...\n",
            "Selecting previously unselected package libjbig2dec0:amd64.\n",
            "Preparing to unpack .../08-libjbig2dec0_0.19-3build2_amd64.deb ...\n",
            "Unpacking libjbig2dec0:amd64 (0.19-3build2) ...\n",
            "Selecting previously unselected package libgs9:amd64.\n",
            "Preparing to unpack .../09-libgs9_9.55.0~dfsg1-0ubuntu5.5_amd64.deb ...\n",
            "Unpacking libgs9:amd64 (9.55.0~dfsg1-0ubuntu5.5) ...\n",
            "Selecting previously unselected package libkpathsea6:amd64.\n",
            "Preparing to unpack .../10-libkpathsea6_2021.20210626.59705-1ubuntu0.1_amd64.deb ...\n",
            "Unpacking libkpathsea6:amd64 (2021.20210626.59705-1ubuntu0.1) ...\n",
            "Selecting previously unselected package libwoff1:amd64.\n",
            "Preparing to unpack .../11-libwoff1_1.0.2-1build4_amd64.deb ...\n",
            "Unpacking libwoff1:amd64 (1.0.2-1build4) ...\n",
            "Selecting previously unselected package dvisvgm.\n",
            "Preparing to unpack .../12-dvisvgm_2.13.1-1_amd64.deb ...\n",
            "Unpacking dvisvgm (2.13.1-1) ...\n",
            "Selecting previously unselected package fonts-lmodern.\n",
            "Preparing to unpack .../13-fonts-lmodern_2.004.5-6.1_all.deb ...\n",
            "Unpacking fonts-lmodern (2.004.5-6.1) ...\n",
            "Selecting previously unselected package fonts-noto-mono.\n",
            "Preparing to unpack .../14-fonts-noto-mono_20201225-1build1_all.deb ...\n",
            "Unpacking fonts-noto-mono (20201225-1build1) ...\n",
            "Selecting previously unselected package fonts-texgyre.\n",
            "Preparing to unpack .../15-fonts-texgyre_20180621-3.1_all.deb ...\n",
            "Unpacking fonts-texgyre (20180621-3.1) ...\n",
            "Selecting previously unselected package libapache-pom-java.\n",
            "Preparing to unpack .../16-libapache-pom-java_18-1_all.deb ...\n",
            "Unpacking libapache-pom-java (18-1) ...\n",
            "Selecting previously unselected package libcommons-parent-java.\n",
            "Preparing to unpack .../17-libcommons-parent-java_43-1_all.deb ...\n",
            "Unpacking libcommons-parent-java (43-1) ...\n",
            "Selecting previously unselected package libcommons-logging-java.\n",
            "Preparing to unpack .../18-libcommons-logging-java_1.2-2_all.deb ...\n",
            "Unpacking libcommons-logging-java (1.2-2) ...\n",
            "Selecting previously unselected package libfontenc1:amd64.\n",
            "Preparing to unpack .../19-libfontenc1_1%3a1.1.4-1build3_amd64.deb ...\n",
            "Unpacking libfontenc1:amd64 (1:1.1.4-1build3) ...\n",
            "Selecting previously unselected package libptexenc1:amd64.\n",
            "Preparing to unpack .../20-libptexenc1_2021.20210626.59705-1ubuntu0.1_amd64.deb ...\n",
            "Unpacking libptexenc1:amd64 (2021.20210626.59705-1ubuntu0.1) ...\n",
            "Selecting previously unselected package rubygems-integration.\n",
            "Preparing to unpack .../21-rubygems-integration_1.18_all.deb ...\n",
            "Unpacking rubygems-integration (1.18) ...\n",
            "Selecting previously unselected package ruby3.0.\n",
            "Preparing to unpack .../22-ruby3.0_3.0.2-7ubuntu2.4_amd64.deb ...\n",
            "Unpacking ruby3.0 (3.0.2-7ubuntu2.4) ...\n",
            "Selecting previously unselected package ruby-rubygems.\n",
            "Preparing to unpack .../23-ruby-rubygems_3.3.5-2_all.deb ...\n",
            "Unpacking ruby-rubygems (3.3.5-2) ...\n",
            "Selecting previously unselected package ruby.\n",
            "Preparing to unpack .../24-ruby_1%3a3.0~exp1_amd64.deb ...\n",
            "Unpacking ruby (1:3.0~exp1) ...\n",
            "Selecting previously unselected package rake.\n",
            "Preparing to unpack .../25-rake_13.0.6-2_all.deb ...\n",
            "Unpacking rake (13.0.6-2) ...\n",
            "Selecting previously unselected package ruby-net-telnet.\n",
            "Preparing to unpack .../26-ruby-net-telnet_0.1.1-2_all.deb ...\n",
            "Unpacking ruby-net-telnet (0.1.1-2) ...\n",
            "Selecting previously unselected package ruby-webrick.\n",
            "Preparing to unpack .../27-ruby-webrick_1.7.0-3_all.deb ...\n",
            "Unpacking ruby-webrick (1.7.0-3) ...\n",
            "Selecting previously unselected package ruby-xmlrpc.\n",
            "Preparing to unpack .../28-ruby-xmlrpc_0.3.2-1ubuntu0.1_all.deb ...\n",
            "Unpacking ruby-xmlrpc (0.3.2-1ubuntu0.1) ...\n",
            "Selecting previously unselected package libruby3.0:amd64.\n",
            "Preparing to unpack .../29-libruby3.0_3.0.2-7ubuntu2.4_amd64.deb ...\n",
            "Unpacking libruby3.0:amd64 (3.0.2-7ubuntu2.4) ...\n",
            "Selecting previously unselected package libsynctex2:amd64.\n",
            "Preparing to unpack .../30-libsynctex2_2021.20210626.59705-1ubuntu0.1_amd64.deb ...\n",
            "Unpacking libsynctex2:amd64 (2021.20210626.59705-1ubuntu0.1) ...\n",
            "Selecting previously unselected package libteckit0:amd64.\n",
            "Preparing to unpack .../31-libteckit0_2.5.11+ds1-1_amd64.deb ...\n",
            "Unpacking libteckit0:amd64 (2.5.11+ds1-1) ...\n",
            "Selecting previously unselected package libtexlua53:amd64.\n",
            "Preparing to unpack .../32-libtexlua53_2021.20210626.59705-1ubuntu0.1_amd64.deb ...\n",
            "Unpacking libtexlua53:amd64 (2021.20210626.59705-1ubuntu0.1) ...\n",
            "Selecting previously unselected package libtexluajit2:amd64.\n",
            "Preparing to unpack .../33-libtexluajit2_2021.20210626.59705-1ubuntu0.1_amd64.deb ...\n",
            "Unpacking libtexluajit2:amd64 (2021.20210626.59705-1ubuntu0.1) ...\n",
            "Selecting previously unselected package libzzip-0-13:amd64.\n",
            "Preparing to unpack .../34-libzzip-0-13_0.13.72+dfsg.1-1.1_amd64.deb ...\n",
            "Unpacking libzzip-0-13:amd64 (0.13.72+dfsg.1-1.1) ...\n",
            "Selecting previously unselected package xfonts-encodings.\n",
            "Preparing to unpack .../35-xfonts-encodings_1%3a1.0.5-0ubuntu2_all.deb ...\n",
            "Unpacking xfonts-encodings (1:1.0.5-0ubuntu2) ...\n",
            "Selecting previously unselected package xfonts-utils.\n",
            "Preparing to unpack .../36-xfonts-utils_1%3a7.7+6build2_amd64.deb ...\n",
            "Unpacking xfonts-utils (1:7.7+6build2) ...\n",
            "Selecting previously unselected package lmodern.\n",
            "Preparing to unpack .../37-lmodern_2.004.5-6.1_all.deb ...\n",
            "Unpacking lmodern (2.004.5-6.1) ...\n",
            "Selecting previously unselected package preview-latex-style.\n",
            "Preparing to unpack .../38-preview-latex-style_12.2-1ubuntu1_all.deb ...\n",
            "Unpacking preview-latex-style (12.2-1ubuntu1) ...\n",
            "Selecting previously unselected package t1utils.\n",
            "Preparing to unpack .../39-t1utils_1.41-4build2_amd64.deb ...\n",
            "Unpacking t1utils (1.41-4build2) ...\n",
            "Selecting previously unselected package teckit.\n",
            "Preparing to unpack .../40-teckit_2.5.11+ds1-1_amd64.deb ...\n",
            "Unpacking teckit (2.5.11+ds1-1) ...\n",
            "Selecting previously unselected package tex-gyre.\n",
            "Preparing to unpack .../41-tex-gyre_20180621-3.1_all.deb ...\n",
            "Unpacking tex-gyre (20180621-3.1) ...\n",
            "Selecting previously unselected package texlive-binaries.\n",
            "Preparing to unpack .../42-texlive-binaries_2021.20210626.59705-1ubuntu0.1_amd64.deb ...\n",
            "Unpacking texlive-binaries (2021.20210626.59705-1ubuntu0.1) ...\n",
            "Selecting previously unselected package texlive-base.\n",
            "Preparing to unpack .../43-texlive-base_2021.20220204-1_all.deb ...\n",
            "Unpacking texlive-base (2021.20220204-1) ...\n",
            "Selecting previously unselected package texlive-fonts-recommended.\n",
            "Preparing to unpack .../44-texlive-fonts-recommended_2021.20220204-1_all.deb ...\n",
            "Unpacking texlive-fonts-recommended (2021.20220204-1) ...\n",
            "Selecting previously unselected package texlive-latex-base.\n",
            "Preparing to unpack .../45-texlive-latex-base_2021.20220204-1_all.deb ...\n",
            "Unpacking texlive-latex-base (2021.20220204-1) ...\n",
            "Selecting previously unselected package libfontbox-java.\n",
            "Preparing to unpack .../46-libfontbox-java_1%3a1.8.16-2_all.deb ...\n",
            "Unpacking libfontbox-java (1:1.8.16-2) ...\n",
            "Selecting previously unselected package libpdfbox-java.\n",
            "Preparing to unpack .../47-libpdfbox-java_1%3a1.8.16-2_all.deb ...\n",
            "Unpacking libpdfbox-java (1:1.8.16-2) ...\n",
            "Selecting previously unselected package texlive-latex-recommended.\n",
            "Preparing to unpack .../48-texlive-latex-recommended_2021.20220204-1_all.deb ...\n",
            "Unpacking texlive-latex-recommended (2021.20220204-1) ...\n",
            "Selecting previously unselected package texlive-pictures.\n",
            "Preparing to unpack .../49-texlive-pictures_2021.20220204-1_all.deb ...\n",
            "Unpacking texlive-pictures (2021.20220204-1) ...\n",
            "Selecting previously unselected package texlive-latex-extra.\n",
            "Preparing to unpack .../50-texlive-latex-extra_2021.20220204-1_all.deb ...\n",
            "Unpacking texlive-latex-extra (2021.20220204-1) ...\n",
            "Selecting previously unselected package texlive-plain-generic.\n",
            "Preparing to unpack .../51-texlive-plain-generic_2021.20220204-1_all.deb ...\n",
            "Unpacking texlive-plain-generic (2021.20220204-1) ...\n",
            "Selecting previously unselected package tipa.\n",
            "Preparing to unpack .../52-tipa_2%3a1.3-21_all.deb ...\n",
            "Unpacking tipa (2:1.3-21) ...\n",
            "Selecting previously unselected package texlive-xetex.\n",
            "Preparing to unpack .../53-texlive-xetex_2021.20220204-1_all.deb ...\n",
            "Unpacking texlive-xetex (2021.20220204-1) ...\n",
            "Setting up fonts-lato (2.0-2.1) ...\n",
            "Setting up fonts-noto-mono (20201225-1build1) ...\n",
            "Setting up libwoff1:amd64 (1.0.2-1build4) ...\n",
            "Setting up libtexlua53:amd64 (2021.20210626.59705-1ubuntu0.1) ...\n",
            "Setting up libijs-0.35:amd64 (0.35-15build2) ...\n",
            "Setting up libtexluajit2:amd64 (2021.20210626.59705-1ubuntu0.1) ...\n",
            "Setting up libfontbox-java (1:1.8.16-2) ...\n",
            "Setting up rubygems-integration (1.18) ...\n",
            "Setting up libzzip-0-13:amd64 (0.13.72+dfsg.1-1.1) ...\n",
            "Setting up fonts-urw-base35 (20200910-1) ...\n",
            "Setting up poppler-data (0.4.11-1) ...\n",
            "Setting up tex-common (6.17) ...\n",
            "debconf: unable to initialize frontend: Dialog\n",
            "debconf: (No usable dialog-like program is installed, so the dialog based frontend cannot be used. at /usr/share/perl5/Debconf/FrontEnd/Dialog.pm line 78.)\n",
            "debconf: falling back to frontend: Readline\n",
            "update-language: texlive-base not installed and configured, doing nothing!\n",
            "Setting up libfontenc1:amd64 (1:1.1.4-1build3) ...\n",
            "Setting up libjbig2dec0:amd64 (0.19-3build2) ...\n",
            "Setting up libteckit0:amd64 (2.5.11+ds1-1) ...\n",
            "Setting up libapache-pom-java (18-1) ...\n",
            "Setting up ruby-net-telnet (0.1.1-2) ...\n",
            "Setting up xfonts-encodings (1:1.0.5-0ubuntu2) ...\n",
            "Setting up t1utils (1.41-4build2) ...\n",
            "Setting up libidn12:amd64 (1.38-4ubuntu1) ...\n",
            "Setting up fonts-texgyre (20180621-3.1) ...\n",
            "Setting up libkpathsea6:amd64 (2021.20210626.59705-1ubuntu0.1) ...\n",
            "Setting up ruby-webrick (1.7.0-3) ...\n",
            "Setting up fonts-lmodern (2.004.5-6.1) ...\n",
            "Setting up fonts-droid-fallback (1:6.0.1r16-1.1build1) ...\n",
            "Setting up ruby-xmlrpc (0.3.2-1ubuntu0.1) ...\n",
            "Setting up libsynctex2:amd64 (2021.20210626.59705-1ubuntu0.1) ...\n",
            "Setting up libgs9-common (9.55.0~dfsg1-0ubuntu5.5) ...\n",
            "Setting up teckit (2.5.11+ds1-1) ...\n",
            "Setting up libpdfbox-java (1:1.8.16-2) ...\n",
            "Setting up libgs9:amd64 (9.55.0~dfsg1-0ubuntu5.5) ...\n",
            "Setting up preview-latex-style (12.2-1ubuntu1) ...\n",
            "Setting up libcommons-parent-java (43-1) ...\n",
            "Setting up dvisvgm (2.13.1-1) ...\n",
            "Setting up libcommons-logging-java (1.2-2) ...\n",
            "Setting up xfonts-utils (1:7.7+6build2) ...\n",
            "Setting up libptexenc1:amd64 (2021.20210626.59705-1ubuntu0.1) ...\n",
            "Setting up texlive-binaries (2021.20210626.59705-1ubuntu0.1) ...\n",
            "update-alternatives: using /usr/bin/xdvi-xaw to provide /usr/bin/xdvi.bin (xdvi.bin) in auto mode\n",
            "update-alternatives: using /usr/bin/bibtex.original to provide /usr/bin/bibtex (bibtex) in auto mode\n",
            "Setting up lmodern (2.004.5-6.1) ...\n",
            "Setting up texlive-base (2021.20220204-1) ...\n",
            "/usr/bin/ucfr\n",
            "/usr/bin/ucfr\n",
            "/usr/bin/ucfr\n",
            "/usr/bin/ucfr\n",
            "mktexlsr: Updating /var/lib/texmf/ls-R-TEXLIVEDIST... \n",
            "mktexlsr: Updating /var/lib/texmf/ls-R-TEXMFMAIN... \n",
            "mktexlsr: Updating /var/lib/texmf/ls-R... \n",
            "mktexlsr: Done.\n",
            "tl-paper: setting paper size for dvips to a4: /var/lib/texmf/dvips/config/config-paper.ps\n",
            "tl-paper: setting paper size for dvipdfmx to a4: /var/lib/texmf/dvipdfmx/dvipdfmx-paper.cfg\n",
            "tl-paper: setting paper size for xdvi to a4: /var/lib/texmf/xdvi/XDvi-paper\n",
            "tl-paper: setting paper size for pdftex to a4: /var/lib/texmf/tex/generic/tex-ini-files/pdftexconfig.tex\n",
            "debconf: unable to initialize frontend: Dialog\n",
            "debconf: (No usable dialog-like program is installed, so the dialog based frontend cannot be used. at /usr/share/perl5/Debconf/FrontEnd/Dialog.pm line 78.)\n",
            "debconf: falling back to frontend: Readline\n",
            "Setting up tex-gyre (20180621-3.1) ...\n",
            "Setting up texlive-plain-generic (2021.20220204-1) ...\n",
            "Setting up texlive-latex-base (2021.20220204-1) ...\n",
            "Setting up texlive-latex-recommended (2021.20220204-1) ...\n",
            "Setting up texlive-pictures (2021.20220204-1) ...\n",
            "Setting up texlive-fonts-recommended (2021.20220204-1) ...\n",
            "Setting up tipa (2:1.3-21) ...\n",
            "Setting up texlive-latex-extra (2021.20220204-1) ...\n",
            "Setting up texlive-xetex (2021.20220204-1) ...\n",
            "Setting up rake (13.0.6-2) ...\n",
            "Setting up libruby3.0:amd64 (3.0.2-7ubuntu2.4) ...\n",
            "Setting up ruby3.0 (3.0.2-7ubuntu2.4) ...\n",
            "Setting up ruby (1:3.0~exp1) ...\n",
            "Setting up ruby-rubygems (3.3.5-2) ...\n",
            "Processing triggers for man-db (2.10.2-1) ...\n",
            "Processing triggers for fontconfig (2.13.1-4.2ubuntu5) ...\n",
            "Processing triggers for libc-bin (2.35-0ubuntu3.4) ...\n",
            "/sbin/ldconfig.real: /usr/local/lib/libtbbbind.so.3 is not a symbolic link\n",
            "\n",
            "/sbin/ldconfig.real: /usr/local/lib/libtbbbind_2_0.so.3 is not a symbolic link\n",
            "\n",
            "/sbin/ldconfig.real: /usr/local/lib/libtbbmalloc_proxy.so.2 is not a symbolic link\n",
            "\n",
            "/sbin/ldconfig.real: /usr/local/lib/libtbbbind_2_5.so.3 is not a symbolic link\n",
            "\n",
            "/sbin/ldconfig.real: /usr/local/lib/libtbb.so.12 is not a symbolic link\n",
            "\n",
            "/sbin/ldconfig.real: /usr/local/lib/libtbbmalloc.so.2 is not a symbolic link\n",
            "\n",
            "Processing triggers for tex-common (6.17) ...\n",
            "debconf: unable to initialize frontend: Dialog\n",
            "debconf: (No usable dialog-like program is installed, so the dialog based frontend cannot be used. at /usr/share/perl5/Debconf/FrontEnd/Dialog.pm line 78.)\n",
            "debconf: falling back to frontend: Readline\n",
            "Running updmap-sys. This may take some time... done.\n",
            "Running mktexlsr /var/lib/texmf ... done.\n",
            "Building format(s) --all.\n",
            "\tThis may take some time... done.\n"
          ]
        }
      ]
    },
    {
      "cell_type": "code",
      "source": [
        "!jupyter nbconvert --to pdf /content/Fang_Assignment3.ipynb"
      ],
      "metadata": {
        "colab": {
          "base_uri": "https://localhost:8080/"
        },
        "id": "IzlN055AFyFG",
        "outputId": "1037e8fd-b966-46d1-e144-3eaf0fa47678"
      },
      "execution_count": null,
      "outputs": [
        {
          "output_type": "stream",
          "name": "stdout",
          "text": [
            "[NbConvertApp] Converting notebook /content/Fang_Assignment3.ipynb to pdf\n",
            "[NbConvertApp] Support files will be in Fang_Assignment3_files/\n",
            "[NbConvertApp] Making directory ./Fang_Assignment3_files\n",
            "[NbConvertApp] Making directory ./Fang_Assignment3_files\n",
            "[NbConvertApp] Writing 229188 bytes to notebook.tex\n",
            "[NbConvertApp] Building PDF\n",
            "[NbConvertApp] Running xelatex 3 times: ['xelatex', 'notebook.tex', '-quiet']\n",
            "[NbConvertApp] Running bibtex 1 time: ['bibtex', 'notebook']\n",
            "[NbConvertApp] WARNING | bibtex had problems, most likely because there were no citations\n",
            "[NbConvertApp] PDF successfully created\n",
            "[NbConvertApp] Writing 225294 bytes to /content/Fang_Assignment3.pdf\n"
          ]
        }
      ]
    },
    {
      "cell_type": "code",
      "source": [],
      "metadata": {
        "id": "OXUIfabBGOXU"
      },
      "execution_count": null,
      "outputs": []
    }
  ],
  "metadata": {
    "accelerator": "GPU",
    "colab": {
      "provenance": [],
      "gpuType": "T4"
    },
    "kernelspec": {
      "display_name": "Python 3",
      "name": "python3"
    },
    "language_info": {
      "name": "python"
    },
    "widgets": {
      "application/vnd.jupyter.widget-state+json": {
        "c37e154249b140cda7c2c600ebaae6e6": {
          "model_module": "@jupyter-widgets/controls",
          "model_name": "HBoxModel",
          "model_module_version": "1.5.0",
          "state": {
            "_dom_classes": [],
            "_model_module": "@jupyter-widgets/controls",
            "_model_module_version": "1.5.0",
            "_model_name": "HBoxModel",
            "_view_count": null,
            "_view_module": "@jupyter-widgets/controls",
            "_view_module_version": "1.5.0",
            "_view_name": "HBoxView",
            "box_style": "",
            "children": [
              "IPY_MODEL_d5d99a6d4c364df2ba37f3af52d95a52",
              "IPY_MODEL_f5030420415c40a190440d8fb00fdb45",
              "IPY_MODEL_0aa09079ee0043c097ad4e18e2a2c412"
            ],
            "layout": "IPY_MODEL_01dac345dbc845ef8a95b89926c2024b"
          }
        },
        "d5d99a6d4c364df2ba37f3af52d95a52": {
          "model_module": "@jupyter-widgets/controls",
          "model_name": "HTMLModel",
          "model_module_version": "1.5.0",
          "state": {
            "_dom_classes": [],
            "_model_module": "@jupyter-widgets/controls",
            "_model_module_version": "1.5.0",
            "_model_name": "HTMLModel",
            "_view_count": null,
            "_view_module": "@jupyter-widgets/controls",
            "_view_module_version": "1.5.0",
            "_view_name": "HTMLView",
            "description": "",
            "description_tooltip": null,
            "layout": "IPY_MODEL_1ec4ae19567c411a970723f540cf5691",
            "placeholder": "​",
            "style": "IPY_MODEL_16b87fd3f7c04a4f8672ccbbca88973e",
            "value": "vocab.json: 100%"
          }
        },
        "f5030420415c40a190440d8fb00fdb45": {
          "model_module": "@jupyter-widgets/controls",
          "model_name": "FloatProgressModel",
          "model_module_version": "1.5.0",
          "state": {
            "_dom_classes": [],
            "_model_module": "@jupyter-widgets/controls",
            "_model_module_version": "1.5.0",
            "_model_name": "FloatProgressModel",
            "_view_count": null,
            "_view_module": "@jupyter-widgets/controls",
            "_view_module_version": "1.5.0",
            "_view_name": "ProgressView",
            "bar_style": "success",
            "description": "",
            "description_tooltip": null,
            "layout": "IPY_MODEL_690f9a389eaf48589081169c08a0450c",
            "max": 1042301,
            "min": 0,
            "orientation": "horizontal",
            "style": "IPY_MODEL_e41eb4be46ac49bfac0d0634404e6bd0",
            "value": 1042301
          }
        },
        "0aa09079ee0043c097ad4e18e2a2c412": {
          "model_module": "@jupyter-widgets/controls",
          "model_name": "HTMLModel",
          "model_module_version": "1.5.0",
          "state": {
            "_dom_classes": [],
            "_model_module": "@jupyter-widgets/controls",
            "_model_module_version": "1.5.0",
            "_model_name": "HTMLModel",
            "_view_count": null,
            "_view_module": "@jupyter-widgets/controls",
            "_view_module_version": "1.5.0",
            "_view_name": "HTMLView",
            "description": "",
            "description_tooltip": null,
            "layout": "IPY_MODEL_89eab71b53cc4ff5a955f009cff1b566",
            "placeholder": "​",
            "style": "IPY_MODEL_7f6b7685402d4b82bcb5d02f457e76e9",
            "value": " 1.04M/1.04M [00:00&lt;00:00, 10.5MB/s]"
          }
        },
        "01dac345dbc845ef8a95b89926c2024b": {
          "model_module": "@jupyter-widgets/base",
          "model_name": "LayoutModel",
          "model_module_version": "1.2.0",
          "state": {
            "_model_module": "@jupyter-widgets/base",
            "_model_module_version": "1.2.0",
            "_model_name": "LayoutModel",
            "_view_count": null,
            "_view_module": "@jupyter-widgets/base",
            "_view_module_version": "1.2.0",
            "_view_name": "LayoutView",
            "align_content": null,
            "align_items": null,
            "align_self": null,
            "border": null,
            "bottom": null,
            "display": null,
            "flex": null,
            "flex_flow": null,
            "grid_area": null,
            "grid_auto_columns": null,
            "grid_auto_flow": null,
            "grid_auto_rows": null,
            "grid_column": null,
            "grid_gap": null,
            "grid_row": null,
            "grid_template_areas": null,
            "grid_template_columns": null,
            "grid_template_rows": null,
            "height": null,
            "justify_content": null,
            "justify_items": null,
            "left": null,
            "margin": null,
            "max_height": null,
            "max_width": null,
            "min_height": null,
            "min_width": null,
            "object_fit": null,
            "object_position": null,
            "order": null,
            "overflow": null,
            "overflow_x": null,
            "overflow_y": null,
            "padding": null,
            "right": null,
            "top": null,
            "visibility": null,
            "width": null
          }
        },
        "1ec4ae19567c411a970723f540cf5691": {
          "model_module": "@jupyter-widgets/base",
          "model_name": "LayoutModel",
          "model_module_version": "1.2.0",
          "state": {
            "_model_module": "@jupyter-widgets/base",
            "_model_module_version": "1.2.0",
            "_model_name": "LayoutModel",
            "_view_count": null,
            "_view_module": "@jupyter-widgets/base",
            "_view_module_version": "1.2.0",
            "_view_name": "LayoutView",
            "align_content": null,
            "align_items": null,
            "align_self": null,
            "border": null,
            "bottom": null,
            "display": null,
            "flex": null,
            "flex_flow": null,
            "grid_area": null,
            "grid_auto_columns": null,
            "grid_auto_flow": null,
            "grid_auto_rows": null,
            "grid_column": null,
            "grid_gap": null,
            "grid_row": null,
            "grid_template_areas": null,
            "grid_template_columns": null,
            "grid_template_rows": null,
            "height": null,
            "justify_content": null,
            "justify_items": null,
            "left": null,
            "margin": null,
            "max_height": null,
            "max_width": null,
            "min_height": null,
            "min_width": null,
            "object_fit": null,
            "object_position": null,
            "order": null,
            "overflow": null,
            "overflow_x": null,
            "overflow_y": null,
            "padding": null,
            "right": null,
            "top": null,
            "visibility": null,
            "width": null
          }
        },
        "16b87fd3f7c04a4f8672ccbbca88973e": {
          "model_module": "@jupyter-widgets/controls",
          "model_name": "DescriptionStyleModel",
          "model_module_version": "1.5.0",
          "state": {
            "_model_module": "@jupyter-widgets/controls",
            "_model_module_version": "1.5.0",
            "_model_name": "DescriptionStyleModel",
            "_view_count": null,
            "_view_module": "@jupyter-widgets/base",
            "_view_module_version": "1.2.0",
            "_view_name": "StyleView",
            "description_width": ""
          }
        },
        "690f9a389eaf48589081169c08a0450c": {
          "model_module": "@jupyter-widgets/base",
          "model_name": "LayoutModel",
          "model_module_version": "1.2.0",
          "state": {
            "_model_module": "@jupyter-widgets/base",
            "_model_module_version": "1.2.0",
            "_model_name": "LayoutModel",
            "_view_count": null,
            "_view_module": "@jupyter-widgets/base",
            "_view_module_version": "1.2.0",
            "_view_name": "LayoutView",
            "align_content": null,
            "align_items": null,
            "align_self": null,
            "border": null,
            "bottom": null,
            "display": null,
            "flex": null,
            "flex_flow": null,
            "grid_area": null,
            "grid_auto_columns": null,
            "grid_auto_flow": null,
            "grid_auto_rows": null,
            "grid_column": null,
            "grid_gap": null,
            "grid_row": null,
            "grid_template_areas": null,
            "grid_template_columns": null,
            "grid_template_rows": null,
            "height": null,
            "justify_content": null,
            "justify_items": null,
            "left": null,
            "margin": null,
            "max_height": null,
            "max_width": null,
            "min_height": null,
            "min_width": null,
            "object_fit": null,
            "object_position": null,
            "order": null,
            "overflow": null,
            "overflow_x": null,
            "overflow_y": null,
            "padding": null,
            "right": null,
            "top": null,
            "visibility": null,
            "width": null
          }
        },
        "e41eb4be46ac49bfac0d0634404e6bd0": {
          "model_module": "@jupyter-widgets/controls",
          "model_name": "ProgressStyleModel",
          "model_module_version": "1.5.0",
          "state": {
            "_model_module": "@jupyter-widgets/controls",
            "_model_module_version": "1.5.0",
            "_model_name": "ProgressStyleModel",
            "_view_count": null,
            "_view_module": "@jupyter-widgets/base",
            "_view_module_version": "1.2.0",
            "_view_name": "StyleView",
            "bar_color": null,
            "description_width": ""
          }
        },
        "89eab71b53cc4ff5a955f009cff1b566": {
          "model_module": "@jupyter-widgets/base",
          "model_name": "LayoutModel",
          "model_module_version": "1.2.0",
          "state": {
            "_model_module": "@jupyter-widgets/base",
            "_model_module_version": "1.2.0",
            "_model_name": "LayoutModel",
            "_view_count": null,
            "_view_module": "@jupyter-widgets/base",
            "_view_module_version": "1.2.0",
            "_view_name": "LayoutView",
            "align_content": null,
            "align_items": null,
            "align_self": null,
            "border": null,
            "bottom": null,
            "display": null,
            "flex": null,
            "flex_flow": null,
            "grid_area": null,
            "grid_auto_columns": null,
            "grid_auto_flow": null,
            "grid_auto_rows": null,
            "grid_column": null,
            "grid_gap": null,
            "grid_row": null,
            "grid_template_areas": null,
            "grid_template_columns": null,
            "grid_template_rows": null,
            "height": null,
            "justify_content": null,
            "justify_items": null,
            "left": null,
            "margin": null,
            "max_height": null,
            "max_width": null,
            "min_height": null,
            "min_width": null,
            "object_fit": null,
            "object_position": null,
            "order": null,
            "overflow": null,
            "overflow_x": null,
            "overflow_y": null,
            "padding": null,
            "right": null,
            "top": null,
            "visibility": null,
            "width": null
          }
        },
        "7f6b7685402d4b82bcb5d02f457e76e9": {
          "model_module": "@jupyter-widgets/controls",
          "model_name": "DescriptionStyleModel",
          "model_module_version": "1.5.0",
          "state": {
            "_model_module": "@jupyter-widgets/controls",
            "_model_module_version": "1.5.0",
            "_model_name": "DescriptionStyleModel",
            "_view_count": null,
            "_view_module": "@jupyter-widgets/base",
            "_view_module_version": "1.2.0",
            "_view_name": "StyleView",
            "description_width": ""
          }
        },
        "20c8ddeea1cd4584b7a828fc0bb721ff": {
          "model_module": "@jupyter-widgets/controls",
          "model_name": "HBoxModel",
          "model_module_version": "1.5.0",
          "state": {
            "_dom_classes": [],
            "_model_module": "@jupyter-widgets/controls",
            "_model_module_version": "1.5.0",
            "_model_name": "HBoxModel",
            "_view_count": null,
            "_view_module": "@jupyter-widgets/controls",
            "_view_module_version": "1.5.0",
            "_view_name": "HBoxView",
            "box_style": "",
            "children": [
              "IPY_MODEL_df2e989fdffd4ce2a56152ae693e7b22",
              "IPY_MODEL_c1096a8d30de49c0be6e7ee6e24c4a7a",
              "IPY_MODEL_230e47fe0b984dc5bdd892ebc2e2d82c"
            ],
            "layout": "IPY_MODEL_b799c76879c7403291a010ac887cb374"
          }
        },
        "df2e989fdffd4ce2a56152ae693e7b22": {
          "model_module": "@jupyter-widgets/controls",
          "model_name": "HTMLModel",
          "model_module_version": "1.5.0",
          "state": {
            "_dom_classes": [],
            "_model_module": "@jupyter-widgets/controls",
            "_model_module_version": "1.5.0",
            "_model_name": "HTMLModel",
            "_view_count": null,
            "_view_module": "@jupyter-widgets/controls",
            "_view_module_version": "1.5.0",
            "_view_name": "HTMLView",
            "description": "",
            "description_tooltip": null,
            "layout": "IPY_MODEL_f0bdbb3039d8497bbdc78e89e988cea9",
            "placeholder": "​",
            "style": "IPY_MODEL_4be746ba2a1b44ac8e8cb3b069bc5dcb",
            "value": "merges.txt: 100%"
          }
        },
        "c1096a8d30de49c0be6e7ee6e24c4a7a": {
          "model_module": "@jupyter-widgets/controls",
          "model_name": "FloatProgressModel",
          "model_module_version": "1.5.0",
          "state": {
            "_dom_classes": [],
            "_model_module": "@jupyter-widgets/controls",
            "_model_module_version": "1.5.0",
            "_model_name": "FloatProgressModel",
            "_view_count": null,
            "_view_module": "@jupyter-widgets/controls",
            "_view_module_version": "1.5.0",
            "_view_name": "ProgressView",
            "bar_style": "success",
            "description": "",
            "description_tooltip": null,
            "layout": "IPY_MODEL_f95ac4f5051b440f9b426c7358832394",
            "max": 456318,
            "min": 0,
            "orientation": "horizontal",
            "style": "IPY_MODEL_8ac49bcb19d24f40ba6c83a3972c18ea",
            "value": 456318
          }
        },
        "230e47fe0b984dc5bdd892ebc2e2d82c": {
          "model_module": "@jupyter-widgets/controls",
          "model_name": "HTMLModel",
          "model_module_version": "1.5.0",
          "state": {
            "_dom_classes": [],
            "_model_module": "@jupyter-widgets/controls",
            "_model_module_version": "1.5.0",
            "_model_name": "HTMLModel",
            "_view_count": null,
            "_view_module": "@jupyter-widgets/controls",
            "_view_module_version": "1.5.0",
            "_view_name": "HTMLView",
            "description": "",
            "description_tooltip": null,
            "layout": "IPY_MODEL_d3f9ed4b8fa74329b98f7a4795935462",
            "placeholder": "​",
            "style": "IPY_MODEL_27440fd10085463ca5d36ab3ee110a38",
            "value": " 456k/456k [00:00&lt;00:00, 24.8MB/s]"
          }
        },
        "b799c76879c7403291a010ac887cb374": {
          "model_module": "@jupyter-widgets/base",
          "model_name": "LayoutModel",
          "model_module_version": "1.2.0",
          "state": {
            "_model_module": "@jupyter-widgets/base",
            "_model_module_version": "1.2.0",
            "_model_name": "LayoutModel",
            "_view_count": null,
            "_view_module": "@jupyter-widgets/base",
            "_view_module_version": "1.2.0",
            "_view_name": "LayoutView",
            "align_content": null,
            "align_items": null,
            "align_self": null,
            "border": null,
            "bottom": null,
            "display": null,
            "flex": null,
            "flex_flow": null,
            "grid_area": null,
            "grid_auto_columns": null,
            "grid_auto_flow": null,
            "grid_auto_rows": null,
            "grid_column": null,
            "grid_gap": null,
            "grid_row": null,
            "grid_template_areas": null,
            "grid_template_columns": null,
            "grid_template_rows": null,
            "height": null,
            "justify_content": null,
            "justify_items": null,
            "left": null,
            "margin": null,
            "max_height": null,
            "max_width": null,
            "min_height": null,
            "min_width": null,
            "object_fit": null,
            "object_position": null,
            "order": null,
            "overflow": null,
            "overflow_x": null,
            "overflow_y": null,
            "padding": null,
            "right": null,
            "top": null,
            "visibility": null,
            "width": null
          }
        },
        "f0bdbb3039d8497bbdc78e89e988cea9": {
          "model_module": "@jupyter-widgets/base",
          "model_name": "LayoutModel",
          "model_module_version": "1.2.0",
          "state": {
            "_model_module": "@jupyter-widgets/base",
            "_model_module_version": "1.2.0",
            "_model_name": "LayoutModel",
            "_view_count": null,
            "_view_module": "@jupyter-widgets/base",
            "_view_module_version": "1.2.0",
            "_view_name": "LayoutView",
            "align_content": null,
            "align_items": null,
            "align_self": null,
            "border": null,
            "bottom": null,
            "display": null,
            "flex": null,
            "flex_flow": null,
            "grid_area": null,
            "grid_auto_columns": null,
            "grid_auto_flow": null,
            "grid_auto_rows": null,
            "grid_column": null,
            "grid_gap": null,
            "grid_row": null,
            "grid_template_areas": null,
            "grid_template_columns": null,
            "grid_template_rows": null,
            "height": null,
            "justify_content": null,
            "justify_items": null,
            "left": null,
            "margin": null,
            "max_height": null,
            "max_width": null,
            "min_height": null,
            "min_width": null,
            "object_fit": null,
            "object_position": null,
            "order": null,
            "overflow": null,
            "overflow_x": null,
            "overflow_y": null,
            "padding": null,
            "right": null,
            "top": null,
            "visibility": null,
            "width": null
          }
        },
        "4be746ba2a1b44ac8e8cb3b069bc5dcb": {
          "model_module": "@jupyter-widgets/controls",
          "model_name": "DescriptionStyleModel",
          "model_module_version": "1.5.0",
          "state": {
            "_model_module": "@jupyter-widgets/controls",
            "_model_module_version": "1.5.0",
            "_model_name": "DescriptionStyleModel",
            "_view_count": null,
            "_view_module": "@jupyter-widgets/base",
            "_view_module_version": "1.2.0",
            "_view_name": "StyleView",
            "description_width": ""
          }
        },
        "f95ac4f5051b440f9b426c7358832394": {
          "model_module": "@jupyter-widgets/base",
          "model_name": "LayoutModel",
          "model_module_version": "1.2.0",
          "state": {
            "_model_module": "@jupyter-widgets/base",
            "_model_module_version": "1.2.0",
            "_model_name": "LayoutModel",
            "_view_count": null,
            "_view_module": "@jupyter-widgets/base",
            "_view_module_version": "1.2.0",
            "_view_name": "LayoutView",
            "align_content": null,
            "align_items": null,
            "align_self": null,
            "border": null,
            "bottom": null,
            "display": null,
            "flex": null,
            "flex_flow": null,
            "grid_area": null,
            "grid_auto_columns": null,
            "grid_auto_flow": null,
            "grid_auto_rows": null,
            "grid_column": null,
            "grid_gap": null,
            "grid_row": null,
            "grid_template_areas": null,
            "grid_template_columns": null,
            "grid_template_rows": null,
            "height": null,
            "justify_content": null,
            "justify_items": null,
            "left": null,
            "margin": null,
            "max_height": null,
            "max_width": null,
            "min_height": null,
            "min_width": null,
            "object_fit": null,
            "object_position": null,
            "order": null,
            "overflow": null,
            "overflow_x": null,
            "overflow_y": null,
            "padding": null,
            "right": null,
            "top": null,
            "visibility": null,
            "width": null
          }
        },
        "8ac49bcb19d24f40ba6c83a3972c18ea": {
          "model_module": "@jupyter-widgets/controls",
          "model_name": "ProgressStyleModel",
          "model_module_version": "1.5.0",
          "state": {
            "_model_module": "@jupyter-widgets/controls",
            "_model_module_version": "1.5.0",
            "_model_name": "ProgressStyleModel",
            "_view_count": null,
            "_view_module": "@jupyter-widgets/base",
            "_view_module_version": "1.2.0",
            "_view_name": "StyleView",
            "bar_color": null,
            "description_width": ""
          }
        },
        "d3f9ed4b8fa74329b98f7a4795935462": {
          "model_module": "@jupyter-widgets/base",
          "model_name": "LayoutModel",
          "model_module_version": "1.2.0",
          "state": {
            "_model_module": "@jupyter-widgets/base",
            "_model_module_version": "1.2.0",
            "_model_name": "LayoutModel",
            "_view_count": null,
            "_view_module": "@jupyter-widgets/base",
            "_view_module_version": "1.2.0",
            "_view_name": "LayoutView",
            "align_content": null,
            "align_items": null,
            "align_self": null,
            "border": null,
            "bottom": null,
            "display": null,
            "flex": null,
            "flex_flow": null,
            "grid_area": null,
            "grid_auto_columns": null,
            "grid_auto_flow": null,
            "grid_auto_rows": null,
            "grid_column": null,
            "grid_gap": null,
            "grid_row": null,
            "grid_template_areas": null,
            "grid_template_columns": null,
            "grid_template_rows": null,
            "height": null,
            "justify_content": null,
            "justify_items": null,
            "left": null,
            "margin": null,
            "max_height": null,
            "max_width": null,
            "min_height": null,
            "min_width": null,
            "object_fit": null,
            "object_position": null,
            "order": null,
            "overflow": null,
            "overflow_x": null,
            "overflow_y": null,
            "padding": null,
            "right": null,
            "top": null,
            "visibility": null,
            "width": null
          }
        },
        "27440fd10085463ca5d36ab3ee110a38": {
          "model_module": "@jupyter-widgets/controls",
          "model_name": "DescriptionStyleModel",
          "model_module_version": "1.5.0",
          "state": {
            "_model_module": "@jupyter-widgets/controls",
            "_model_module_version": "1.5.0",
            "_model_name": "DescriptionStyleModel",
            "_view_count": null,
            "_view_module": "@jupyter-widgets/base",
            "_view_module_version": "1.2.0",
            "_view_name": "StyleView",
            "description_width": ""
          }
        },
        "9cf2435145ef40b5872c399f288a7580": {
          "model_module": "@jupyter-widgets/controls",
          "model_name": "HBoxModel",
          "model_module_version": "1.5.0",
          "state": {
            "_dom_classes": [],
            "_model_module": "@jupyter-widgets/controls",
            "_model_module_version": "1.5.0",
            "_model_name": "HBoxModel",
            "_view_count": null,
            "_view_module": "@jupyter-widgets/controls",
            "_view_module_version": "1.5.0",
            "_view_name": "HBoxView",
            "box_style": "",
            "children": [
              "IPY_MODEL_6cf262a184d244f3bf8cfd91f830ab82",
              "IPY_MODEL_96c683a9e0e74dd09c109178656f9439",
              "IPY_MODEL_6cec46eaaf404b44b5a07b5037b7c1b8"
            ],
            "layout": "IPY_MODEL_81e4ca7007d14197bb335fc41e67f096"
          }
        },
        "6cf262a184d244f3bf8cfd91f830ab82": {
          "model_module": "@jupyter-widgets/controls",
          "model_name": "HTMLModel",
          "model_module_version": "1.5.0",
          "state": {
            "_dom_classes": [],
            "_model_module": "@jupyter-widgets/controls",
            "_model_module_version": "1.5.0",
            "_model_name": "HTMLModel",
            "_view_count": null,
            "_view_module": "@jupyter-widgets/controls",
            "_view_module_version": "1.5.0",
            "_view_name": "HTMLView",
            "description": "",
            "description_tooltip": null,
            "layout": "IPY_MODEL_fdb37b3491684a299d5f6c5fac5292dc",
            "placeholder": "​",
            "style": "IPY_MODEL_8193da3fda674adfb26a84033fbefb16",
            "value": "tokenizer.json: 100%"
          }
        },
        "96c683a9e0e74dd09c109178656f9439": {
          "model_module": "@jupyter-widgets/controls",
          "model_name": "FloatProgressModel",
          "model_module_version": "1.5.0",
          "state": {
            "_dom_classes": [],
            "_model_module": "@jupyter-widgets/controls",
            "_model_module_version": "1.5.0",
            "_model_name": "FloatProgressModel",
            "_view_count": null,
            "_view_module": "@jupyter-widgets/controls",
            "_view_module_version": "1.5.0",
            "_view_name": "ProgressView",
            "bar_style": "success",
            "description": "",
            "description_tooltip": null,
            "layout": "IPY_MODEL_028ffea89586447c90130218b368392a",
            "max": 1355256,
            "min": 0,
            "orientation": "horizontal",
            "style": "IPY_MODEL_50d3c30a03f649ef984f9bc4d292a259",
            "value": 1355256
          }
        },
        "6cec46eaaf404b44b5a07b5037b7c1b8": {
          "model_module": "@jupyter-widgets/controls",
          "model_name": "HTMLModel",
          "model_module_version": "1.5.0",
          "state": {
            "_dom_classes": [],
            "_model_module": "@jupyter-widgets/controls",
            "_model_module_version": "1.5.0",
            "_model_name": "HTMLModel",
            "_view_count": null,
            "_view_module": "@jupyter-widgets/controls",
            "_view_module_version": "1.5.0",
            "_view_name": "HTMLView",
            "description": "",
            "description_tooltip": null,
            "layout": "IPY_MODEL_6c91a3311e7e4f49ba62a84c864a932b",
            "placeholder": "​",
            "style": "IPY_MODEL_effccfb1f3ab49c4a3c2f8cafda2b7cc",
            "value": " 1.36M/1.36M [00:00&lt;00:00, 38.7MB/s]"
          }
        },
        "81e4ca7007d14197bb335fc41e67f096": {
          "model_module": "@jupyter-widgets/base",
          "model_name": "LayoutModel",
          "model_module_version": "1.2.0",
          "state": {
            "_model_module": "@jupyter-widgets/base",
            "_model_module_version": "1.2.0",
            "_model_name": "LayoutModel",
            "_view_count": null,
            "_view_module": "@jupyter-widgets/base",
            "_view_module_version": "1.2.0",
            "_view_name": "LayoutView",
            "align_content": null,
            "align_items": null,
            "align_self": null,
            "border": null,
            "bottom": null,
            "display": null,
            "flex": null,
            "flex_flow": null,
            "grid_area": null,
            "grid_auto_columns": null,
            "grid_auto_flow": null,
            "grid_auto_rows": null,
            "grid_column": null,
            "grid_gap": null,
            "grid_row": null,
            "grid_template_areas": null,
            "grid_template_columns": null,
            "grid_template_rows": null,
            "height": null,
            "justify_content": null,
            "justify_items": null,
            "left": null,
            "margin": null,
            "max_height": null,
            "max_width": null,
            "min_height": null,
            "min_width": null,
            "object_fit": null,
            "object_position": null,
            "order": null,
            "overflow": null,
            "overflow_x": null,
            "overflow_y": null,
            "padding": null,
            "right": null,
            "top": null,
            "visibility": null,
            "width": null
          }
        },
        "fdb37b3491684a299d5f6c5fac5292dc": {
          "model_module": "@jupyter-widgets/base",
          "model_name": "LayoutModel",
          "model_module_version": "1.2.0",
          "state": {
            "_model_module": "@jupyter-widgets/base",
            "_model_module_version": "1.2.0",
            "_model_name": "LayoutModel",
            "_view_count": null,
            "_view_module": "@jupyter-widgets/base",
            "_view_module_version": "1.2.0",
            "_view_name": "LayoutView",
            "align_content": null,
            "align_items": null,
            "align_self": null,
            "border": null,
            "bottom": null,
            "display": null,
            "flex": null,
            "flex_flow": null,
            "grid_area": null,
            "grid_auto_columns": null,
            "grid_auto_flow": null,
            "grid_auto_rows": null,
            "grid_column": null,
            "grid_gap": null,
            "grid_row": null,
            "grid_template_areas": null,
            "grid_template_columns": null,
            "grid_template_rows": null,
            "height": null,
            "justify_content": null,
            "justify_items": null,
            "left": null,
            "margin": null,
            "max_height": null,
            "max_width": null,
            "min_height": null,
            "min_width": null,
            "object_fit": null,
            "object_position": null,
            "order": null,
            "overflow": null,
            "overflow_x": null,
            "overflow_y": null,
            "padding": null,
            "right": null,
            "top": null,
            "visibility": null,
            "width": null
          }
        },
        "8193da3fda674adfb26a84033fbefb16": {
          "model_module": "@jupyter-widgets/controls",
          "model_name": "DescriptionStyleModel",
          "model_module_version": "1.5.0",
          "state": {
            "_model_module": "@jupyter-widgets/controls",
            "_model_module_version": "1.5.0",
            "_model_name": "DescriptionStyleModel",
            "_view_count": null,
            "_view_module": "@jupyter-widgets/base",
            "_view_module_version": "1.2.0",
            "_view_name": "StyleView",
            "description_width": ""
          }
        },
        "028ffea89586447c90130218b368392a": {
          "model_module": "@jupyter-widgets/base",
          "model_name": "LayoutModel",
          "model_module_version": "1.2.0",
          "state": {
            "_model_module": "@jupyter-widgets/base",
            "_model_module_version": "1.2.0",
            "_model_name": "LayoutModel",
            "_view_count": null,
            "_view_module": "@jupyter-widgets/base",
            "_view_module_version": "1.2.0",
            "_view_name": "LayoutView",
            "align_content": null,
            "align_items": null,
            "align_self": null,
            "border": null,
            "bottom": null,
            "display": null,
            "flex": null,
            "flex_flow": null,
            "grid_area": null,
            "grid_auto_columns": null,
            "grid_auto_flow": null,
            "grid_auto_rows": null,
            "grid_column": null,
            "grid_gap": null,
            "grid_row": null,
            "grid_template_areas": null,
            "grid_template_columns": null,
            "grid_template_rows": null,
            "height": null,
            "justify_content": null,
            "justify_items": null,
            "left": null,
            "margin": null,
            "max_height": null,
            "max_width": null,
            "min_height": null,
            "min_width": null,
            "object_fit": null,
            "object_position": null,
            "order": null,
            "overflow": null,
            "overflow_x": null,
            "overflow_y": null,
            "padding": null,
            "right": null,
            "top": null,
            "visibility": null,
            "width": null
          }
        },
        "50d3c30a03f649ef984f9bc4d292a259": {
          "model_module": "@jupyter-widgets/controls",
          "model_name": "ProgressStyleModel",
          "model_module_version": "1.5.0",
          "state": {
            "_model_module": "@jupyter-widgets/controls",
            "_model_module_version": "1.5.0",
            "_model_name": "ProgressStyleModel",
            "_view_count": null,
            "_view_module": "@jupyter-widgets/base",
            "_view_module_version": "1.2.0",
            "_view_name": "StyleView",
            "bar_color": null,
            "description_width": ""
          }
        },
        "6c91a3311e7e4f49ba62a84c864a932b": {
          "model_module": "@jupyter-widgets/base",
          "model_name": "LayoutModel",
          "model_module_version": "1.2.0",
          "state": {
            "_model_module": "@jupyter-widgets/base",
            "_model_module_version": "1.2.0",
            "_model_name": "LayoutModel",
            "_view_count": null,
            "_view_module": "@jupyter-widgets/base",
            "_view_module_version": "1.2.0",
            "_view_name": "LayoutView",
            "align_content": null,
            "align_items": null,
            "align_self": null,
            "border": null,
            "bottom": null,
            "display": null,
            "flex": null,
            "flex_flow": null,
            "grid_area": null,
            "grid_auto_columns": null,
            "grid_auto_flow": null,
            "grid_auto_rows": null,
            "grid_column": null,
            "grid_gap": null,
            "grid_row": null,
            "grid_template_areas": null,
            "grid_template_columns": null,
            "grid_template_rows": null,
            "height": null,
            "justify_content": null,
            "justify_items": null,
            "left": null,
            "margin": null,
            "max_height": null,
            "max_width": null,
            "min_height": null,
            "min_width": null,
            "object_fit": null,
            "object_position": null,
            "order": null,
            "overflow": null,
            "overflow_x": null,
            "overflow_y": null,
            "padding": null,
            "right": null,
            "top": null,
            "visibility": null,
            "width": null
          }
        },
        "effccfb1f3ab49c4a3c2f8cafda2b7cc": {
          "model_module": "@jupyter-widgets/controls",
          "model_name": "DescriptionStyleModel",
          "model_module_version": "1.5.0",
          "state": {
            "_model_module": "@jupyter-widgets/controls",
            "_model_module_version": "1.5.0",
            "_model_name": "DescriptionStyleModel",
            "_view_count": null,
            "_view_module": "@jupyter-widgets/base",
            "_view_module_version": "1.2.0",
            "_view_name": "StyleView",
            "description_width": ""
          }
        },
        "a13ce2e6d29f43669cf559e462a8174e": {
          "model_module": "@jupyter-widgets/controls",
          "model_name": "HBoxModel",
          "model_module_version": "1.5.0",
          "state": {
            "_dom_classes": [],
            "_model_module": "@jupyter-widgets/controls",
            "_model_module_version": "1.5.0",
            "_model_name": "HBoxModel",
            "_view_count": null,
            "_view_module": "@jupyter-widgets/controls",
            "_view_module_version": "1.5.0",
            "_view_name": "HBoxView",
            "box_style": "",
            "children": [
              "IPY_MODEL_a2c4109ebe6845fb95d58dcd4325d346",
              "IPY_MODEL_38ee3e0896f44260afbc1e3645d4c2d3",
              "IPY_MODEL_06d78b98ee54474fb2159a0131c2f643"
            ],
            "layout": "IPY_MODEL_74f45dcdfb7243719fca69a26d0bae3b"
          }
        },
        "a2c4109ebe6845fb95d58dcd4325d346": {
          "model_module": "@jupyter-widgets/controls",
          "model_name": "HTMLModel",
          "model_module_version": "1.5.0",
          "state": {
            "_dom_classes": [],
            "_model_module": "@jupyter-widgets/controls",
            "_model_module_version": "1.5.0",
            "_model_name": "HTMLModel",
            "_view_count": null,
            "_view_module": "@jupyter-widgets/controls",
            "_view_module_version": "1.5.0",
            "_view_name": "HTMLView",
            "description": "",
            "description_tooltip": null,
            "layout": "IPY_MODEL_1fd23b2ced6941048f698a995bd10c84",
            "placeholder": "​",
            "style": "IPY_MODEL_ad9dfd86e57647fa85ec223160a39dd7",
            "value": "config.json: 100%"
          }
        },
        "38ee3e0896f44260afbc1e3645d4c2d3": {
          "model_module": "@jupyter-widgets/controls",
          "model_name": "FloatProgressModel",
          "model_module_version": "1.5.0",
          "state": {
            "_dom_classes": [],
            "_model_module": "@jupyter-widgets/controls",
            "_model_module_version": "1.5.0",
            "_model_name": "FloatProgressModel",
            "_view_count": null,
            "_view_module": "@jupyter-widgets/controls",
            "_view_module_version": "1.5.0",
            "_view_name": "ProgressView",
            "bar_style": "success",
            "description": "",
            "description_tooltip": null,
            "layout": "IPY_MODEL_5f603b7918ee45cd9db93712b2ebcdf1",
            "max": 665,
            "min": 0,
            "orientation": "horizontal",
            "style": "IPY_MODEL_44d3ae430a5340c485b7e02395005d4a",
            "value": 665
          }
        },
        "06d78b98ee54474fb2159a0131c2f643": {
          "model_module": "@jupyter-widgets/controls",
          "model_name": "HTMLModel",
          "model_module_version": "1.5.0",
          "state": {
            "_dom_classes": [],
            "_model_module": "@jupyter-widgets/controls",
            "_model_module_version": "1.5.0",
            "_model_name": "HTMLModel",
            "_view_count": null,
            "_view_module": "@jupyter-widgets/controls",
            "_view_module_version": "1.5.0",
            "_view_name": "HTMLView",
            "description": "",
            "description_tooltip": null,
            "layout": "IPY_MODEL_3b82ead333a44603ae483aeb7d9b9c4a",
            "placeholder": "​",
            "style": "IPY_MODEL_7c9651e44ff746408e3476d29cfec0c0",
            "value": " 665/665 [00:00&lt;00:00, 48.0kB/s]"
          }
        },
        "74f45dcdfb7243719fca69a26d0bae3b": {
          "model_module": "@jupyter-widgets/base",
          "model_name": "LayoutModel",
          "model_module_version": "1.2.0",
          "state": {
            "_model_module": "@jupyter-widgets/base",
            "_model_module_version": "1.2.0",
            "_model_name": "LayoutModel",
            "_view_count": null,
            "_view_module": "@jupyter-widgets/base",
            "_view_module_version": "1.2.0",
            "_view_name": "LayoutView",
            "align_content": null,
            "align_items": null,
            "align_self": null,
            "border": null,
            "bottom": null,
            "display": null,
            "flex": null,
            "flex_flow": null,
            "grid_area": null,
            "grid_auto_columns": null,
            "grid_auto_flow": null,
            "grid_auto_rows": null,
            "grid_column": null,
            "grid_gap": null,
            "grid_row": null,
            "grid_template_areas": null,
            "grid_template_columns": null,
            "grid_template_rows": null,
            "height": null,
            "justify_content": null,
            "justify_items": null,
            "left": null,
            "margin": null,
            "max_height": null,
            "max_width": null,
            "min_height": null,
            "min_width": null,
            "object_fit": null,
            "object_position": null,
            "order": null,
            "overflow": null,
            "overflow_x": null,
            "overflow_y": null,
            "padding": null,
            "right": null,
            "top": null,
            "visibility": null,
            "width": null
          }
        },
        "1fd23b2ced6941048f698a995bd10c84": {
          "model_module": "@jupyter-widgets/base",
          "model_name": "LayoutModel",
          "model_module_version": "1.2.0",
          "state": {
            "_model_module": "@jupyter-widgets/base",
            "_model_module_version": "1.2.0",
            "_model_name": "LayoutModel",
            "_view_count": null,
            "_view_module": "@jupyter-widgets/base",
            "_view_module_version": "1.2.0",
            "_view_name": "LayoutView",
            "align_content": null,
            "align_items": null,
            "align_self": null,
            "border": null,
            "bottom": null,
            "display": null,
            "flex": null,
            "flex_flow": null,
            "grid_area": null,
            "grid_auto_columns": null,
            "grid_auto_flow": null,
            "grid_auto_rows": null,
            "grid_column": null,
            "grid_gap": null,
            "grid_row": null,
            "grid_template_areas": null,
            "grid_template_columns": null,
            "grid_template_rows": null,
            "height": null,
            "justify_content": null,
            "justify_items": null,
            "left": null,
            "margin": null,
            "max_height": null,
            "max_width": null,
            "min_height": null,
            "min_width": null,
            "object_fit": null,
            "object_position": null,
            "order": null,
            "overflow": null,
            "overflow_x": null,
            "overflow_y": null,
            "padding": null,
            "right": null,
            "top": null,
            "visibility": null,
            "width": null
          }
        },
        "ad9dfd86e57647fa85ec223160a39dd7": {
          "model_module": "@jupyter-widgets/controls",
          "model_name": "DescriptionStyleModel",
          "model_module_version": "1.5.0",
          "state": {
            "_model_module": "@jupyter-widgets/controls",
            "_model_module_version": "1.5.0",
            "_model_name": "DescriptionStyleModel",
            "_view_count": null,
            "_view_module": "@jupyter-widgets/base",
            "_view_module_version": "1.2.0",
            "_view_name": "StyleView",
            "description_width": ""
          }
        },
        "5f603b7918ee45cd9db93712b2ebcdf1": {
          "model_module": "@jupyter-widgets/base",
          "model_name": "LayoutModel",
          "model_module_version": "1.2.0",
          "state": {
            "_model_module": "@jupyter-widgets/base",
            "_model_module_version": "1.2.0",
            "_model_name": "LayoutModel",
            "_view_count": null,
            "_view_module": "@jupyter-widgets/base",
            "_view_module_version": "1.2.0",
            "_view_name": "LayoutView",
            "align_content": null,
            "align_items": null,
            "align_self": null,
            "border": null,
            "bottom": null,
            "display": null,
            "flex": null,
            "flex_flow": null,
            "grid_area": null,
            "grid_auto_columns": null,
            "grid_auto_flow": null,
            "grid_auto_rows": null,
            "grid_column": null,
            "grid_gap": null,
            "grid_row": null,
            "grid_template_areas": null,
            "grid_template_columns": null,
            "grid_template_rows": null,
            "height": null,
            "justify_content": null,
            "justify_items": null,
            "left": null,
            "margin": null,
            "max_height": null,
            "max_width": null,
            "min_height": null,
            "min_width": null,
            "object_fit": null,
            "object_position": null,
            "order": null,
            "overflow": null,
            "overflow_x": null,
            "overflow_y": null,
            "padding": null,
            "right": null,
            "top": null,
            "visibility": null,
            "width": null
          }
        },
        "44d3ae430a5340c485b7e02395005d4a": {
          "model_module": "@jupyter-widgets/controls",
          "model_name": "ProgressStyleModel",
          "model_module_version": "1.5.0",
          "state": {
            "_model_module": "@jupyter-widgets/controls",
            "_model_module_version": "1.5.0",
            "_model_name": "ProgressStyleModel",
            "_view_count": null,
            "_view_module": "@jupyter-widgets/base",
            "_view_module_version": "1.2.0",
            "_view_name": "StyleView",
            "bar_color": null,
            "description_width": ""
          }
        },
        "3b82ead333a44603ae483aeb7d9b9c4a": {
          "model_module": "@jupyter-widgets/base",
          "model_name": "LayoutModel",
          "model_module_version": "1.2.0",
          "state": {
            "_model_module": "@jupyter-widgets/base",
            "_model_module_version": "1.2.0",
            "_model_name": "LayoutModel",
            "_view_count": null,
            "_view_module": "@jupyter-widgets/base",
            "_view_module_version": "1.2.0",
            "_view_name": "LayoutView",
            "align_content": null,
            "align_items": null,
            "align_self": null,
            "border": null,
            "bottom": null,
            "display": null,
            "flex": null,
            "flex_flow": null,
            "grid_area": null,
            "grid_auto_columns": null,
            "grid_auto_flow": null,
            "grid_auto_rows": null,
            "grid_column": null,
            "grid_gap": null,
            "grid_row": null,
            "grid_template_areas": null,
            "grid_template_columns": null,
            "grid_template_rows": null,
            "height": null,
            "justify_content": null,
            "justify_items": null,
            "left": null,
            "margin": null,
            "max_height": null,
            "max_width": null,
            "min_height": null,
            "min_width": null,
            "object_fit": null,
            "object_position": null,
            "order": null,
            "overflow": null,
            "overflow_x": null,
            "overflow_y": null,
            "padding": null,
            "right": null,
            "top": null,
            "visibility": null,
            "width": null
          }
        },
        "7c9651e44ff746408e3476d29cfec0c0": {
          "model_module": "@jupyter-widgets/controls",
          "model_name": "DescriptionStyleModel",
          "model_module_version": "1.5.0",
          "state": {
            "_model_module": "@jupyter-widgets/controls",
            "_model_module_version": "1.5.0",
            "_model_name": "DescriptionStyleModel",
            "_view_count": null,
            "_view_module": "@jupyter-widgets/base",
            "_view_module_version": "1.2.0",
            "_view_name": "StyleView",
            "description_width": ""
          }
        },
        "b34c2c94487745bf969aa1f9f4150d81": {
          "model_module": "@jupyter-widgets/controls",
          "model_name": "HBoxModel",
          "model_module_version": "1.5.0",
          "state": {
            "_dom_classes": [],
            "_model_module": "@jupyter-widgets/controls",
            "_model_module_version": "1.5.0",
            "_model_name": "HBoxModel",
            "_view_count": null,
            "_view_module": "@jupyter-widgets/controls",
            "_view_module_version": "1.5.0",
            "_view_name": "HBoxView",
            "box_style": "",
            "children": [
              "IPY_MODEL_47810a2cce5540ef86da0c5fadadbfcc",
              "IPY_MODEL_c606fa471091496faf090fb1b18b1dc8",
              "IPY_MODEL_d6c36eb0fc9847a29bf1b13d8cdbfcfd"
            ],
            "layout": "IPY_MODEL_33e5571b525e45c59e5bc31297ccd063"
          }
        },
        "47810a2cce5540ef86da0c5fadadbfcc": {
          "model_module": "@jupyter-widgets/controls",
          "model_name": "HTMLModel",
          "model_module_version": "1.5.0",
          "state": {
            "_dom_classes": [],
            "_model_module": "@jupyter-widgets/controls",
            "_model_module_version": "1.5.0",
            "_model_name": "HTMLModel",
            "_view_count": null,
            "_view_module": "@jupyter-widgets/controls",
            "_view_module_version": "1.5.0",
            "_view_name": "HTMLView",
            "description": "",
            "description_tooltip": null,
            "layout": "IPY_MODEL_3e2efa5b9ab6449d9f314a1d24fc7514",
            "placeholder": "​",
            "style": "IPY_MODEL_15710387d67049e0825a9c3c3552cb34",
            "value": "Downloading builder script: 100%"
          }
        },
        "c606fa471091496faf090fb1b18b1dc8": {
          "model_module": "@jupyter-widgets/controls",
          "model_name": "FloatProgressModel",
          "model_module_version": "1.5.0",
          "state": {
            "_dom_classes": [],
            "_model_module": "@jupyter-widgets/controls",
            "_model_module_version": "1.5.0",
            "_model_name": "FloatProgressModel",
            "_view_count": null,
            "_view_module": "@jupyter-widgets/controls",
            "_view_module_version": "1.5.0",
            "_view_name": "ProgressView",
            "bar_style": "success",
            "description": "",
            "description_tooltip": null,
            "layout": "IPY_MODEL_d6ac1f9d02864bbdbc2431ea7c75cafa",
            "max": 4063,
            "min": 0,
            "orientation": "horizontal",
            "style": "IPY_MODEL_30d505abe6e341ec8bc4b48df1b36266",
            "value": 4063
          }
        },
        "d6c36eb0fc9847a29bf1b13d8cdbfcfd": {
          "model_module": "@jupyter-widgets/controls",
          "model_name": "HTMLModel",
          "model_module_version": "1.5.0",
          "state": {
            "_dom_classes": [],
            "_model_module": "@jupyter-widgets/controls",
            "_model_module_version": "1.5.0",
            "_model_name": "HTMLModel",
            "_view_count": null,
            "_view_module": "@jupyter-widgets/controls",
            "_view_module_version": "1.5.0",
            "_view_name": "HTMLView",
            "description": "",
            "description_tooltip": null,
            "layout": "IPY_MODEL_91882506706f4560ad986798612bafd1",
            "placeholder": "​",
            "style": "IPY_MODEL_a2a8700c30d7444f963bac98a389e402",
            "value": " 4.06k/4.06k [00:00&lt;00:00, 121kB/s]"
          }
        },
        "33e5571b525e45c59e5bc31297ccd063": {
          "model_module": "@jupyter-widgets/base",
          "model_name": "LayoutModel",
          "model_module_version": "1.2.0",
          "state": {
            "_model_module": "@jupyter-widgets/base",
            "_model_module_version": "1.2.0",
            "_model_name": "LayoutModel",
            "_view_count": null,
            "_view_module": "@jupyter-widgets/base",
            "_view_module_version": "1.2.0",
            "_view_name": "LayoutView",
            "align_content": null,
            "align_items": null,
            "align_self": null,
            "border": null,
            "bottom": null,
            "display": null,
            "flex": null,
            "flex_flow": null,
            "grid_area": null,
            "grid_auto_columns": null,
            "grid_auto_flow": null,
            "grid_auto_rows": null,
            "grid_column": null,
            "grid_gap": null,
            "grid_row": null,
            "grid_template_areas": null,
            "grid_template_columns": null,
            "grid_template_rows": null,
            "height": null,
            "justify_content": null,
            "justify_items": null,
            "left": null,
            "margin": null,
            "max_height": null,
            "max_width": null,
            "min_height": null,
            "min_width": null,
            "object_fit": null,
            "object_position": null,
            "order": null,
            "overflow": null,
            "overflow_x": null,
            "overflow_y": null,
            "padding": null,
            "right": null,
            "top": null,
            "visibility": null,
            "width": null
          }
        },
        "3e2efa5b9ab6449d9f314a1d24fc7514": {
          "model_module": "@jupyter-widgets/base",
          "model_name": "LayoutModel",
          "model_module_version": "1.2.0",
          "state": {
            "_model_module": "@jupyter-widgets/base",
            "_model_module_version": "1.2.0",
            "_model_name": "LayoutModel",
            "_view_count": null,
            "_view_module": "@jupyter-widgets/base",
            "_view_module_version": "1.2.0",
            "_view_name": "LayoutView",
            "align_content": null,
            "align_items": null,
            "align_self": null,
            "border": null,
            "bottom": null,
            "display": null,
            "flex": null,
            "flex_flow": null,
            "grid_area": null,
            "grid_auto_columns": null,
            "grid_auto_flow": null,
            "grid_auto_rows": null,
            "grid_column": null,
            "grid_gap": null,
            "grid_row": null,
            "grid_template_areas": null,
            "grid_template_columns": null,
            "grid_template_rows": null,
            "height": null,
            "justify_content": null,
            "justify_items": null,
            "left": null,
            "margin": null,
            "max_height": null,
            "max_width": null,
            "min_height": null,
            "min_width": null,
            "object_fit": null,
            "object_position": null,
            "order": null,
            "overflow": null,
            "overflow_x": null,
            "overflow_y": null,
            "padding": null,
            "right": null,
            "top": null,
            "visibility": null,
            "width": null
          }
        },
        "15710387d67049e0825a9c3c3552cb34": {
          "model_module": "@jupyter-widgets/controls",
          "model_name": "DescriptionStyleModel",
          "model_module_version": "1.5.0",
          "state": {
            "_model_module": "@jupyter-widgets/controls",
            "_model_module_version": "1.5.0",
            "_model_name": "DescriptionStyleModel",
            "_view_count": null,
            "_view_module": "@jupyter-widgets/base",
            "_view_module_version": "1.2.0",
            "_view_name": "StyleView",
            "description_width": ""
          }
        },
        "d6ac1f9d02864bbdbc2431ea7c75cafa": {
          "model_module": "@jupyter-widgets/base",
          "model_name": "LayoutModel",
          "model_module_version": "1.2.0",
          "state": {
            "_model_module": "@jupyter-widgets/base",
            "_model_module_version": "1.2.0",
            "_model_name": "LayoutModel",
            "_view_count": null,
            "_view_module": "@jupyter-widgets/base",
            "_view_module_version": "1.2.0",
            "_view_name": "LayoutView",
            "align_content": null,
            "align_items": null,
            "align_self": null,
            "border": null,
            "bottom": null,
            "display": null,
            "flex": null,
            "flex_flow": null,
            "grid_area": null,
            "grid_auto_columns": null,
            "grid_auto_flow": null,
            "grid_auto_rows": null,
            "grid_column": null,
            "grid_gap": null,
            "grid_row": null,
            "grid_template_areas": null,
            "grid_template_columns": null,
            "grid_template_rows": null,
            "height": null,
            "justify_content": null,
            "justify_items": null,
            "left": null,
            "margin": null,
            "max_height": null,
            "max_width": null,
            "min_height": null,
            "min_width": null,
            "object_fit": null,
            "object_position": null,
            "order": null,
            "overflow": null,
            "overflow_x": null,
            "overflow_y": null,
            "padding": null,
            "right": null,
            "top": null,
            "visibility": null,
            "width": null
          }
        },
        "30d505abe6e341ec8bc4b48df1b36266": {
          "model_module": "@jupyter-widgets/controls",
          "model_name": "ProgressStyleModel",
          "model_module_version": "1.5.0",
          "state": {
            "_model_module": "@jupyter-widgets/controls",
            "_model_module_version": "1.5.0",
            "_model_name": "ProgressStyleModel",
            "_view_count": null,
            "_view_module": "@jupyter-widgets/base",
            "_view_module_version": "1.2.0",
            "_view_name": "StyleView",
            "bar_color": null,
            "description_width": ""
          }
        },
        "91882506706f4560ad986798612bafd1": {
          "model_module": "@jupyter-widgets/base",
          "model_name": "LayoutModel",
          "model_module_version": "1.2.0",
          "state": {
            "_model_module": "@jupyter-widgets/base",
            "_model_module_version": "1.2.0",
            "_model_name": "LayoutModel",
            "_view_count": null,
            "_view_module": "@jupyter-widgets/base",
            "_view_module_version": "1.2.0",
            "_view_name": "LayoutView",
            "align_content": null,
            "align_items": null,
            "align_self": null,
            "border": null,
            "bottom": null,
            "display": null,
            "flex": null,
            "flex_flow": null,
            "grid_area": null,
            "grid_auto_columns": null,
            "grid_auto_flow": null,
            "grid_auto_rows": null,
            "grid_column": null,
            "grid_gap": null,
            "grid_row": null,
            "grid_template_areas": null,
            "grid_template_columns": null,
            "grid_template_rows": null,
            "height": null,
            "justify_content": null,
            "justify_items": null,
            "left": null,
            "margin": null,
            "max_height": null,
            "max_width": null,
            "min_height": null,
            "min_width": null,
            "object_fit": null,
            "object_position": null,
            "order": null,
            "overflow": null,
            "overflow_x": null,
            "overflow_y": null,
            "padding": null,
            "right": null,
            "top": null,
            "visibility": null,
            "width": null
          }
        },
        "a2a8700c30d7444f963bac98a389e402": {
          "model_module": "@jupyter-widgets/controls",
          "model_name": "DescriptionStyleModel",
          "model_module_version": "1.5.0",
          "state": {
            "_model_module": "@jupyter-widgets/controls",
            "_model_module_version": "1.5.0",
            "_model_name": "DescriptionStyleModel",
            "_view_count": null,
            "_view_module": "@jupyter-widgets/base",
            "_view_module_version": "1.2.0",
            "_view_name": "StyleView",
            "description_width": ""
          }
        },
        "7929941a3d664ebe95d8fd6f3f74fa37": {
          "model_module": "@jupyter-widgets/controls",
          "model_name": "HBoxModel",
          "model_module_version": "1.5.0",
          "state": {
            "_dom_classes": [],
            "_model_module": "@jupyter-widgets/controls",
            "_model_module_version": "1.5.0",
            "_model_name": "HBoxModel",
            "_view_count": null,
            "_view_module": "@jupyter-widgets/controls",
            "_view_module_version": "1.5.0",
            "_view_name": "HBoxView",
            "box_style": "",
            "children": [
              "IPY_MODEL_1966e3e3c5674d33aa8c1821fb582cd2",
              "IPY_MODEL_fe508037d3b742bd9191c2d8e7199525",
              "IPY_MODEL_6e197ca6353a477497efc661cea483d9"
            ],
            "layout": "IPY_MODEL_4f721f8dd57145a0af4fc03d305c7a28"
          }
        },
        "1966e3e3c5674d33aa8c1821fb582cd2": {
          "model_module": "@jupyter-widgets/controls",
          "model_name": "HTMLModel",
          "model_module_version": "1.5.0",
          "state": {
            "_dom_classes": [],
            "_model_module": "@jupyter-widgets/controls",
            "_model_module_version": "1.5.0",
            "_model_name": "HTMLModel",
            "_view_count": null,
            "_view_module": "@jupyter-widgets/controls",
            "_view_module_version": "1.5.0",
            "_view_name": "HTMLView",
            "description": "",
            "description_tooltip": null,
            "layout": "IPY_MODEL_09ee61fa0f5c429bba51a3f7447f9994",
            "placeholder": "​",
            "style": "IPY_MODEL_64737679203143de81c9297ac02f0ccb",
            "value": "Downloading metadata: 100%"
          }
        },
        "fe508037d3b742bd9191c2d8e7199525": {
          "model_module": "@jupyter-widgets/controls",
          "model_name": "FloatProgressModel",
          "model_module_version": "1.5.0",
          "state": {
            "_dom_classes": [],
            "_model_module": "@jupyter-widgets/controls",
            "_model_module_version": "1.5.0",
            "_model_name": "FloatProgressModel",
            "_view_count": null,
            "_view_module": "@jupyter-widgets/controls",
            "_view_module_version": "1.5.0",
            "_view_name": "ProgressView",
            "bar_style": "success",
            "description": "",
            "description_tooltip": null,
            "layout": "IPY_MODEL_84d190d193044d499958682a7522c370",
            "max": 2653,
            "min": 0,
            "orientation": "horizontal",
            "style": "IPY_MODEL_194d461da9cf4bf1912f3a76571e852c",
            "value": 2653
          }
        },
        "6e197ca6353a477497efc661cea483d9": {
          "model_module": "@jupyter-widgets/controls",
          "model_name": "HTMLModel",
          "model_module_version": "1.5.0",
          "state": {
            "_dom_classes": [],
            "_model_module": "@jupyter-widgets/controls",
            "_model_module_version": "1.5.0",
            "_model_name": "HTMLModel",
            "_view_count": null,
            "_view_module": "@jupyter-widgets/controls",
            "_view_module_version": "1.5.0",
            "_view_name": "HTMLView",
            "description": "",
            "description_tooltip": null,
            "layout": "IPY_MODEL_9225c6d40b4a4cbe8293e875e867d072",
            "placeholder": "​",
            "style": "IPY_MODEL_dcf6c85f5336460e9217c7d8fabc3b71",
            "value": " 2.65k/2.65k [00:00&lt;00:00, 112kB/s]"
          }
        },
        "4f721f8dd57145a0af4fc03d305c7a28": {
          "model_module": "@jupyter-widgets/base",
          "model_name": "LayoutModel",
          "model_module_version": "1.2.0",
          "state": {
            "_model_module": "@jupyter-widgets/base",
            "_model_module_version": "1.2.0",
            "_model_name": "LayoutModel",
            "_view_count": null,
            "_view_module": "@jupyter-widgets/base",
            "_view_module_version": "1.2.0",
            "_view_name": "LayoutView",
            "align_content": null,
            "align_items": null,
            "align_self": null,
            "border": null,
            "bottom": null,
            "display": null,
            "flex": null,
            "flex_flow": null,
            "grid_area": null,
            "grid_auto_columns": null,
            "grid_auto_flow": null,
            "grid_auto_rows": null,
            "grid_column": null,
            "grid_gap": null,
            "grid_row": null,
            "grid_template_areas": null,
            "grid_template_columns": null,
            "grid_template_rows": null,
            "height": null,
            "justify_content": null,
            "justify_items": null,
            "left": null,
            "margin": null,
            "max_height": null,
            "max_width": null,
            "min_height": null,
            "min_width": null,
            "object_fit": null,
            "object_position": null,
            "order": null,
            "overflow": null,
            "overflow_x": null,
            "overflow_y": null,
            "padding": null,
            "right": null,
            "top": null,
            "visibility": null,
            "width": null
          }
        },
        "09ee61fa0f5c429bba51a3f7447f9994": {
          "model_module": "@jupyter-widgets/base",
          "model_name": "LayoutModel",
          "model_module_version": "1.2.0",
          "state": {
            "_model_module": "@jupyter-widgets/base",
            "_model_module_version": "1.2.0",
            "_model_name": "LayoutModel",
            "_view_count": null,
            "_view_module": "@jupyter-widgets/base",
            "_view_module_version": "1.2.0",
            "_view_name": "LayoutView",
            "align_content": null,
            "align_items": null,
            "align_self": null,
            "border": null,
            "bottom": null,
            "display": null,
            "flex": null,
            "flex_flow": null,
            "grid_area": null,
            "grid_auto_columns": null,
            "grid_auto_flow": null,
            "grid_auto_rows": null,
            "grid_column": null,
            "grid_gap": null,
            "grid_row": null,
            "grid_template_areas": null,
            "grid_template_columns": null,
            "grid_template_rows": null,
            "height": null,
            "justify_content": null,
            "justify_items": null,
            "left": null,
            "margin": null,
            "max_height": null,
            "max_width": null,
            "min_height": null,
            "min_width": null,
            "object_fit": null,
            "object_position": null,
            "order": null,
            "overflow": null,
            "overflow_x": null,
            "overflow_y": null,
            "padding": null,
            "right": null,
            "top": null,
            "visibility": null,
            "width": null
          }
        },
        "64737679203143de81c9297ac02f0ccb": {
          "model_module": "@jupyter-widgets/controls",
          "model_name": "DescriptionStyleModel",
          "model_module_version": "1.5.0",
          "state": {
            "_model_module": "@jupyter-widgets/controls",
            "_model_module_version": "1.5.0",
            "_model_name": "DescriptionStyleModel",
            "_view_count": null,
            "_view_module": "@jupyter-widgets/base",
            "_view_module_version": "1.2.0",
            "_view_name": "StyleView",
            "description_width": ""
          }
        },
        "84d190d193044d499958682a7522c370": {
          "model_module": "@jupyter-widgets/base",
          "model_name": "LayoutModel",
          "model_module_version": "1.2.0",
          "state": {
            "_model_module": "@jupyter-widgets/base",
            "_model_module_version": "1.2.0",
            "_model_name": "LayoutModel",
            "_view_count": null,
            "_view_module": "@jupyter-widgets/base",
            "_view_module_version": "1.2.0",
            "_view_name": "LayoutView",
            "align_content": null,
            "align_items": null,
            "align_self": null,
            "border": null,
            "bottom": null,
            "display": null,
            "flex": null,
            "flex_flow": null,
            "grid_area": null,
            "grid_auto_columns": null,
            "grid_auto_flow": null,
            "grid_auto_rows": null,
            "grid_column": null,
            "grid_gap": null,
            "grid_row": null,
            "grid_template_areas": null,
            "grid_template_columns": null,
            "grid_template_rows": null,
            "height": null,
            "justify_content": null,
            "justify_items": null,
            "left": null,
            "margin": null,
            "max_height": null,
            "max_width": null,
            "min_height": null,
            "min_width": null,
            "object_fit": null,
            "object_position": null,
            "order": null,
            "overflow": null,
            "overflow_x": null,
            "overflow_y": null,
            "padding": null,
            "right": null,
            "top": null,
            "visibility": null,
            "width": null
          }
        },
        "194d461da9cf4bf1912f3a76571e852c": {
          "model_module": "@jupyter-widgets/controls",
          "model_name": "ProgressStyleModel",
          "model_module_version": "1.5.0",
          "state": {
            "_model_module": "@jupyter-widgets/controls",
            "_model_module_version": "1.5.0",
            "_model_name": "ProgressStyleModel",
            "_view_count": null,
            "_view_module": "@jupyter-widgets/base",
            "_view_module_version": "1.2.0",
            "_view_name": "StyleView",
            "bar_color": null,
            "description_width": ""
          }
        },
        "9225c6d40b4a4cbe8293e875e867d072": {
          "model_module": "@jupyter-widgets/base",
          "model_name": "LayoutModel",
          "model_module_version": "1.2.0",
          "state": {
            "_model_module": "@jupyter-widgets/base",
            "_model_module_version": "1.2.0",
            "_model_name": "LayoutModel",
            "_view_count": null,
            "_view_module": "@jupyter-widgets/base",
            "_view_module_version": "1.2.0",
            "_view_name": "LayoutView",
            "align_content": null,
            "align_items": null,
            "align_self": null,
            "border": null,
            "bottom": null,
            "display": null,
            "flex": null,
            "flex_flow": null,
            "grid_area": null,
            "grid_auto_columns": null,
            "grid_auto_flow": null,
            "grid_auto_rows": null,
            "grid_column": null,
            "grid_gap": null,
            "grid_row": null,
            "grid_template_areas": null,
            "grid_template_columns": null,
            "grid_template_rows": null,
            "height": null,
            "justify_content": null,
            "justify_items": null,
            "left": null,
            "margin": null,
            "max_height": null,
            "max_width": null,
            "min_height": null,
            "min_width": null,
            "object_fit": null,
            "object_position": null,
            "order": null,
            "overflow": null,
            "overflow_x": null,
            "overflow_y": null,
            "padding": null,
            "right": null,
            "top": null,
            "visibility": null,
            "width": null
          }
        },
        "dcf6c85f5336460e9217c7d8fabc3b71": {
          "model_module": "@jupyter-widgets/controls",
          "model_name": "DescriptionStyleModel",
          "model_module_version": "1.5.0",
          "state": {
            "_model_module": "@jupyter-widgets/controls",
            "_model_module_version": "1.5.0",
            "_model_name": "DescriptionStyleModel",
            "_view_count": null,
            "_view_module": "@jupyter-widgets/base",
            "_view_module_version": "1.2.0",
            "_view_name": "StyleView",
            "description_width": ""
          }
        },
        "981d3119caa24d29b8bc5bce03205514": {
          "model_module": "@jupyter-widgets/controls",
          "model_name": "HBoxModel",
          "model_module_version": "1.5.0",
          "state": {
            "_dom_classes": [],
            "_model_module": "@jupyter-widgets/controls",
            "_model_module_version": "1.5.0",
            "_model_name": "HBoxModel",
            "_view_count": null,
            "_view_module": "@jupyter-widgets/controls",
            "_view_module_version": "1.5.0",
            "_view_name": "HBoxView",
            "box_style": "",
            "children": [
              "IPY_MODEL_29db303f030545ff9c5dd7f7348f5619",
              "IPY_MODEL_7aea0d1ffaa949808ea39f7c6a851a1e",
              "IPY_MODEL_bc697782aff449f981469e275126bb36"
            ],
            "layout": "IPY_MODEL_c263204a68554af3812d614770d15a22"
          }
        },
        "29db303f030545ff9c5dd7f7348f5619": {
          "model_module": "@jupyter-widgets/controls",
          "model_name": "HTMLModel",
          "model_module_version": "1.5.0",
          "state": {
            "_dom_classes": [],
            "_model_module": "@jupyter-widgets/controls",
            "_model_module_version": "1.5.0",
            "_model_name": "HTMLModel",
            "_view_count": null,
            "_view_module": "@jupyter-widgets/controls",
            "_view_module_version": "1.5.0",
            "_view_name": "HTMLView",
            "description": "",
            "description_tooltip": null,
            "layout": "IPY_MODEL_077ac53392064cdcb7a6e7598444aabe",
            "placeholder": "​",
            "style": "IPY_MODEL_f47fa52eafff42609ce09d6808b523f4",
            "value": "Downloading readme: 100%"
          }
        },
        "7aea0d1ffaa949808ea39f7c6a851a1e": {
          "model_module": "@jupyter-widgets/controls",
          "model_name": "FloatProgressModel",
          "model_module_version": "1.5.0",
          "state": {
            "_dom_classes": [],
            "_model_module": "@jupyter-widgets/controls",
            "_model_module_version": "1.5.0",
            "_model_name": "FloatProgressModel",
            "_view_count": null,
            "_view_module": "@jupyter-widgets/controls",
            "_view_module_version": "1.5.0",
            "_view_name": "ProgressView",
            "bar_style": "success",
            "description": "",
            "description_tooltip": null,
            "layout": "IPY_MODEL_237d6d62263d45cfbad19d190bffc598",
            "max": 7946,
            "min": 0,
            "orientation": "horizontal",
            "style": "IPY_MODEL_be7cbe79b076473fb5aedf5c0ce8efbd",
            "value": 7946
          }
        },
        "bc697782aff449f981469e275126bb36": {
          "model_module": "@jupyter-widgets/controls",
          "model_name": "HTMLModel",
          "model_module_version": "1.5.0",
          "state": {
            "_dom_classes": [],
            "_model_module": "@jupyter-widgets/controls",
            "_model_module_version": "1.5.0",
            "_model_name": "HTMLModel",
            "_view_count": null,
            "_view_module": "@jupyter-widgets/controls",
            "_view_module_version": "1.5.0",
            "_view_name": "HTMLView",
            "description": "",
            "description_tooltip": null,
            "layout": "IPY_MODEL_4329de6a098c404a86c58b6121884bbe",
            "placeholder": "​",
            "style": "IPY_MODEL_1a88fb16cef5494ba43ca1f0baeae5bc",
            "value": " 7.95k/7.95k [00:00&lt;00:00, 358kB/s]"
          }
        },
        "c263204a68554af3812d614770d15a22": {
          "model_module": "@jupyter-widgets/base",
          "model_name": "LayoutModel",
          "model_module_version": "1.2.0",
          "state": {
            "_model_module": "@jupyter-widgets/base",
            "_model_module_version": "1.2.0",
            "_model_name": "LayoutModel",
            "_view_count": null,
            "_view_module": "@jupyter-widgets/base",
            "_view_module_version": "1.2.0",
            "_view_name": "LayoutView",
            "align_content": null,
            "align_items": null,
            "align_self": null,
            "border": null,
            "bottom": null,
            "display": null,
            "flex": null,
            "flex_flow": null,
            "grid_area": null,
            "grid_auto_columns": null,
            "grid_auto_flow": null,
            "grid_auto_rows": null,
            "grid_column": null,
            "grid_gap": null,
            "grid_row": null,
            "grid_template_areas": null,
            "grid_template_columns": null,
            "grid_template_rows": null,
            "height": null,
            "justify_content": null,
            "justify_items": null,
            "left": null,
            "margin": null,
            "max_height": null,
            "max_width": null,
            "min_height": null,
            "min_width": null,
            "object_fit": null,
            "object_position": null,
            "order": null,
            "overflow": null,
            "overflow_x": null,
            "overflow_y": null,
            "padding": null,
            "right": null,
            "top": null,
            "visibility": null,
            "width": null
          }
        },
        "077ac53392064cdcb7a6e7598444aabe": {
          "model_module": "@jupyter-widgets/base",
          "model_name": "LayoutModel",
          "model_module_version": "1.2.0",
          "state": {
            "_model_module": "@jupyter-widgets/base",
            "_model_module_version": "1.2.0",
            "_model_name": "LayoutModel",
            "_view_count": null,
            "_view_module": "@jupyter-widgets/base",
            "_view_module_version": "1.2.0",
            "_view_name": "LayoutView",
            "align_content": null,
            "align_items": null,
            "align_self": null,
            "border": null,
            "bottom": null,
            "display": null,
            "flex": null,
            "flex_flow": null,
            "grid_area": null,
            "grid_auto_columns": null,
            "grid_auto_flow": null,
            "grid_auto_rows": null,
            "grid_column": null,
            "grid_gap": null,
            "grid_row": null,
            "grid_template_areas": null,
            "grid_template_columns": null,
            "grid_template_rows": null,
            "height": null,
            "justify_content": null,
            "justify_items": null,
            "left": null,
            "margin": null,
            "max_height": null,
            "max_width": null,
            "min_height": null,
            "min_width": null,
            "object_fit": null,
            "object_position": null,
            "order": null,
            "overflow": null,
            "overflow_x": null,
            "overflow_y": null,
            "padding": null,
            "right": null,
            "top": null,
            "visibility": null,
            "width": null
          }
        },
        "f47fa52eafff42609ce09d6808b523f4": {
          "model_module": "@jupyter-widgets/controls",
          "model_name": "DescriptionStyleModel",
          "model_module_version": "1.5.0",
          "state": {
            "_model_module": "@jupyter-widgets/controls",
            "_model_module_version": "1.5.0",
            "_model_name": "DescriptionStyleModel",
            "_view_count": null,
            "_view_module": "@jupyter-widgets/base",
            "_view_module_version": "1.2.0",
            "_view_name": "StyleView",
            "description_width": ""
          }
        },
        "237d6d62263d45cfbad19d190bffc598": {
          "model_module": "@jupyter-widgets/base",
          "model_name": "LayoutModel",
          "model_module_version": "1.2.0",
          "state": {
            "_model_module": "@jupyter-widgets/base",
            "_model_module_version": "1.2.0",
            "_model_name": "LayoutModel",
            "_view_count": null,
            "_view_module": "@jupyter-widgets/base",
            "_view_module_version": "1.2.0",
            "_view_name": "LayoutView",
            "align_content": null,
            "align_items": null,
            "align_self": null,
            "border": null,
            "bottom": null,
            "display": null,
            "flex": null,
            "flex_flow": null,
            "grid_area": null,
            "grid_auto_columns": null,
            "grid_auto_flow": null,
            "grid_auto_rows": null,
            "grid_column": null,
            "grid_gap": null,
            "grid_row": null,
            "grid_template_areas": null,
            "grid_template_columns": null,
            "grid_template_rows": null,
            "height": null,
            "justify_content": null,
            "justify_items": null,
            "left": null,
            "margin": null,
            "max_height": null,
            "max_width": null,
            "min_height": null,
            "min_width": null,
            "object_fit": null,
            "object_position": null,
            "order": null,
            "overflow": null,
            "overflow_x": null,
            "overflow_y": null,
            "padding": null,
            "right": null,
            "top": null,
            "visibility": null,
            "width": null
          }
        },
        "be7cbe79b076473fb5aedf5c0ce8efbd": {
          "model_module": "@jupyter-widgets/controls",
          "model_name": "ProgressStyleModel",
          "model_module_version": "1.5.0",
          "state": {
            "_model_module": "@jupyter-widgets/controls",
            "_model_module_version": "1.5.0",
            "_model_name": "ProgressStyleModel",
            "_view_count": null,
            "_view_module": "@jupyter-widgets/base",
            "_view_module_version": "1.2.0",
            "_view_name": "StyleView",
            "bar_color": null,
            "description_width": ""
          }
        },
        "4329de6a098c404a86c58b6121884bbe": {
          "model_module": "@jupyter-widgets/base",
          "model_name": "LayoutModel",
          "model_module_version": "1.2.0",
          "state": {
            "_model_module": "@jupyter-widgets/base",
            "_model_module_version": "1.2.0",
            "_model_name": "LayoutModel",
            "_view_count": null,
            "_view_module": "@jupyter-widgets/base",
            "_view_module_version": "1.2.0",
            "_view_name": "LayoutView",
            "align_content": null,
            "align_items": null,
            "align_self": null,
            "border": null,
            "bottom": null,
            "display": null,
            "flex": null,
            "flex_flow": null,
            "grid_area": null,
            "grid_auto_columns": null,
            "grid_auto_flow": null,
            "grid_auto_rows": null,
            "grid_column": null,
            "grid_gap": null,
            "grid_row": null,
            "grid_template_areas": null,
            "grid_template_columns": null,
            "grid_template_rows": null,
            "height": null,
            "justify_content": null,
            "justify_items": null,
            "left": null,
            "margin": null,
            "max_height": null,
            "max_width": null,
            "min_height": null,
            "min_width": null,
            "object_fit": null,
            "object_position": null,
            "order": null,
            "overflow": null,
            "overflow_x": null,
            "overflow_y": null,
            "padding": null,
            "right": null,
            "top": null,
            "visibility": null,
            "width": null
          }
        },
        "1a88fb16cef5494ba43ca1f0baeae5bc": {
          "model_module": "@jupyter-widgets/controls",
          "model_name": "DescriptionStyleModel",
          "model_module_version": "1.5.0",
          "state": {
            "_model_module": "@jupyter-widgets/controls",
            "_model_module_version": "1.5.0",
            "_model_name": "DescriptionStyleModel",
            "_view_count": null,
            "_view_module": "@jupyter-widgets/base",
            "_view_module_version": "1.2.0",
            "_view_name": "StyleView",
            "description_width": ""
          }
        },
        "625fb126181041d7bb8e85cb37d86a91": {
          "model_module": "@jupyter-widgets/controls",
          "model_name": "HBoxModel",
          "model_module_version": "1.5.0",
          "state": {
            "_dom_classes": [],
            "_model_module": "@jupyter-widgets/controls",
            "_model_module_version": "1.5.0",
            "_model_name": "HBoxModel",
            "_view_count": null,
            "_view_module": "@jupyter-widgets/controls",
            "_view_module_version": "1.5.0",
            "_view_name": "HBoxView",
            "box_style": "",
            "children": [
              "IPY_MODEL_bc95c832df94498391fec5bf105f619b",
              "IPY_MODEL_a985e57491c8447198bcb04e73a8e94f",
              "IPY_MODEL_ba2de659a073433cbcd350cc8abe8767"
            ],
            "layout": "IPY_MODEL_0bff65de7b934973be554bda4a082271"
          }
        },
        "bc95c832df94498391fec5bf105f619b": {
          "model_module": "@jupyter-widgets/controls",
          "model_name": "HTMLModel",
          "model_module_version": "1.5.0",
          "state": {
            "_dom_classes": [],
            "_model_module": "@jupyter-widgets/controls",
            "_model_module_version": "1.5.0",
            "_model_name": "HTMLModel",
            "_view_count": null,
            "_view_module": "@jupyter-widgets/controls",
            "_view_module_version": "1.5.0",
            "_view_name": "HTMLView",
            "description": "",
            "description_tooltip": null,
            "layout": "IPY_MODEL_fd3e05950614428b8f49b3b21520fdf6",
            "placeholder": "​",
            "style": "IPY_MODEL_2aeaae419ff34a1bb32f9a2d7bd7ca84",
            "value": "Downloading data: "
          }
        },
        "a985e57491c8447198bcb04e73a8e94f": {
          "model_module": "@jupyter-widgets/controls",
          "model_name": "FloatProgressModel",
          "model_module_version": "1.5.0",
          "state": {
            "_dom_classes": [],
            "_model_module": "@jupyter-widgets/controls",
            "_model_module_version": "1.5.0",
            "_model_name": "FloatProgressModel",
            "_view_count": null,
            "_view_module": "@jupyter-widgets/controls",
            "_view_module_version": "1.5.0",
            "_view_name": "ProgressView",
            "bar_style": "success",
            "description": "",
            "description_tooltip": null,
            "layout": "IPY_MODEL_9b502eaca5d441a29b42414842c3a5c3",
            "max": 11045148,
            "min": 0,
            "orientation": "horizontal",
            "style": "IPY_MODEL_1494f048a7794c0aa65d368ac92fd406",
            "value": 11045148
          }
        },
        "ba2de659a073433cbcd350cc8abe8767": {
          "model_module": "@jupyter-widgets/controls",
          "model_name": "HTMLModel",
          "model_module_version": "1.5.0",
          "state": {
            "_dom_classes": [],
            "_model_module": "@jupyter-widgets/controls",
            "_model_module_version": "1.5.0",
            "_model_name": "HTMLModel",
            "_view_count": null,
            "_view_module": "@jupyter-widgets/controls",
            "_view_module_version": "1.5.0",
            "_view_name": "HTMLView",
            "description": "",
            "description_tooltip": null,
            "layout": "IPY_MODEL_64ff0c47f8ba4bedbd430800a5f8be62",
            "placeholder": "​",
            "style": "IPY_MODEL_af3b3021c92e4b1e80eb4cacc6749082",
            "value": " 29.5M/? [00:00&lt;00:00, 37.5MB/s]"
          }
        },
        "0bff65de7b934973be554bda4a082271": {
          "model_module": "@jupyter-widgets/base",
          "model_name": "LayoutModel",
          "model_module_version": "1.2.0",
          "state": {
            "_model_module": "@jupyter-widgets/base",
            "_model_module_version": "1.2.0",
            "_model_name": "LayoutModel",
            "_view_count": null,
            "_view_module": "@jupyter-widgets/base",
            "_view_module_version": "1.2.0",
            "_view_name": "LayoutView",
            "align_content": null,
            "align_items": null,
            "align_self": null,
            "border": null,
            "bottom": null,
            "display": null,
            "flex": null,
            "flex_flow": null,
            "grid_area": null,
            "grid_auto_columns": null,
            "grid_auto_flow": null,
            "grid_auto_rows": null,
            "grid_column": null,
            "grid_gap": null,
            "grid_row": null,
            "grid_template_areas": null,
            "grid_template_columns": null,
            "grid_template_rows": null,
            "height": null,
            "justify_content": null,
            "justify_items": null,
            "left": null,
            "margin": null,
            "max_height": null,
            "max_width": null,
            "min_height": null,
            "min_width": null,
            "object_fit": null,
            "object_position": null,
            "order": null,
            "overflow": null,
            "overflow_x": null,
            "overflow_y": null,
            "padding": null,
            "right": null,
            "top": null,
            "visibility": null,
            "width": null
          }
        },
        "fd3e05950614428b8f49b3b21520fdf6": {
          "model_module": "@jupyter-widgets/base",
          "model_name": "LayoutModel",
          "model_module_version": "1.2.0",
          "state": {
            "_model_module": "@jupyter-widgets/base",
            "_model_module_version": "1.2.0",
            "_model_name": "LayoutModel",
            "_view_count": null,
            "_view_module": "@jupyter-widgets/base",
            "_view_module_version": "1.2.0",
            "_view_name": "LayoutView",
            "align_content": null,
            "align_items": null,
            "align_self": null,
            "border": null,
            "bottom": null,
            "display": null,
            "flex": null,
            "flex_flow": null,
            "grid_area": null,
            "grid_auto_columns": null,
            "grid_auto_flow": null,
            "grid_auto_rows": null,
            "grid_column": null,
            "grid_gap": null,
            "grid_row": null,
            "grid_template_areas": null,
            "grid_template_columns": null,
            "grid_template_rows": null,
            "height": null,
            "justify_content": null,
            "justify_items": null,
            "left": null,
            "margin": null,
            "max_height": null,
            "max_width": null,
            "min_height": null,
            "min_width": null,
            "object_fit": null,
            "object_position": null,
            "order": null,
            "overflow": null,
            "overflow_x": null,
            "overflow_y": null,
            "padding": null,
            "right": null,
            "top": null,
            "visibility": null,
            "width": null
          }
        },
        "2aeaae419ff34a1bb32f9a2d7bd7ca84": {
          "model_module": "@jupyter-widgets/controls",
          "model_name": "DescriptionStyleModel",
          "model_module_version": "1.5.0",
          "state": {
            "_model_module": "@jupyter-widgets/controls",
            "_model_module_version": "1.5.0",
            "_model_name": "DescriptionStyleModel",
            "_view_count": null,
            "_view_module": "@jupyter-widgets/base",
            "_view_module_version": "1.2.0",
            "_view_name": "StyleView",
            "description_width": ""
          }
        },
        "9b502eaca5d441a29b42414842c3a5c3": {
          "model_module": "@jupyter-widgets/base",
          "model_name": "LayoutModel",
          "model_module_version": "1.2.0",
          "state": {
            "_model_module": "@jupyter-widgets/base",
            "_model_module_version": "1.2.0",
            "_model_name": "LayoutModel",
            "_view_count": null,
            "_view_module": "@jupyter-widgets/base",
            "_view_module_version": "1.2.0",
            "_view_name": "LayoutView",
            "align_content": null,
            "align_items": null,
            "align_self": null,
            "border": null,
            "bottom": null,
            "display": null,
            "flex": null,
            "flex_flow": null,
            "grid_area": null,
            "grid_auto_columns": null,
            "grid_auto_flow": null,
            "grid_auto_rows": null,
            "grid_column": null,
            "grid_gap": null,
            "grid_row": null,
            "grid_template_areas": null,
            "grid_template_columns": null,
            "grid_template_rows": null,
            "height": null,
            "justify_content": null,
            "justify_items": null,
            "left": null,
            "margin": null,
            "max_height": null,
            "max_width": null,
            "min_height": null,
            "min_width": null,
            "object_fit": null,
            "object_position": null,
            "order": null,
            "overflow": null,
            "overflow_x": null,
            "overflow_y": null,
            "padding": null,
            "right": null,
            "top": null,
            "visibility": null,
            "width": null
          }
        },
        "1494f048a7794c0aa65d368ac92fd406": {
          "model_module": "@jupyter-widgets/controls",
          "model_name": "ProgressStyleModel",
          "model_module_version": "1.5.0",
          "state": {
            "_model_module": "@jupyter-widgets/controls",
            "_model_module_version": "1.5.0",
            "_model_name": "ProgressStyleModel",
            "_view_count": null,
            "_view_module": "@jupyter-widgets/base",
            "_view_module_version": "1.2.0",
            "_view_name": "StyleView",
            "bar_color": null,
            "description_width": ""
          }
        },
        "64ff0c47f8ba4bedbd430800a5f8be62": {
          "model_module": "@jupyter-widgets/base",
          "model_name": "LayoutModel",
          "model_module_version": "1.2.0",
          "state": {
            "_model_module": "@jupyter-widgets/base",
            "_model_module_version": "1.2.0",
            "_model_name": "LayoutModel",
            "_view_count": null,
            "_view_module": "@jupyter-widgets/base",
            "_view_module_version": "1.2.0",
            "_view_name": "LayoutView",
            "align_content": null,
            "align_items": null,
            "align_self": null,
            "border": null,
            "bottom": null,
            "display": null,
            "flex": null,
            "flex_flow": null,
            "grid_area": null,
            "grid_auto_columns": null,
            "grid_auto_flow": null,
            "grid_auto_rows": null,
            "grid_column": null,
            "grid_gap": null,
            "grid_row": null,
            "grid_template_areas": null,
            "grid_template_columns": null,
            "grid_template_rows": null,
            "height": null,
            "justify_content": null,
            "justify_items": null,
            "left": null,
            "margin": null,
            "max_height": null,
            "max_width": null,
            "min_height": null,
            "min_width": null,
            "object_fit": null,
            "object_position": null,
            "order": null,
            "overflow": null,
            "overflow_x": null,
            "overflow_y": null,
            "padding": null,
            "right": null,
            "top": null,
            "visibility": null,
            "width": null
          }
        },
        "af3b3021c92e4b1e80eb4cacc6749082": {
          "model_module": "@jupyter-widgets/controls",
          "model_name": "DescriptionStyleModel",
          "model_module_version": "1.5.0",
          "state": {
            "_model_module": "@jupyter-widgets/controls",
            "_model_module_version": "1.5.0",
            "_model_name": "DescriptionStyleModel",
            "_view_count": null,
            "_view_module": "@jupyter-widgets/base",
            "_view_module_version": "1.2.0",
            "_view_name": "StyleView",
            "description_width": ""
          }
        },
        "cf65e22bdd9d40a491088f801df92c67": {
          "model_module": "@jupyter-widgets/controls",
          "model_name": "HBoxModel",
          "model_module_version": "1.5.0",
          "state": {
            "_dom_classes": [],
            "_model_module": "@jupyter-widgets/controls",
            "_model_module_version": "1.5.0",
            "_model_name": "HBoxModel",
            "_view_count": null,
            "_view_module": "@jupyter-widgets/controls",
            "_view_module_version": "1.5.0",
            "_view_name": "HBoxView",
            "box_style": "",
            "children": [
              "IPY_MODEL_74e62a4187af44e79556075461cb3823",
              "IPY_MODEL_34f4ff370bb3482ab6dae03616d94211",
              "IPY_MODEL_582b8387866c41c28935908b6eb75974"
            ],
            "layout": "IPY_MODEL_a5d4d7d3a8cd4c6baaa7c3663a2930dd"
          }
        },
        "74e62a4187af44e79556075461cb3823": {
          "model_module": "@jupyter-widgets/controls",
          "model_name": "HTMLModel",
          "model_module_version": "1.5.0",
          "state": {
            "_dom_classes": [],
            "_model_module": "@jupyter-widgets/controls",
            "_model_module_version": "1.5.0",
            "_model_name": "HTMLModel",
            "_view_count": null,
            "_view_module": "@jupyter-widgets/controls",
            "_view_module_version": "1.5.0",
            "_view_name": "HTMLView",
            "description": "",
            "description_tooltip": null,
            "layout": "IPY_MODEL_d016d99ef63d43f48a1c6ea88ff55719",
            "placeholder": "​",
            "style": "IPY_MODEL_2446ba17c9f74c5d87f53373b369f67d",
            "value": "Downloading data: "
          }
        },
        "34f4ff370bb3482ab6dae03616d94211": {
          "model_module": "@jupyter-widgets/controls",
          "model_name": "FloatProgressModel",
          "model_module_version": "1.5.0",
          "state": {
            "_dom_classes": [],
            "_model_module": "@jupyter-widgets/controls",
            "_model_module_version": "1.5.0",
            "_model_name": "FloatProgressModel",
            "_view_count": null,
            "_view_module": "@jupyter-widgets/controls",
            "_view_module_version": "1.5.0",
            "_view_name": "ProgressView",
            "bar_style": "success",
            "description": "",
            "description_tooltip": null,
            "layout": "IPY_MODEL_2dea91de30f44b67a2d0fea7c7a5a1d0",
            "max": 751209,
            "min": 0,
            "orientation": "horizontal",
            "style": "IPY_MODEL_cf755fd7b4e1490c94943f1f3f30b35f",
            "value": 751209
          }
        },
        "582b8387866c41c28935908b6eb75974": {
          "model_module": "@jupyter-widgets/controls",
          "model_name": "HTMLModel",
          "model_module_version": "1.5.0",
          "state": {
            "_dom_classes": [],
            "_model_module": "@jupyter-widgets/controls",
            "_model_module_version": "1.5.0",
            "_model_name": "HTMLModel",
            "_view_count": null,
            "_view_module": "@jupyter-widgets/controls",
            "_view_module_version": "1.5.0",
            "_view_name": "HTMLView",
            "description": "",
            "description_tooltip": null,
            "layout": "IPY_MODEL_dedc65f9d4674a12827ecb92f38b303d",
            "placeholder": "​",
            "style": "IPY_MODEL_75929cfc0776448e838f7b412e391047",
            "value": " 1.86M/? [00:00&lt;00:00, 5.29MB/s]"
          }
        },
        "a5d4d7d3a8cd4c6baaa7c3663a2930dd": {
          "model_module": "@jupyter-widgets/base",
          "model_name": "LayoutModel",
          "model_module_version": "1.2.0",
          "state": {
            "_model_module": "@jupyter-widgets/base",
            "_model_module_version": "1.2.0",
            "_model_name": "LayoutModel",
            "_view_count": null,
            "_view_module": "@jupyter-widgets/base",
            "_view_module_version": "1.2.0",
            "_view_name": "LayoutView",
            "align_content": null,
            "align_items": null,
            "align_self": null,
            "border": null,
            "bottom": null,
            "display": null,
            "flex": null,
            "flex_flow": null,
            "grid_area": null,
            "grid_auto_columns": null,
            "grid_auto_flow": null,
            "grid_auto_rows": null,
            "grid_column": null,
            "grid_gap": null,
            "grid_row": null,
            "grid_template_areas": null,
            "grid_template_columns": null,
            "grid_template_rows": null,
            "height": null,
            "justify_content": null,
            "justify_items": null,
            "left": null,
            "margin": null,
            "max_height": null,
            "max_width": null,
            "min_height": null,
            "min_width": null,
            "object_fit": null,
            "object_position": null,
            "order": null,
            "overflow": null,
            "overflow_x": null,
            "overflow_y": null,
            "padding": null,
            "right": null,
            "top": null,
            "visibility": null,
            "width": null
          }
        },
        "d016d99ef63d43f48a1c6ea88ff55719": {
          "model_module": "@jupyter-widgets/base",
          "model_name": "LayoutModel",
          "model_module_version": "1.2.0",
          "state": {
            "_model_module": "@jupyter-widgets/base",
            "_model_module_version": "1.2.0",
            "_model_name": "LayoutModel",
            "_view_count": null,
            "_view_module": "@jupyter-widgets/base",
            "_view_module_version": "1.2.0",
            "_view_name": "LayoutView",
            "align_content": null,
            "align_items": null,
            "align_self": null,
            "border": null,
            "bottom": null,
            "display": null,
            "flex": null,
            "flex_flow": null,
            "grid_area": null,
            "grid_auto_columns": null,
            "grid_auto_flow": null,
            "grid_auto_rows": null,
            "grid_column": null,
            "grid_gap": null,
            "grid_row": null,
            "grid_template_areas": null,
            "grid_template_columns": null,
            "grid_template_rows": null,
            "height": null,
            "justify_content": null,
            "justify_items": null,
            "left": null,
            "margin": null,
            "max_height": null,
            "max_width": null,
            "min_height": null,
            "min_width": null,
            "object_fit": null,
            "object_position": null,
            "order": null,
            "overflow": null,
            "overflow_x": null,
            "overflow_y": null,
            "padding": null,
            "right": null,
            "top": null,
            "visibility": null,
            "width": null
          }
        },
        "2446ba17c9f74c5d87f53373b369f67d": {
          "model_module": "@jupyter-widgets/controls",
          "model_name": "DescriptionStyleModel",
          "model_module_version": "1.5.0",
          "state": {
            "_model_module": "@jupyter-widgets/controls",
            "_model_module_version": "1.5.0",
            "_model_name": "DescriptionStyleModel",
            "_view_count": null,
            "_view_module": "@jupyter-widgets/base",
            "_view_module_version": "1.2.0",
            "_view_name": "StyleView",
            "description_width": ""
          }
        },
        "2dea91de30f44b67a2d0fea7c7a5a1d0": {
          "model_module": "@jupyter-widgets/base",
          "model_name": "LayoutModel",
          "model_module_version": "1.2.0",
          "state": {
            "_model_module": "@jupyter-widgets/base",
            "_model_module_version": "1.2.0",
            "_model_name": "LayoutModel",
            "_view_count": null,
            "_view_module": "@jupyter-widgets/base",
            "_view_module_version": "1.2.0",
            "_view_name": "LayoutView",
            "align_content": null,
            "align_items": null,
            "align_self": null,
            "border": null,
            "bottom": null,
            "display": null,
            "flex": null,
            "flex_flow": null,
            "grid_area": null,
            "grid_auto_columns": null,
            "grid_auto_flow": null,
            "grid_auto_rows": null,
            "grid_column": null,
            "grid_gap": null,
            "grid_row": null,
            "grid_template_areas": null,
            "grid_template_columns": null,
            "grid_template_rows": null,
            "height": null,
            "justify_content": null,
            "justify_items": null,
            "left": null,
            "margin": null,
            "max_height": null,
            "max_width": null,
            "min_height": null,
            "min_width": null,
            "object_fit": null,
            "object_position": null,
            "order": null,
            "overflow": null,
            "overflow_x": null,
            "overflow_y": null,
            "padding": null,
            "right": null,
            "top": null,
            "visibility": null,
            "width": null
          }
        },
        "cf755fd7b4e1490c94943f1f3f30b35f": {
          "model_module": "@jupyter-widgets/controls",
          "model_name": "ProgressStyleModel",
          "model_module_version": "1.5.0",
          "state": {
            "_model_module": "@jupyter-widgets/controls",
            "_model_module_version": "1.5.0",
            "_model_name": "ProgressStyleModel",
            "_view_count": null,
            "_view_module": "@jupyter-widgets/base",
            "_view_module_version": "1.2.0",
            "_view_name": "StyleView",
            "bar_color": null,
            "description_width": ""
          }
        },
        "dedc65f9d4674a12827ecb92f38b303d": {
          "model_module": "@jupyter-widgets/base",
          "model_name": "LayoutModel",
          "model_module_version": "1.2.0",
          "state": {
            "_model_module": "@jupyter-widgets/base",
            "_model_module_version": "1.2.0",
            "_model_name": "LayoutModel",
            "_view_count": null,
            "_view_module": "@jupyter-widgets/base",
            "_view_module_version": "1.2.0",
            "_view_name": "LayoutView",
            "align_content": null,
            "align_items": null,
            "align_self": null,
            "border": null,
            "bottom": null,
            "display": null,
            "flex": null,
            "flex_flow": null,
            "grid_area": null,
            "grid_auto_columns": null,
            "grid_auto_flow": null,
            "grid_auto_rows": null,
            "grid_column": null,
            "grid_gap": null,
            "grid_row": null,
            "grid_template_areas": null,
            "grid_template_columns": null,
            "grid_template_rows": null,
            "height": null,
            "justify_content": null,
            "justify_items": null,
            "left": null,
            "margin": null,
            "max_height": null,
            "max_width": null,
            "min_height": null,
            "min_width": null,
            "object_fit": null,
            "object_position": null,
            "order": null,
            "overflow": null,
            "overflow_x": null,
            "overflow_y": null,
            "padding": null,
            "right": null,
            "top": null,
            "visibility": null,
            "width": null
          }
        },
        "75929cfc0776448e838f7b412e391047": {
          "model_module": "@jupyter-widgets/controls",
          "model_name": "DescriptionStyleModel",
          "model_module_version": "1.5.0",
          "state": {
            "_model_module": "@jupyter-widgets/controls",
            "_model_module_version": "1.5.0",
            "_model_name": "DescriptionStyleModel",
            "_view_count": null,
            "_view_module": "@jupyter-widgets/base",
            "_view_module_version": "1.2.0",
            "_view_name": "StyleView",
            "description_width": ""
          }
        },
        "252de9e4e60f4678984a19965e7bdffb": {
          "model_module": "@jupyter-widgets/controls",
          "model_name": "HBoxModel",
          "model_module_version": "1.5.0",
          "state": {
            "_dom_classes": [],
            "_model_module": "@jupyter-widgets/controls",
            "_model_module_version": "1.5.0",
            "_model_name": "HBoxModel",
            "_view_count": null,
            "_view_module": "@jupyter-widgets/controls",
            "_view_module_version": "1.5.0",
            "_view_name": "HBoxView",
            "box_style": "",
            "children": [
              "IPY_MODEL_3b1a888bcec9446f9c2e4e9576964e8e",
              "IPY_MODEL_845ed25ac7fe450eaf7c8a74d2b7a89f",
              "IPY_MODEL_7f06e158d7f74a46a2eb94d150caedfc"
            ],
            "layout": "IPY_MODEL_71060a80f5654882b4addf8a4314e03f"
          }
        },
        "3b1a888bcec9446f9c2e4e9576964e8e": {
          "model_module": "@jupyter-widgets/controls",
          "model_name": "HTMLModel",
          "model_module_version": "1.5.0",
          "state": {
            "_dom_classes": [],
            "_model_module": "@jupyter-widgets/controls",
            "_model_module_version": "1.5.0",
            "_model_name": "HTMLModel",
            "_view_count": null,
            "_view_module": "@jupyter-widgets/controls",
            "_view_module_version": "1.5.0",
            "_view_name": "HTMLView",
            "description": "",
            "description_tooltip": null,
            "layout": "IPY_MODEL_96c5a01921df41fd8c8f67a07ab82928",
            "placeholder": "​",
            "style": "IPY_MODEL_6097bbc395bc44af80f396e03a2650cf",
            "value": "Generating train split: 100%"
          }
        },
        "845ed25ac7fe450eaf7c8a74d2b7a89f": {
          "model_module": "@jupyter-widgets/controls",
          "model_name": "FloatProgressModel",
          "model_module_version": "1.5.0",
          "state": {
            "_dom_classes": [],
            "_model_module": "@jupyter-widgets/controls",
            "_model_module_version": "1.5.0",
            "_model_name": "FloatProgressModel",
            "_view_count": null,
            "_view_module": "@jupyter-widgets/controls",
            "_view_module_version": "1.5.0",
            "_view_name": "ProgressView",
            "bar_style": "success",
            "description": "",
            "description_tooltip": null,
            "layout": "IPY_MODEL_1db9dbdb53014bbc80875166b1e4a9df",
            "max": 120000,
            "min": 0,
            "orientation": "horizontal",
            "style": "IPY_MODEL_ee481e2567874d4292ee5a2751ada6e1",
            "value": 120000
          }
        },
        "7f06e158d7f74a46a2eb94d150caedfc": {
          "model_module": "@jupyter-widgets/controls",
          "model_name": "HTMLModel",
          "model_module_version": "1.5.0",
          "state": {
            "_dom_classes": [],
            "_model_module": "@jupyter-widgets/controls",
            "_model_module_version": "1.5.0",
            "_model_name": "HTMLModel",
            "_view_count": null,
            "_view_module": "@jupyter-widgets/controls",
            "_view_module_version": "1.5.0",
            "_view_name": "HTMLView",
            "description": "",
            "description_tooltip": null,
            "layout": "IPY_MODEL_d1cdf52f00cd40efb20598dc8dca5c86",
            "placeholder": "​",
            "style": "IPY_MODEL_e7e1b4f7aa12490a8ea2480afa25a4bf",
            "value": " 120000/120000 [00:05&lt;00:00, 19157.19 examples/s]"
          }
        },
        "71060a80f5654882b4addf8a4314e03f": {
          "model_module": "@jupyter-widgets/base",
          "model_name": "LayoutModel",
          "model_module_version": "1.2.0",
          "state": {
            "_model_module": "@jupyter-widgets/base",
            "_model_module_version": "1.2.0",
            "_model_name": "LayoutModel",
            "_view_count": null,
            "_view_module": "@jupyter-widgets/base",
            "_view_module_version": "1.2.0",
            "_view_name": "LayoutView",
            "align_content": null,
            "align_items": null,
            "align_self": null,
            "border": null,
            "bottom": null,
            "display": null,
            "flex": null,
            "flex_flow": null,
            "grid_area": null,
            "grid_auto_columns": null,
            "grid_auto_flow": null,
            "grid_auto_rows": null,
            "grid_column": null,
            "grid_gap": null,
            "grid_row": null,
            "grid_template_areas": null,
            "grid_template_columns": null,
            "grid_template_rows": null,
            "height": null,
            "justify_content": null,
            "justify_items": null,
            "left": null,
            "margin": null,
            "max_height": null,
            "max_width": null,
            "min_height": null,
            "min_width": null,
            "object_fit": null,
            "object_position": null,
            "order": null,
            "overflow": null,
            "overflow_x": null,
            "overflow_y": null,
            "padding": null,
            "right": null,
            "top": null,
            "visibility": null,
            "width": null
          }
        },
        "96c5a01921df41fd8c8f67a07ab82928": {
          "model_module": "@jupyter-widgets/base",
          "model_name": "LayoutModel",
          "model_module_version": "1.2.0",
          "state": {
            "_model_module": "@jupyter-widgets/base",
            "_model_module_version": "1.2.0",
            "_model_name": "LayoutModel",
            "_view_count": null,
            "_view_module": "@jupyter-widgets/base",
            "_view_module_version": "1.2.0",
            "_view_name": "LayoutView",
            "align_content": null,
            "align_items": null,
            "align_self": null,
            "border": null,
            "bottom": null,
            "display": null,
            "flex": null,
            "flex_flow": null,
            "grid_area": null,
            "grid_auto_columns": null,
            "grid_auto_flow": null,
            "grid_auto_rows": null,
            "grid_column": null,
            "grid_gap": null,
            "grid_row": null,
            "grid_template_areas": null,
            "grid_template_columns": null,
            "grid_template_rows": null,
            "height": null,
            "justify_content": null,
            "justify_items": null,
            "left": null,
            "margin": null,
            "max_height": null,
            "max_width": null,
            "min_height": null,
            "min_width": null,
            "object_fit": null,
            "object_position": null,
            "order": null,
            "overflow": null,
            "overflow_x": null,
            "overflow_y": null,
            "padding": null,
            "right": null,
            "top": null,
            "visibility": null,
            "width": null
          }
        },
        "6097bbc395bc44af80f396e03a2650cf": {
          "model_module": "@jupyter-widgets/controls",
          "model_name": "DescriptionStyleModel",
          "model_module_version": "1.5.0",
          "state": {
            "_model_module": "@jupyter-widgets/controls",
            "_model_module_version": "1.5.0",
            "_model_name": "DescriptionStyleModel",
            "_view_count": null,
            "_view_module": "@jupyter-widgets/base",
            "_view_module_version": "1.2.0",
            "_view_name": "StyleView",
            "description_width": ""
          }
        },
        "1db9dbdb53014bbc80875166b1e4a9df": {
          "model_module": "@jupyter-widgets/base",
          "model_name": "LayoutModel",
          "model_module_version": "1.2.0",
          "state": {
            "_model_module": "@jupyter-widgets/base",
            "_model_module_version": "1.2.0",
            "_model_name": "LayoutModel",
            "_view_count": null,
            "_view_module": "@jupyter-widgets/base",
            "_view_module_version": "1.2.0",
            "_view_name": "LayoutView",
            "align_content": null,
            "align_items": null,
            "align_self": null,
            "border": null,
            "bottom": null,
            "display": null,
            "flex": null,
            "flex_flow": null,
            "grid_area": null,
            "grid_auto_columns": null,
            "grid_auto_flow": null,
            "grid_auto_rows": null,
            "grid_column": null,
            "grid_gap": null,
            "grid_row": null,
            "grid_template_areas": null,
            "grid_template_columns": null,
            "grid_template_rows": null,
            "height": null,
            "justify_content": null,
            "justify_items": null,
            "left": null,
            "margin": null,
            "max_height": null,
            "max_width": null,
            "min_height": null,
            "min_width": null,
            "object_fit": null,
            "object_position": null,
            "order": null,
            "overflow": null,
            "overflow_x": null,
            "overflow_y": null,
            "padding": null,
            "right": null,
            "top": null,
            "visibility": null,
            "width": null
          }
        },
        "ee481e2567874d4292ee5a2751ada6e1": {
          "model_module": "@jupyter-widgets/controls",
          "model_name": "ProgressStyleModel",
          "model_module_version": "1.5.0",
          "state": {
            "_model_module": "@jupyter-widgets/controls",
            "_model_module_version": "1.5.0",
            "_model_name": "ProgressStyleModel",
            "_view_count": null,
            "_view_module": "@jupyter-widgets/base",
            "_view_module_version": "1.2.0",
            "_view_name": "StyleView",
            "bar_color": null,
            "description_width": ""
          }
        },
        "d1cdf52f00cd40efb20598dc8dca5c86": {
          "model_module": "@jupyter-widgets/base",
          "model_name": "LayoutModel",
          "model_module_version": "1.2.0",
          "state": {
            "_model_module": "@jupyter-widgets/base",
            "_model_module_version": "1.2.0",
            "_model_name": "LayoutModel",
            "_view_count": null,
            "_view_module": "@jupyter-widgets/base",
            "_view_module_version": "1.2.0",
            "_view_name": "LayoutView",
            "align_content": null,
            "align_items": null,
            "align_self": null,
            "border": null,
            "bottom": null,
            "display": null,
            "flex": null,
            "flex_flow": null,
            "grid_area": null,
            "grid_auto_columns": null,
            "grid_auto_flow": null,
            "grid_auto_rows": null,
            "grid_column": null,
            "grid_gap": null,
            "grid_row": null,
            "grid_template_areas": null,
            "grid_template_columns": null,
            "grid_template_rows": null,
            "height": null,
            "justify_content": null,
            "justify_items": null,
            "left": null,
            "margin": null,
            "max_height": null,
            "max_width": null,
            "min_height": null,
            "min_width": null,
            "object_fit": null,
            "object_position": null,
            "order": null,
            "overflow": null,
            "overflow_x": null,
            "overflow_y": null,
            "padding": null,
            "right": null,
            "top": null,
            "visibility": null,
            "width": null
          }
        },
        "e7e1b4f7aa12490a8ea2480afa25a4bf": {
          "model_module": "@jupyter-widgets/controls",
          "model_name": "DescriptionStyleModel",
          "model_module_version": "1.5.0",
          "state": {
            "_model_module": "@jupyter-widgets/controls",
            "_model_module_version": "1.5.0",
            "_model_name": "DescriptionStyleModel",
            "_view_count": null,
            "_view_module": "@jupyter-widgets/base",
            "_view_module_version": "1.2.0",
            "_view_name": "StyleView",
            "description_width": ""
          }
        },
        "7b5bd2018e52488a881dc92d517dbe7e": {
          "model_module": "@jupyter-widgets/controls",
          "model_name": "HBoxModel",
          "model_module_version": "1.5.0",
          "state": {
            "_dom_classes": [],
            "_model_module": "@jupyter-widgets/controls",
            "_model_module_version": "1.5.0",
            "_model_name": "HBoxModel",
            "_view_count": null,
            "_view_module": "@jupyter-widgets/controls",
            "_view_module_version": "1.5.0",
            "_view_name": "HBoxView",
            "box_style": "",
            "children": [
              "IPY_MODEL_1b637c7dbdea48f9b8eba7d90f8756df",
              "IPY_MODEL_afa4431807394947a7749474808a2e02",
              "IPY_MODEL_74bd9aea7a0c483f92967d455905c86f"
            ],
            "layout": "IPY_MODEL_770b5106229345599eb60a02abb772d8"
          }
        },
        "1b637c7dbdea48f9b8eba7d90f8756df": {
          "model_module": "@jupyter-widgets/controls",
          "model_name": "HTMLModel",
          "model_module_version": "1.5.0",
          "state": {
            "_dom_classes": [],
            "_model_module": "@jupyter-widgets/controls",
            "_model_module_version": "1.5.0",
            "_model_name": "HTMLModel",
            "_view_count": null,
            "_view_module": "@jupyter-widgets/controls",
            "_view_module_version": "1.5.0",
            "_view_name": "HTMLView",
            "description": "",
            "description_tooltip": null,
            "layout": "IPY_MODEL_8f63f4d41c714c93b53e8b30467b4250",
            "placeholder": "​",
            "style": "IPY_MODEL_4140544089804726abbc80b15e8e8b8d",
            "value": "Generating test split: 100%"
          }
        },
        "afa4431807394947a7749474808a2e02": {
          "model_module": "@jupyter-widgets/controls",
          "model_name": "FloatProgressModel",
          "model_module_version": "1.5.0",
          "state": {
            "_dom_classes": [],
            "_model_module": "@jupyter-widgets/controls",
            "_model_module_version": "1.5.0",
            "_model_name": "FloatProgressModel",
            "_view_count": null,
            "_view_module": "@jupyter-widgets/controls",
            "_view_module_version": "1.5.0",
            "_view_name": "ProgressView",
            "bar_style": "success",
            "description": "",
            "description_tooltip": null,
            "layout": "IPY_MODEL_9fcf64d5b8834dd2865c40e4118c38d7",
            "max": 7600,
            "min": 0,
            "orientation": "horizontal",
            "style": "IPY_MODEL_7da2850e0b4641fb9110e2ff1692079b",
            "value": 7600
          }
        },
        "74bd9aea7a0c483f92967d455905c86f": {
          "model_module": "@jupyter-widgets/controls",
          "model_name": "HTMLModel",
          "model_module_version": "1.5.0",
          "state": {
            "_dom_classes": [],
            "_model_module": "@jupyter-widgets/controls",
            "_model_module_version": "1.5.0",
            "_model_name": "HTMLModel",
            "_view_count": null,
            "_view_module": "@jupyter-widgets/controls",
            "_view_module_version": "1.5.0",
            "_view_name": "HTMLView",
            "description": "",
            "description_tooltip": null,
            "layout": "IPY_MODEL_13308dead3f6465c9b638c4ea7fca9b0",
            "placeholder": "​",
            "style": "IPY_MODEL_7f711158ff514e22bd40af458b20a19b",
            "value": " 7600/7600 [00:00&lt;00:00, 21898.98 examples/s]"
          }
        },
        "770b5106229345599eb60a02abb772d8": {
          "model_module": "@jupyter-widgets/base",
          "model_name": "LayoutModel",
          "model_module_version": "1.2.0",
          "state": {
            "_model_module": "@jupyter-widgets/base",
            "_model_module_version": "1.2.0",
            "_model_name": "LayoutModel",
            "_view_count": null,
            "_view_module": "@jupyter-widgets/base",
            "_view_module_version": "1.2.0",
            "_view_name": "LayoutView",
            "align_content": null,
            "align_items": null,
            "align_self": null,
            "border": null,
            "bottom": null,
            "display": null,
            "flex": null,
            "flex_flow": null,
            "grid_area": null,
            "grid_auto_columns": null,
            "grid_auto_flow": null,
            "grid_auto_rows": null,
            "grid_column": null,
            "grid_gap": null,
            "grid_row": null,
            "grid_template_areas": null,
            "grid_template_columns": null,
            "grid_template_rows": null,
            "height": null,
            "justify_content": null,
            "justify_items": null,
            "left": null,
            "margin": null,
            "max_height": null,
            "max_width": null,
            "min_height": null,
            "min_width": null,
            "object_fit": null,
            "object_position": null,
            "order": null,
            "overflow": null,
            "overflow_x": null,
            "overflow_y": null,
            "padding": null,
            "right": null,
            "top": null,
            "visibility": null,
            "width": null
          }
        },
        "8f63f4d41c714c93b53e8b30467b4250": {
          "model_module": "@jupyter-widgets/base",
          "model_name": "LayoutModel",
          "model_module_version": "1.2.0",
          "state": {
            "_model_module": "@jupyter-widgets/base",
            "_model_module_version": "1.2.0",
            "_model_name": "LayoutModel",
            "_view_count": null,
            "_view_module": "@jupyter-widgets/base",
            "_view_module_version": "1.2.0",
            "_view_name": "LayoutView",
            "align_content": null,
            "align_items": null,
            "align_self": null,
            "border": null,
            "bottom": null,
            "display": null,
            "flex": null,
            "flex_flow": null,
            "grid_area": null,
            "grid_auto_columns": null,
            "grid_auto_flow": null,
            "grid_auto_rows": null,
            "grid_column": null,
            "grid_gap": null,
            "grid_row": null,
            "grid_template_areas": null,
            "grid_template_columns": null,
            "grid_template_rows": null,
            "height": null,
            "justify_content": null,
            "justify_items": null,
            "left": null,
            "margin": null,
            "max_height": null,
            "max_width": null,
            "min_height": null,
            "min_width": null,
            "object_fit": null,
            "object_position": null,
            "order": null,
            "overflow": null,
            "overflow_x": null,
            "overflow_y": null,
            "padding": null,
            "right": null,
            "top": null,
            "visibility": null,
            "width": null
          }
        },
        "4140544089804726abbc80b15e8e8b8d": {
          "model_module": "@jupyter-widgets/controls",
          "model_name": "DescriptionStyleModel",
          "model_module_version": "1.5.0",
          "state": {
            "_model_module": "@jupyter-widgets/controls",
            "_model_module_version": "1.5.0",
            "_model_name": "DescriptionStyleModel",
            "_view_count": null,
            "_view_module": "@jupyter-widgets/base",
            "_view_module_version": "1.2.0",
            "_view_name": "StyleView",
            "description_width": ""
          }
        },
        "9fcf64d5b8834dd2865c40e4118c38d7": {
          "model_module": "@jupyter-widgets/base",
          "model_name": "LayoutModel",
          "model_module_version": "1.2.0",
          "state": {
            "_model_module": "@jupyter-widgets/base",
            "_model_module_version": "1.2.0",
            "_model_name": "LayoutModel",
            "_view_count": null,
            "_view_module": "@jupyter-widgets/base",
            "_view_module_version": "1.2.0",
            "_view_name": "LayoutView",
            "align_content": null,
            "align_items": null,
            "align_self": null,
            "border": null,
            "bottom": null,
            "display": null,
            "flex": null,
            "flex_flow": null,
            "grid_area": null,
            "grid_auto_columns": null,
            "grid_auto_flow": null,
            "grid_auto_rows": null,
            "grid_column": null,
            "grid_gap": null,
            "grid_row": null,
            "grid_template_areas": null,
            "grid_template_columns": null,
            "grid_template_rows": null,
            "height": null,
            "justify_content": null,
            "justify_items": null,
            "left": null,
            "margin": null,
            "max_height": null,
            "max_width": null,
            "min_height": null,
            "min_width": null,
            "object_fit": null,
            "object_position": null,
            "order": null,
            "overflow": null,
            "overflow_x": null,
            "overflow_y": null,
            "padding": null,
            "right": null,
            "top": null,
            "visibility": null,
            "width": null
          }
        },
        "7da2850e0b4641fb9110e2ff1692079b": {
          "model_module": "@jupyter-widgets/controls",
          "model_name": "ProgressStyleModel",
          "model_module_version": "1.5.0",
          "state": {
            "_model_module": "@jupyter-widgets/controls",
            "_model_module_version": "1.5.0",
            "_model_name": "ProgressStyleModel",
            "_view_count": null,
            "_view_module": "@jupyter-widgets/base",
            "_view_module_version": "1.2.0",
            "_view_name": "StyleView",
            "bar_color": null,
            "description_width": ""
          }
        },
        "13308dead3f6465c9b638c4ea7fca9b0": {
          "model_module": "@jupyter-widgets/base",
          "model_name": "LayoutModel",
          "model_module_version": "1.2.0",
          "state": {
            "_model_module": "@jupyter-widgets/base",
            "_model_module_version": "1.2.0",
            "_model_name": "LayoutModel",
            "_view_count": null,
            "_view_module": "@jupyter-widgets/base",
            "_view_module_version": "1.2.0",
            "_view_name": "LayoutView",
            "align_content": null,
            "align_items": null,
            "align_self": null,
            "border": null,
            "bottom": null,
            "display": null,
            "flex": null,
            "flex_flow": null,
            "grid_area": null,
            "grid_auto_columns": null,
            "grid_auto_flow": null,
            "grid_auto_rows": null,
            "grid_column": null,
            "grid_gap": null,
            "grid_row": null,
            "grid_template_areas": null,
            "grid_template_columns": null,
            "grid_template_rows": null,
            "height": null,
            "justify_content": null,
            "justify_items": null,
            "left": null,
            "margin": null,
            "max_height": null,
            "max_width": null,
            "min_height": null,
            "min_width": null,
            "object_fit": null,
            "object_position": null,
            "order": null,
            "overflow": null,
            "overflow_x": null,
            "overflow_y": null,
            "padding": null,
            "right": null,
            "top": null,
            "visibility": null,
            "width": null
          }
        },
        "7f711158ff514e22bd40af458b20a19b": {
          "model_module": "@jupyter-widgets/controls",
          "model_name": "DescriptionStyleModel",
          "model_module_version": "1.5.0",
          "state": {
            "_model_module": "@jupyter-widgets/controls",
            "_model_module_version": "1.5.0",
            "_model_name": "DescriptionStyleModel",
            "_view_count": null,
            "_view_module": "@jupyter-widgets/base",
            "_view_module_version": "1.2.0",
            "_view_name": "StyleView",
            "description_width": ""
          }
        }
      }
    }
  },
  "nbformat": 4,
  "nbformat_minor": 0
}